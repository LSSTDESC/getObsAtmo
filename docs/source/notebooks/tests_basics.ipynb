{
 "cells": [
  {
   "cell_type": "markdown",
   "id": "0",
   "metadata": {},
   "source": [
    "# Basic tests\n",
    "\n",
    "- author : Sylvie Dagoret-Campagne\n",
    "- affiliation : IJCLab/IN2P3/CNRS\n",
    "- creation date : 2023/11/01\n",
    "- update : 2024/08/27\n",
    "- last update : 2025/06/15\n",
    "- last update : 2025/10/15 : getObsAtmo version 0.2.0"
   ]
  },
  {
   "cell_type": "code",
   "execution_count": 1,
   "id": "1",
   "metadata": {},
   "outputs": [],
   "source": [
    "import getObsAtmo\n",
    "from getObsAtmo.getObsAtmo import ObsAtmo,Dict_Of_sitesPressures,_getPackageDir,get_obssite_dataframe,get_obssite_keys,is_obssite"
   ]
  },
  {
   "cell_type": "markdown",
   "id": "2",
   "metadata": {},
   "source": [
    "### Check getObsAtmo version"
   ]
  },
  {
   "cell_type": "code",
   "execution_count": 2,
   "id": "3",
   "metadata": {},
   "outputs": [
    {
     "name": "stdout",
     "output_type": "stream",
     "text": [
      "getObsAtmo version 0.2.1\n"
     ]
    }
   ],
   "source": [
    "print(f\"{getObsAtmo.__name__} version {getObsAtmo._version.__version__}\")"
   ]
  },
  {
   "cell_type": "markdown",
   "id": "4",
   "metadata": {},
   "source": [
    "### Check package path"
   ]
  },
  {
   "cell_type": "code",
   "execution_count": 3,
   "id": "5",
   "metadata": {},
   "outputs": [
    {
     "data": {
      "text/plain": [
       "'/Users/dagoret/MacOSX/GitHub/LSST/2025/getObsAtmo/getObsAtmo'"
      ]
     },
     "execution_count": 3,
     "metadata": {},
     "output_type": "execute_result"
    }
   ],
   "source": [
    "_getPackageDir()"
   ]
  },
  {
   "cell_type": "markdown",
   "id": "6",
   "metadata": {},
   "source": [
    "### Check Data"
   ]
  },
  {
   "cell_type": "code",
   "execution_count": 4,
   "id": "7",
   "metadata": {
    "tags": []
   },
   "outputs": [
    {
     "data": {
      "text/plain": [
       "{'LSST': 731.50433,\n",
       " 'CTIO': 774.6052,\n",
       " 'OHP': 937.22595,\n",
       " 'ZTF': 823.60004,\n",
       " 'VLT': 734.08038,\n",
       " 'PDM': 710.90637,\n",
       " 'OMK': 600.17224,\n",
       " 'OSL': 1013.0}"
      ]
     },
     "execution_count": 4,
     "metadata": {},
     "output_type": "execute_result"
    }
   ],
   "source": [
    "Dict_Of_sitesPressures"
   ]
  },
  {
   "cell_type": "markdown",
   "id": "8",
   "metadata": {},
   "source": [
    "### Pandas dataframe including the observatories in the package"
   ]
  },
  {
   "cell_type": "code",
   "execution_count": 5,
   "id": "9",
   "metadata": {},
   "outputs": [
    {
     "name": "stdout",
     "output_type": "stream",
     "text": [
      "     altitude   pressure\n",
      "LSST    2.663  731.50433\n",
      "CTIO    2.207   774.6052\n",
      "OHP      0.65  937.22595\n",
      "ZTF     1.712  823.60004\n",
      "VLT     2.635  734.08038\n",
      "PDM    2.8905  710.90637\n",
      "OMK     4.205  600.17224\n",
      "OSL       0.0     1013.0\n"
     ]
    }
   ],
   "source": [
    "print(get_obssite_dataframe())"
   ]
  },
  {
   "cell_type": "code",
   "execution_count": 6,
   "id": "10",
   "metadata": {},
   "outputs": [],
   "source": [
    "df = get_obssite_dataframe()"
   ]
  },
  {
   "cell_type": "code",
   "execution_count": 7,
   "id": "11",
   "metadata": {},
   "outputs": [
    {
     "data": {
      "text/plain": [
       "Index(['LSST', 'CTIO', 'OHP', 'ZTF', 'VLT', 'PDM', 'OMK', 'OSL'], dtype='object')"
      ]
     },
     "execution_count": 7,
     "metadata": {},
     "output_type": "execute_result"
    }
   ],
   "source": [
    "df.index"
   ]
  },
  {
   "cell_type": "code",
   "execution_count": 8,
   "id": "12",
   "metadata": {},
   "outputs": [
    {
     "data": {
      "text/plain": [
       "0     True\n",
       "1    False\n",
       "2    False\n",
       "3    False\n",
       "4    False\n",
       "5    False\n",
       "6    False\n",
       "7    False\n",
       "dtype: bool"
      ]
     },
     "execution_count": 8,
     "metadata": {},
     "output_type": "execute_result"
    }
   ],
   "source": [
    "get_obssite_keys('lsst')"
   ]
  },
  {
   "cell_type": "markdown",
   "id": "13",
   "metadata": {},
   "source": [
    "### Check labels"
   ]
  },
  {
   "cell_type": "code",
   "execution_count": 9,
   "id": "14",
   "metadata": {},
   "outputs": [],
   "source": [
    "label = \"LSST\""
   ]
  },
  {
   "cell_type": "code",
   "execution_count": 10,
   "id": "15",
   "metadata": {},
   "outputs": [
    {
     "data": {
      "text/plain": [
       "True"
      ]
     },
     "execution_count": 10,
     "metadata": {},
     "output_type": "execute_result"
    }
   ],
   "source": [
    "is_obssite('LSST')"
   ]
  },
  {
   "cell_type": "code",
   "execution_count": 11,
   "id": "16",
   "metadata": {},
   "outputs": [
    {
     "data": {
      "text/plain": [
       "True"
      ]
     },
     "execution_count": 11,
     "metadata": {},
     "output_type": "execute_result"
    }
   ],
   "source": [
    "is_obssite('AUXTEL')"
   ]
  },
  {
   "cell_type": "markdown",
   "id": "17",
   "metadata": {},
   "source": [
    "### Check emul"
   ]
  },
  {
   "cell_type": "code",
   "execution_count": 12,
   "id": "18",
   "metadata": {},
   "outputs": [],
   "source": [
    "emul =  ObsAtmo('LSST')"
   ]
  },
  {
   "cell_type": "code",
   "execution_count": 13,
   "id": "19",
   "metadata": {},
   "outputs": [
    {
     "data": {
      "text/plain": [
       "'Atmospheric emulator ObsAtmo for observation site LSST'"
      ]
     },
     "execution_count": 13,
     "metadata": {},
     "output_type": "execute_result"
    }
   ],
   "source": [
    "emul.Name"
   ]
  },
  {
   "cell_type": "code",
   "execution_count": 14,
   "id": "20",
   "metadata": {},
   "outputs": [],
   "source": [
    "emul =  ObsAtmo('CTIO')"
   ]
  },
  {
   "cell_type": "code",
   "execution_count": 15,
   "id": "21",
   "metadata": {},
   "outputs": [
    {
     "data": {
      "text/plain": [
       "'Atmospheric emulator ObsAtmo for observation site CTIO'"
      ]
     },
     "execution_count": 15,
     "metadata": {},
     "output_type": "execute_result"
    }
   ],
   "source": [
    "emul.Name"
   ]
  },
  {
   "cell_type": "code",
   "execution_count": 16,
   "id": "22",
   "metadata": {},
   "outputs": [],
   "source": [
    "emul =  ObsAtmo('LSST',743.0)"
   ]
  },
  {
   "cell_type": "code",
   "execution_count": 17,
   "id": "23",
   "metadata": {},
   "outputs": [
    {
     "data": {
      "text/plain": [
       "'Atmospheric emulator ObsAtmo for observation site LSST'"
      ]
     },
     "execution_count": 17,
     "metadata": {},
     "output_type": "execute_result"
    }
   ],
   "source": [
    "emul.Name"
   ]
  },
  {
   "cell_type": "code",
   "execution_count": 18,
   "id": "24",
   "metadata": {},
   "outputs": [],
   "source": [
    "emul =  ObsAtmo('AuxTel',743.0)"
   ]
  },
  {
   "cell_type": "code",
   "execution_count": 19,
   "id": "25",
   "metadata": {},
   "outputs": [
    {
     "data": {
      "text/plain": [
       "'Atmospheric emulator ObsAtmo for observation site LSST'"
      ]
     },
     "execution_count": 19,
     "metadata": {},
     "output_type": "execute_result"
    }
   ],
   "source": [
    "emul.Name"
   ]
  },
  {
   "cell_type": "markdown",
   "id": "26",
   "metadata": {},
   "source": [
    "### Check wavelengths"
   ]
  },
  {
   "cell_type": "code",
   "execution_count": 20,
   "id": "27",
   "metadata": {},
   "outputs": [],
   "source": [
    "wl = [400.,800.,900.]\n",
    "am=1.2\n",
    "pwv =4.0\n",
    "oz=300.\n",
    "transm = emul.GetAllTransparencies(wl,am,pwv,oz)"
   ]
  },
  {
   "cell_type": "code",
   "execution_count": 21,
   "id": "28",
   "metadata": {},
   "outputs": [
    {
     "name": "stdout",
     "output_type": "stream",
     "text": [
      "wavelengths (nm) \t =  [400.0, 800.0, 900.0]\n",
      "transmissions    \t =  [0.72485491 0.97330618 0.85675228]\n"
     ]
    }
   ],
   "source": [
    "    >>> print(\"wavelengths (nm) \\t = \",wl)\n",
    "    >>> print(\"transmissions    \\t = \",transm)    "
   ]
  },
  {
   "cell_type": "code",
   "execution_count": 22,
   "id": "29",
   "metadata": {},
   "outputs": [
    {
     "name": "stdout",
     "output_type": "stream",
     "text": [
      "[400.0, 800.0, 900.0]\n"
     ]
    }
   ],
   "source": [
    "print(wl)"
   ]
  },
  {
   "cell_type": "code",
   "execution_count": 23,
   "id": "30",
   "metadata": {},
   "outputs": [
    {
     "name": "stdout",
     "output_type": "stream",
     "text": [
      "[0.72485491 0.97330618 0.85675228]\n"
     ]
    }
   ],
   "source": [
    "print(transm)"
   ]
  },
  {
   "cell_type": "code",
   "execution_count": 24,
   "id": "31",
   "metadata": {},
   "outputs": [],
   "source": [
    "emul = ObsAtmo()\n",
    "array = emul.GetAllTransparencies([300.,400.,600.,800.,1000.],1,0,0)"
   ]
  },
  {
   "cell_type": "code",
   "execution_count": 25,
   "id": "32",
   "metadata": {},
   "outputs": [
    {
     "data": {
      "text/plain": [
       "array([0.41483073, 0.76797745, 0.95170851, 0.98476396, 0.9937721 ])"
      ]
     },
     "execution_count": 25,
     "metadata": {},
     "output_type": "execute_result"
    }
   ],
   "source": [
    "array"
   ]
  },
  {
   "cell_type": "markdown",
   "id": "33",
   "metadata": {},
   "source": [
    "### Knowledge about the data grid"
   ]
  },
  {
   "cell_type": "code",
   "execution_count": 26,
   "id": "34",
   "metadata": {},
   "outputs": [
    {
     "data": {
      "text/plain": [
       "array([300.        , 301.00125156, 302.00250313, 303.00375469,\n",
       "       304.00500626, 305.00625782, 306.00750939, 307.00876095,\n",
       "       308.01001252, 309.01126408])"
      ]
     },
     "execution_count": 26,
     "metadata": {},
     "output_type": "execute_result"
    }
   ],
   "source": [
    "emul.WL[0:10]"
   ]
  },
  {
   "cell_type": "code",
   "execution_count": 27,
   "id": "35",
   "metadata": {},
   "outputs": [
    {
     "data": {
      "text/plain": [
       "array([1090.98873592, 1091.98998748, 1092.99123905, 1093.99249061,\n",
       "       1094.99374218, 1095.99499374, 1096.99624531, 1097.99749687,\n",
       "       1098.99874844, 1100.        ])"
      ]
     },
     "execution_count": 27,
     "metadata": {},
     "output_type": "execute_result"
    }
   ],
   "source": [
    "emul.WL[-10:]"
   ]
  },
  {
   "cell_type": "code",
   "execution_count": 28,
   "id": "36",
   "metadata": {},
   "outputs": [
    {
     "data": {
      "text/plain": [
       "array([1. , 1.1, 1.2, 1.3, 1.4, 1.5, 1.6, 1.7, 1.8, 1.9, 2. , 2.1, 2.2,\n",
       "       2.3, 2.4, 2.5, 2.6])"
      ]
     },
     "execution_count": 28,
     "metadata": {},
     "output_type": "execute_result"
    }
   ],
   "source": [
    "emul.AIRMASS"
   ]
  },
  {
   "cell_type": "code",
   "execution_count": 29,
   "id": "37",
   "metadata": {},
   "outputs": [
    {
     "data": {
      "text/plain": [
       "array([ 0.  ,  0.25,  0.5 ,  0.75,  1.  ,  1.25,  1.5 ,  1.75,  2.  ,\n",
       "        2.25,  2.5 ,  2.75,  3.  ,  3.25,  3.5 ,  3.75,  4.  ,  4.25,\n",
       "        4.5 ,  4.75,  5.  ,  5.25,  5.5 ,  5.75,  6.  ,  6.25,  6.5 ,\n",
       "        6.75,  7.  ,  7.25,  7.5 ,  7.75,  8.  ,  8.25,  8.5 ,  8.75,\n",
       "        9.  ,  9.25,  9.5 ,  9.75, 10.  , 10.25, 10.5 , 10.75, 11.  ,\n",
       "       11.25, 11.5 , 11.75, 12.  , 12.25, 12.5 , 12.75, 13.  , 13.25,\n",
       "       13.5 , 13.75, 14.  , 14.25, 14.5 , 14.75, 15.  , 15.25, 15.5 ,\n",
       "       15.75, 16.  , 16.25, 16.5 , 16.75, 17.  , 17.25, 17.5 , 17.75,\n",
       "       18.  , 18.25, 18.5 , 18.75, 19.  , 19.25, 19.5 , 19.75, 20.  ,\n",
       "       20.25])"
      ]
     },
     "execution_count": 29,
     "metadata": {},
     "output_type": "execute_result"
    }
   ],
   "source": [
    "emul.PWV"
   ]
  },
  {
   "cell_type": "code",
   "execution_count": 30,
   "id": "38",
   "metadata": {},
   "outputs": [
    {
     "data": {
      "text/plain": [
       "array([  0.,  25.,  50.,  75., 100., 125., 150., 175., 200., 225., 250.,\n",
       "       275., 300., 325., 350., 375., 400., 425., 450., 475., 500., 525.,\n",
       "       550., 575., 600., 625.])"
      ]
     },
     "execution_count": 30,
     "metadata": {},
     "output_type": "execute_result"
    }
   ],
   "source": [
    "emul.OZ"
   ]
  },
  {
   "cell_type": "code",
   "execution_count": null,
   "id": "39",
   "metadata": {},
   "outputs": [],
   "source": []
  }
 ],
 "metadata": {
  "kernelspec": {
   "display_name": "conda_py312_getobsatmo",
   "language": "python",
   "name": "conda_py312_getobsatmo"
  },
  "language_info": {
   "codemirror_mode": {
    "name": "ipython",
    "version": 3
   },
   "file_extension": ".py",
   "mimetype": "text/x-python",
   "name": "python",
   "nbconvert_exporter": "python",
   "pygments_lexer": "ipython3",
   "version": "3.12.12"
  },
  "vscode": {
   "interpreter": {
    "hash": "b002c99f66c5bb850ebba7ae0c2124f7695114407038504fe88ddf9182cfa7d8"
   }
  }
 },
 "nbformat": 4,
 "nbformat_minor": 5
}
