{
 "cells": [
  {
   "cell_type": "markdown",
   "id": "5e1cfe34-ea38-4932-9dbc-1d6d58bb96ab",
   "metadata": {},
   "source": [
    "# Convert Json To Pickles"
   ]
  },
  {
   "cell_type": "markdown",
   "id": "aee46368-7fda-4d2b-bebc-d46e0d3c3e5c",
   "metadata": {},
   "source": [
    "- author : Sylvie Dagoret-Campagne\n",
    "- affiliation : IJCLab/IN2P3/CNRS\n",
    "- creation date : 2025/10/15\n",
    "- last update : 2025/10/15 : getObsAtmo version 0.2.0"
   ]
  },
  {
   "cell_type": "code",
   "execution_count": null,
   "id": "38ad03b1-e1ff-4052-943d-62c3f8637701",
   "metadata": {},
   "outputs": [],
   "source": [
    "import os,sys\n",
    "import pickle\n",
    "import numpy as np\n",
    "import json\n",
    "import pandas as pd\n",
    "from typing import Any, Dict, Optional"
   ]
  },
  {
   "cell_type": "code",
   "execution_count": null,
   "id": "cb866fc9-3fe0-4f2d-a445-3adb35baa0aa",
   "metadata": {},
   "outputs": [],
   "source": [
    "import getObsAtmo\n",
    "from getObsAtmo.getObsAtmo import ObsAtmo,validateObsName,Dict_Of_sitesPressures,_getPackageDir,get_obssite_dataframe,get_obssite_keys,is_obssite\n",
    "from getObsAtmo.getObsAtmo import convert_dict_to_json,convert_json_to_dict"
   ]
  },
  {
   "cell_type": "code",
   "execution_count": null,
   "id": "52d957d4-c066-4b82-a068-bf08b4b111f0",
   "metadata": {},
   "outputs": [],
   "source": [
    "__all__ = ['Dict_Of_sitesAltitudes',\n",
    "           'Dict_Of_sitesPressures',\n",
    "           'Dict_Of_sitesAliases',\n",
    "           'file_data_dict',\n",
    "           '_getPackageDir',\n",
    "           'get_obssite_keys',\n",
    "           'sanitizeString',\n",
    "           'validateObsName', \n",
    "           'is_obssite', \n",
    "           'ObsAtmo','ObsAtmoPressure','ObsAtmoGrid']"
   ]
  },
  {
   "cell_type": "code",
   "execution_count": null,
   "id": "42b133c3-290f-4d66-9e31-8ae79f96c228",
   "metadata": {},
   "outputs": [],
   "source": [
    "file_data_dict = {\n",
    "    \"info\": \"atmospherictransparencygrid_params.json\",\n",
    "    \"data_rayleigh\": \"atmospherictransparencygrid_rayleigh.npy\",\n",
    "    \"data_o2abs\": \"atmospherictransparencygrid_O2abs.npy\",\n",
    "    \"data_pwvabs\": \"atmospherictransparencygrid_PWVabs.npy\",\n",
    "    \"data_ozabs\": \"atmospherictransparencygrid_OZabs.npy\",\n",
    "}"
   ]
  },
  {
   "cell_type": "markdown",
   "id": "5821cc93-981c-4908-992b-611877e33d81",
   "metadata": {},
   "source": [
    "## Config"
   ]
  },
  {
   "cell_type": "markdown",
   "id": "e01ae957-1010-4579-85f3-34d4d0a04fd2",
   "metadata": {},
   "source": [
    "### version"
   ]
  },
  {
   "cell_type": "code",
   "execution_count": null,
   "id": "4cd58237-b559-41c3-8f9a-a0153d9dbb1b",
   "metadata": {},
   "outputs": [],
   "source": [
    "print(f\"{getObsAtmo.__name__} version {getObsAtmo._version.__version__}\")"
   ]
  },
  {
   "cell_type": "markdown",
   "id": "f8bad0e9-0168-4015-ab4a-2c61db8afab5",
   "metadata": {},
   "source": [
    "### Observatories"
   ]
  },
  {
   "cell_type": "code",
   "execution_count": null,
   "id": "812abdcc-db44-42ca-bfe0-6af7562953d5",
   "metadata": {},
   "outputs": [],
   "source": [
    "#all_OBS_tag = ['CTIO','OSL','LSST','PDM','OHP','VLT','OMK','ZTF']\n",
    "df = get_obssite_dataframe()\n",
    "all_OBS_tag = df.index "
   ]
  },
  {
   "cell_type": "markdown",
   "id": "e8869af2-1ef1-4d4e-a2d2-4ce6a2fd9471",
   "metadata": {},
   "source": [
    "### data path"
   ]
  },
  {
   "cell_type": "code",
   "execution_count": null,
   "id": "e2d5649b-adc6-4b17-a3a3-6d3356a618c7",
   "metadata": {},
   "outputs": [],
   "source": [
    "# construct the path of input data file\n",
    "path = os.path.join(_getPackageDir(), 'obsatmo_data')"
   ]
  },
  {
   "cell_type": "markdown",
   "id": "1b80bcf2-a75e-460e-8a9f-e7abca7e1395",
   "metadata": {},
   "source": [
    "## Generate files"
   ]
  },
  {
   "cell_type": "code",
   "execution_count": null,
   "id": "6732ea07-af75-4e95-9f3e-2899c67a97be",
   "metadata": {},
   "outputs": [],
   "source": [
    "for OBS_tag in all_OBS_tag:\n",
    "\n",
    "    info_params = {}\n",
    "\n",
    "    # load all data files (training and test)\n",
    "    input_filename = os.path.join(path, OBS_tag + \"_\" + file_data_dict[\"info\"])\n",
    "    output_filename = os.path.basename(input_filename).split(\".\")[0]+\".pickle\"\n",
    "\n",
    "    with open(input_filename, 'r') as f:\n",
    "        loaded_data_json = json.load(f)\n",
    "        data_dict = convert_json_to_dict(loaded_data_json)\n",
    "\n",
    "    with open(output_filename, \"wb\") as f:  # \"wb\" = write binary\n",
    "        pickle.dump(data_dict, f)\n",
    "\n",
    "    # load from pickle file\n",
    "    with open(output_filename, \"rb\") as f:  # \"rb\" = read binary\n",
    "        loaded_dict = pickle.load(f)\n"
   ]
  }
 ],
 "metadata": {
  "kernelspec": {
   "display_name": "conda_py312_getobsatmo",
   "language": "python",
   "name": "conda_py312_getobsatmo"
  },
  "language_info": {
   "codemirror_mode": {
    "name": "ipython",
    "version": 3
   },
   "file_extension": ".py",
   "mimetype": "text/x-python",
   "name": "python",
   "nbconvert_exporter": "python",
   "pygments_lexer": "ipython3",
   "version": "3.12.12"
  }
 },
 "nbformat": 4,
 "nbformat_minor": 5
}
