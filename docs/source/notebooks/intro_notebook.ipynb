{
 "cells": [
  {
   "cell_type": "markdown",
   "id": "bdd4c989-c1d0-4341-a3b1-9d18489fb6e9",
   "metadata": {},
   "source": [
    "# Introduction to getObsAtmo"
   ]
  },
  {
   "cell_type": "markdown",
   "id": "26ea8aa4-734d-42d4-b6c7-987aabc59012",
   "metadata": {},
   "source": [
    "- atuhor : Sylvie Dagoret-Campagne\n",
    "- affiliation : IJCLab/IN2P3/CNRS\n",
    "- creation date : 2025/10/17\n",
    "- last update : 2025/10/17 : getObsAtmo version 0.2.2"
   ]
  },
  {
   "cell_type": "markdown",
   "id": "188ac39b-a629-40bc-b191-63c8d81fbe22",
   "metadata": {},
   "source": [
    "**Goal** : Top page to access to notebooks"
   ]
  },
  {
   "cell_type": "markdown",
   "id": "d8719232-6a20-42db-b02f-5fd9ae3d72ca",
   "metadata": {},
   "source": [
    "## Notebook demonstrating the use of getObsAtmo"
   ]
  },
  {
   "cell_type": "markdown",
   "id": "86c11638-cb99-4cd8-94bc-341ee52b537a",
   "metadata": {},
   "source": [
    "- [demo_notebook.ipynb](demo_notebook.ipynb)"
   ]
  },
  {
   "cell_type": "markdown",
   "id": "f3854ccf-2acf-4e57-b823-643487cb214f",
   "metadata": {},
   "source": [
    "## Notebook showing the altitude of the different observatory sites defined in getObsAtmo\n",
    "\n",
    "- This notebook illustrates the use of the atmospheric analytical package `atmanalyticalmodels`"
   ]
  },
  {
   "cell_type": "markdown",
   "id": "828bf5d8-b32c-462c-abdd-377c51a44759",
   "metadata": {},
   "source": [
    "- [AtmosphericPressureDensityProfiles.ipynb](AtmosphericPressureDensityProfiles.ipynb)"
   ]
  },
  {
   "cell_type": "markdown",
   "id": "9888c00d-e45c-4703-bfa0-7452383fa6c4",
   "metadata": {},
   "source": [
    "## Notebook for comparing Rayleigh scattering with analytical model\n",
    "\n",
    "- This notebook illustrates the use of the atmospheric analytical package `atmanalyticalmodels`"
   ]
  },
  {
   "cell_type": "markdown",
   "id": "406664c3-fe5e-4b9f-83a1-7cd3a1fd7ace",
   "metadata": {},
   "source": [
    "- [compareRayleighScattAnalyticalModel_notebook.ipynb](compareRayleighScattAnalyticalModel_notebook.ipynb)"
   ]
  }
 ],
 "metadata": {
  "kernelspec": {
   "display_name": "conda_py312_getobsatmo",
   "language": "python",
   "name": "conda_py312_getobsatmo"
  },
  "language_info": {
   "codemirror_mode": {
    "name": "ipython",
    "version": 3
   },
   "file_extension": ".py",
   "mimetype": "text/x-python",
   "name": "python",
   "nbconvert_exporter": "python",
   "pygments_lexer": "ipython3",
   "version": "3.12.12"
  }
 },
 "nbformat": 4,
 "nbformat_minor": 5
}
