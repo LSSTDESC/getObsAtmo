{
 "cells": [
  {
   "cell_type": "markdown",
   "id": "d5d58322-4791-4bff-9c51-916d345e085e",
   "metadata": {},
   "source": [
    "# Ozone vs airmass\n",
    "\n",
    "- Goal check if files are filled correctly\n",
    "\n",
    "- author : Sylvie Dagoret-Campagne\n",
    "- affiliation : IJCLab/IN2P3/CNRS\n",
    "- creation date : 2024/11/17\n",
    "- last update : 2024/11/17\n"
   ]
  },
  {
   "cell_type": "code",
   "execution_count": null,
   "id": "eeb7872a-03c9-421f-8fd7-6ba5c508ff79",
   "metadata": {
    "tags": []
   },
   "outputs": [],
   "source": [
    "import seaborn as sns\n",
    "import matplotlib.pyplot as plt\n",
    "%matplotlib inline\n",
    "import numpy as np\n",
    "import os,sys\n",
    "import pickle\n",
    "# to enlarge the sizes\n",
    "params = {'legend.fontsize': 'large',\n",
    "          'figure.figsize': (10, 6),\n",
    "         'axes.labelsize': 'x-large',\n",
    "         'axes.titlesize':'x-large',\n",
    "         'xtick.labelsize':'x-large',\n",
    "         'ytick.labelsize':'x-large'}\n",
    "plt.rcParams.update(params)"
   ]
  },
  {
   "cell_type": "code",
   "execution_count": null,
   "id": "276967f2-8c58-4110-83cf-aebc9b4ef95a",
   "metadata": {
    "tags": []
   },
   "outputs": [],
   "source": [
    "import warnings\n",
    "warnings.filterwarnings('ignore')"
   ]
  },
  {
   "cell_type": "markdown",
   "id": "b0a9c40d-f5f4-4aca-b4fa-de020205e534",
   "metadata": {},
   "source": [
    "# Imports"
   ]
  },
  {
   "cell_type": "code",
   "execution_count": null,
   "id": "829bf99d-0a00-4690-80fd-c3d7db6e3b3b",
   "metadata": {},
   "outputs": [],
   "source": [
    "import getObsAtmo as obs"
   ]
  },
  {
   "cell_type": "code",
   "execution_count": null,
   "id": "c566935b-8ef9-43f5-bba8-713cf6392e3d",
   "metadata": {},
   "outputs": [],
   "source": [
    "OBS_tag = 'LSST'"
   ]
  },
  {
   "cell_type": "code",
   "execution_count": null,
   "id": "2d1228f5-ccb3-40b1-8219-2deb25a31bb2",
   "metadata": {},
   "outputs": [],
   "source": [
    "obs.__path__"
   ]
  },
  {
   "cell_type": "code",
   "execution_count": null,
   "id": "5f685430-bb32-4285-b556-20db4a226faf",
   "metadata": {},
   "outputs": [],
   "source": [
    "from getObsAtmo.getObsAtmo import ObsAtmo,Dict_Of_sitesPressures,getObsSiteDataFrame,_getPackageDir"
   ]
  },
  {
   "cell_type": "code",
   "execution_count": null,
   "id": "fdf3e2c6-6015-4462-a07a-859f4e5eb0d7",
   "metadata": {},
   "outputs": [],
   "source": [
    "\n",
    "__all__ = ['Dict_Of_sitesAltitudes',\n",
    "           'Dict_Of_sitesPressures',\n",
    "           'Dict_Of_sitesAliases',\n",
    "           'file_data_dict',\n",
    "           '_getPackageDir',\n",
    "           'get_obssite_keys',\n",
    "           'sanitizeString',\n",
    "           'validateObsName', \n",
    "           'is_obssite', \n",
    "           'ObsAtmo','ObsAtmoPressure','ObsAtmoGrid']\n",
    "\n",
    "\n",
    "# preselected sites\n",
    "Dict_Of_sitesAltitudes = {'LSST': 2.663,\n",
    "                          'CTIO': 2.207,\n",
    "                          'OHP': 0.65,\n",
    "                          'PDM': 2.8905,\n",
    "                          'OMK': 4.205,\n",
    "                          'OSL': 0.000,\n",
    "                          }\n",
    "# pressure calculated by libradtran\n",
    "Dict_Of_sitesPressures = {'LSST': 731.50433,\n",
    "                          'CTIO': 774.6052,\n",
    "                          'OHP': 937.22595,\n",
    "                          'PDM': 710.90637,\n",
    "                          'OMK': 600.17224,\n",
    "                          'OSL': 1013.000,\n",
    "                          }\n",
    "\n",
    "Dict_Of_sitesAliases = {'LSST': ['Rubin','Rubin Observatory','Auxtel'],\n",
    "                        'CTIO': [\"Cerro Tololo\"],\n",
    "                        'OHP': [\"Observatoire de Haute Provence\"],\n",
    "                        'PDM': [\"Pic du Midi\",\"Observatoire du Pic du Midi\"],\n",
    "                        'OMK': [\"Mauna Kea\",\"Mauna Kea Observatory\"],\n",
    "                        'OSL': [\"Sea Level\",\"Sea Level Observatory\"]\n",
    "                        }\n",
    "\n",
    "file_data_dict = {\n",
    "    \"info\": \"atmospherictransparencygrid_params.pickle\",\n",
    "    \"data_rayleigh\": \"atmospherictransparencygrid_rayleigh.npy\",\n",
    "    \"data_o2abs\": \"atmospherictransparencygrid_O2abs.npy\",\n",
    "    \"data_pwvabs\": \"atmospherictransparencygrid_PWVabs.npy\",\n",
    "    \"data_ozabs\": \"atmospherictransparencygrid_OZabs.npy\",\n",
    "}"
   ]
  },
  {
   "cell_type": "code",
   "execution_count": null,
   "id": "8206aaa2-cd57-4fc0-9a65-6efd1861178d",
   "metadata": {},
   "outputs": [],
   "source": [
    "# construct the path of input data file\n",
    "path = os.path.join(_getPackageDir(), '../obsatmo_data')\n",
    "info_params = {}\n",
    "\n",
    "# load all data files (training and test)\n",
    "filename = os.path.join(path, OBS_tag + \"_\" + file_data_dict[\"info\"])\n",
    "with open(filename, 'rb') as f:\n",
    "    info_params = pickle.load(f)\n",
    "\n",
    "data_rayleigh = np.load(os.path.join(path, OBS_tag + \"_\" + file_data_dict[\"data_rayleigh\"]))\n",
    "data_O2abs = np.load(os.path.join(path, OBS_tag + \"_\" + file_data_dict[\"data_o2abs\"]))\n",
    "data_PWVabs = np.load(os.path.join(path, OBS_tag + \"_\" + file_data_dict[\"data_pwvabs\"]))\n",
    "data_OZabs = np.load(os.path.join(path, OBS_tag + \"_\" + file_data_dict[\"data_ozabs\"]))"
   ]
  },
  {
   "cell_type": "code",
   "execution_count": null,
   "id": "6f633d36-06db-4c0f-9b80-b890836bff6f",
   "metadata": {},
   "outputs": [],
   "source": [
    "# setup training dataset (those used for interpolation)\n",
    "WLMIN = info_params[\"WLMIN\"]\n",
    "WLMAX = info_params[\"WLMAX\"]\n",
    "WLBIN = info_params[\"WLBIN\"]\n",
    "NWLBIN = info_params['NWLBIN']\n",
    "WL     = info_params['WL']\n",
    "OBS = info_params['OBS']\n",
    "\n",
    "AIRMASSMIN = info_params['AIRMASSMIN']\n",
    "AIRMASSMAX = info_params['AIRMASSMAX']\n",
    "NAIRMASS = info_params['NAIRMASS']\n",
    "DAIRMASS = info_params['DAIRMASS']\n",
    "AIRMASS = info_params['AIRMASS']\n",
    "\n",
    "PWVMIN = info_params['PWVMIN']\n",
    "PWVMAX = info_params['PWVMAX']\n",
    "NPWV = info_params['NPWV']\n",
    "DPWV = info_params['DPWV']\n",
    "PWV = info_params['PWV']\n",
    "\n",
    "OZMIN = info_params['OZMIN']\n",
    "OZMAX = info_params['OZMAX']\n",
    "NOZ = info_params['NOZ']\n",
    "DOZ = info_params['DOZ']\n",
    "OZ = info_params['OZ']\n"
   ]
  },
  {
   "cell_type": "code",
   "execution_count": null,
   "id": "421c4427-07eb-4251-8814-3486bed219a9",
   "metadata": {},
   "outputs": [],
   "source": [
    "data_PWVabs.shape"
   ]
  },
  {
   "cell_type": "code",
   "execution_count": null,
   "id": "baafc31c-a20f-49b0-8b5f-49b639f90004",
   "metadata": {},
   "outputs": [],
   "source": [
    "data_PWVabs.min()"
   ]
  },
  {
   "cell_type": "markdown",
   "id": "ae725422-ec9e-4ee4-bc95-012499cf117c",
   "metadata": {},
   "source": [
    "# Check information"
   ]
  },
  {
   "cell_type": "code",
   "execution_count": null,
   "id": "8bf39dcb-64b2-4ef9-a34e-5066d58c7959",
   "metadata": {
    "tags": []
   },
   "outputs": [],
   "source": [
    "Dict_Of_sitesPressures"
   ]
  },
  {
   "cell_type": "markdown",
   "id": "632dafeb-3ab5-4249-a035-729ed239485e",
   "metadata": {},
   "source": [
    "### Choose Rubin-LSST observation sites but other sites may be chosen"
   ]
  },
  {
   "cell_type": "code",
   "execution_count": null,
   "id": "3651e0ba-0e55-4109-8f85-0ab083251b90",
   "metadata": {
    "tags": []
   },
   "outputs": [],
   "source": [
    "obs_str = 'LSST'"
   ]
  },
  {
   "cell_type": "code",
   "execution_count": null,
   "id": "20c662f8-d964-4b92-bfb5-a9e14a4e3e9b",
   "metadata": {},
   "outputs": [],
   "source": [
    "emul =  ObsAtmo(obs_str=obs_str)"
   ]
  },
  {
   "cell_type": "markdown",
   "id": "1070eded-26f6-4b27-abf9-c7bf9a08e89e",
   "metadata": {},
   "source": [
    "# Typical transmission plot\n",
    "\n",
    "- show a typical transmission plot"
   ]
  },
  {
   "cell_type": "code",
   "execution_count": null,
   "id": "6b7ea685-a3c4-4eae-895a-3ef8cca32436",
   "metadata": {},
   "outputs": [],
   "source": [
    "emul.plot_transmission()"
   ]
  },
  {
   "cell_type": "markdown",
   "id": "1949a817-9985-48b0-8735-e5bcf8e285a9",
   "metadata": {},
   "source": [
    "# Setting atmospheric parameters"
   ]
  },
  {
   "cell_type": "code",
   "execution_count": null,
   "id": "d93ddef0-1570-42a7-8ab2-edc8cf755d14",
   "metadata": {},
   "outputs": [],
   "source": [
    "WL = emul.GetWL()\n",
    "airmasses = emul.AIRMASS\n",
    "NAM = len(airmasses)\n",
    "pwvs = emul.PWV\n",
    "NPWV = len(pwvs)\n",
    "ozs = emul.OZ\n",
    "NOZ = len(ozs)"
   ]
  },
  {
   "cell_type": "code",
   "execution_count": null,
   "id": "43201a59-1fa5-4380-ab6d-72e54525cbc6",
   "metadata": {},
   "outputs": [],
   "source": [
    "hls_colors = sns.color_palette(\"hls\", NAM)\n",
    "sns.palplot(hls_colors)"
   ]
  },
  {
   "cell_type": "markdown",
   "id": "a3802a0a-42a2-4aab-8293-8be3d8bb9713",
   "metadata": {},
   "source": [
    "## Check emulator with Ozone absorption\n",
    "\n",
    "- expect no difference"
   ]
  },
  {
   "cell_type": "code",
   "execution_count": null,
   "id": "b025a29c-181c-4a61-ba6c-db908e7b1c63",
   "metadata": {},
   "outputs": [],
   "source": [
    "hls_colors = sns.color_palette(\"hls\", NOZ)\n",
    "sns.palplot(hls_colors)"
   ]
  },
  {
   "cell_type": "code",
   "execution_count": null,
   "id": "f588adf2-d3d2-482c-89e7-b89a1ba9258c",
   "metadata": {
    "tags": []
   },
   "outputs": [],
   "source": [
    "am =1\n",
    "\n",
    "fig, ax = plt.subplots()\n",
    "for idx,oz in enumerate(ozs):\n",
    "\n",
    "    transm = emul.GetOZabsTransparencyArray(WL,am,oz)\n",
    "\n",
    "    \n",
    "    if idx == 0:\n",
    "        ax.plot(WL,transm,\"-\",color=hls_colors[idx],label=\"\")\n",
    "    else:\n",
    "        ax.plot(WL,transm,\"-\",color=hls_colors[idx])\n",
    "     \n",
    "title = f\" ObsAtmo : Ozone absorption for different pressure, am = {am:.1f}\"\n",
    "ax.set_title(title)\n",
    "ax.set_xlabel(\"$\\lambda$ (nm)\")\n",
    "ax.set_ylabel(\"transmission\")\n",
    "ax.set_xlim(300.,800.)\n",
    "ax.set_ylim(0.9,1.0)\n",
    "# place a text box in upper left in axes coords\n",
    "#ax.text(0.5, 0.05, textboxstr, transform=ax.transAxes, fontsize=14,verticalalignment='bottom', bbox=textboxprops)\n",
    "ax.grid()\n",
    "ax.legend()\n",
    "plt.show()"
   ]
  },
  {
   "cell_type": "markdown",
   "id": "f862a840-733f-4215-a845-29a7a311ed7c",
   "metadata": {},
   "source": [
    "## Dependence with airmass"
   ]
  },
  {
   "cell_type": "code",
   "execution_count": null,
   "id": "fcdfb3ca-e785-4ed6-816c-913dfda27734",
   "metadata": {},
   "outputs": [],
   "source": [
    "WLtest = np.arange(400,850,50)\n",
    "NWLtest = len(WLtest)\n",
    "hls_colors = sns.color_palette(\"Spectral_r\", NWLtest)\n",
    "sns.palplot(hls_colors)"
   ]
  },
  {
   "cell_type": "code",
   "execution_count": null,
   "id": "91d059bc-f8d4-4a95-a254-c639a07095dc",
   "metadata": {},
   "outputs": [],
   "source": [
    "airmasses"
   ]
  },
  {
   "cell_type": "code",
   "execution_count": null,
   "id": "f94009a1-91e2-43be-aa69-d63d669b9938",
   "metadata": {},
   "outputs": [],
   "source": []
  },
  {
   "cell_type": "code",
   "execution_count": null,
   "id": "0953291c-8346-489b-98b4-af26743fcd14",
   "metadata": {},
   "outputs": [],
   "source": [
    "oz0=300.\n",
    "transmarray1 = np.zeros((NAM,NWLtest))\n",
    "for idx,airmass in enumerate(airmasses):\n",
    "    transmarray1[idx,:]  = emul.GetOZabsTransparencyArray(WLtest,airmass,oz0)\n",
    "for idx,airmass in enumerate(airmasses):\n",
    "     transmarray1[idx,:] =  transmarray1[idx,:]/transmarray1[0,:]"
   ]
  },
  {
   "cell_type": "code",
   "execution_count": null,
   "id": "d6558613-75a4-4c59-b1c5-86fe906a3c49",
   "metadata": {},
   "outputs": [],
   "source": [
    "oz0=600\n",
    "transmarray2 = np.zeros((NAM,NWLtest))\n",
    "for idx,airmass in enumerate(airmasses):\n",
    "    transmarray2[idx,:]  = emul.GetOZabsTransparencyArray(WLtest,airmass,oz0)\n",
    "for idx,airmass in enumerate(airmasses):\n",
    "     transmarray2[idx,:] =  transmarray2[idx,:]/transmarray2[0,:]"
   ]
  },
  {
   "cell_type": "code",
   "execution_count": null,
   "id": "88194ef1-6b57-4b68-958d-cc7a4a8c3179",
   "metadata": {},
   "outputs": [],
   "source": [
    "fig, ax = plt.subplots()\n",
    "for idx,wl in enumerate(WLtest):\n",
    "    color = hls_colors[idx]\n",
    "    label = \"$\\\\lambda$ = \"+f\"{wl:.0f} nm\"\n",
    "    ax.plot(airmasses,transmarray2[:,idx],'-o',color=color,lw=5,label=label)\n",
    "    ax.plot(airmasses,transmarray1[:,idx],':o',color=color,lw=5)\n",
    "ax.legend()\n",
    "ax.grid()\n",
    "ax.set_title(f\"Ozone attenuation with airmass for oz = 300 and 600 DU\")\n",
    "ax.set_ylabel(\"Ozone relative attenuation\")\n",
    "ax.set_xlabel(\"airmass\")\n",
    "ax.set_ylim(0.8,1.01)\n",
    "ax.set_xscale(\"log\")\n",
    "ax.set_yscale(\"log\")"
   ]
  },
  {
   "cell_type": "markdown",
   "id": "dbac3cf1-883a-44a5-b741-68ef3690c77f",
   "metadata": {},
   "source": [
    "## Fit"
   ]
  },
  {
   "cell_type": "code",
   "execution_count": null,
   "id": "73cb5552-d0e7-413b-ac14-3dd85d33cbf7",
   "metadata": {},
   "outputs": [],
   "source": [
    "xfit = np.linspace(np.log(airmasses).min(),np.log(airmasses).max(),50)\n",
    "fig, ax = plt.subplots()\n",
    "for idx,wl in enumerate(WLtest):\n",
    "    color = hls_colors[idx]\n",
    "    x = np.log(airmasses)\n",
    "    y = np.log(transmarray1[:,idx])\n",
    "    z = np.polyfit(x[2:], y[2:], deg=1)\n",
    "    p = np.poly1d(z)\n",
    "    gamma = z[0]\n",
    "    const = z[1]\n",
    "    label = \"$\\\\lambda$ = \"+f\"{wl:.0f} nm\"+ f\"fit : slope = {gamma:.3f} const = {const:.3f}\"\n",
    "    ax.plot(x,y,'-o',color=color,lw=5,label=label)\n",
    "    ax.plot(xfit,p(xfit),\":k\")\n",
    "   \n",
    "ax.legend()\n",
    "ax.grid()\n",
    "ax.set_title(f\"Ozone attenuation with airmass for oz = 300 DU\")\n",
    "ax.set_ylabel(\"Ozone relative attenuation\")\n",
    "ax.set_xlabel(\"airmass\")\n",
    "#ax.set_ylim(0.8,1.01)\n",
    "#ax.set_xlim(1,airmasses.max())\n",
    "#ax.set_xscale(\"log\")\n",
    "#ax.set_yscale(\"log\")"
   ]
  },
  {
   "cell_type": "code",
   "execution_count": null,
   "id": "2733ac74-4fe6-4945-9c19-ea77e82e9020",
   "metadata": {},
   "outputs": [],
   "source": [
    "xfit = np.linspace(np.log(airmasses).min(),np.log(airmasses).max(),50)\n",
    "fig, ax = plt.subplots()\n",
    "for idx,wl in enumerate(WLtest):\n",
    "    color = hls_colors[idx]\n",
    "    x = np.log(airmasses)\n",
    "    y = np.log(transmarray2[:,idx])\n",
    "    z = np.polyfit(x[2:], y[2:], deg=1)\n",
    "    p = np.poly1d(z)\n",
    "    gamma = z[0]\n",
    "    const = z[1]\n",
    "    label = \"$\\\\lambda$ = \"+f\"{wl:.0f} nm\"+ f\"fit : slope = {gamma:.3f} const = {const:.3f}\"\n",
    "    ax.plot(x,y,'-o',color=color,lw=5,label=label)\n",
    "    ax.plot(xfit,p(xfit),\":k\")\n",
    "   \n",
    "ax.legend()\n",
    "ax.grid()\n",
    "ax.set_title(f\"Ozone attenuation with airmass for oz = 600 DU\")\n",
    "ax.set_ylabel(\"Ozone relative attenuation\")\n",
    "ax.set_xlabel(\"airmass\")\n",
    "#ax.set_ylim(0.8,1.01)\n",
    "#ax.set_xlim(1,airmasses.max())\n",
    "#ax.set_xscale(\"log\")\n",
    "#ax.set_yscale(\"log\")"
   ]
  },
  {
   "cell_type": "code",
   "execution_count": null,
   "id": "fa917f9f-b161-447e-8606-68156378a9b9",
   "metadata": {},
   "outputs": [],
   "source": []
  }
 ],
 "metadata": {
  "kernelspec": {
   "display_name": "conda_py310",
   "language": "python",
   "name": "conda_py310"
  },
  "language_info": {
   "codemirror_mode": {
    "name": "ipython",
    "version": 3
   },
   "file_extension": ".py",
   "mimetype": "text/x-python",
   "name": "python",
   "nbconvert_exporter": "python",
   "pygments_lexer": "ipython3",
   "version": "3.10.12"
  },
  "vscode": {
   "interpreter": {
    "hash": "b002c99f66c5bb850ebba7ae0c2124f7695114407038504fe88ddf9182cfa7d8"
   }
  }
 },
 "nbformat": 4,
 "nbformat_minor": 5
}
