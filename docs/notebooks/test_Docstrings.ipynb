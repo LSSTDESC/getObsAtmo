{
 "cells": [
  {
   "cell_type": "markdown",
   "id": "d5d58322-4791-4bff-9c51-916d345e085e",
   "metadata": {},
   "source": [
    "# Test the Docstrings Pressure atmospheric transparency Emulator\n",
    "\n",
    "- author : Sylvie Dagoret-Campagne\n",
    "- affiliation : IJCLab/IN2P3/CNRS\n",
    "- creation date : 2023/11/01\n",
    "- last update : 2023/11/02\n"
   ]
  },
  {
   "cell_type": "code",
   "execution_count": 1,
   "id": "9bb23b04-5d1b-4393-8efa-b5553e973ac5",
   "metadata": {},
   "outputs": [],
   "source": [
    "from getObsAtmo.getObsAtmo import ObsAtmo,Dict_Of_sitesPressures,_getPackageDir,getObsSiteDataFrame,get_obssite_keys,is_obssite"
   ]
  },
  {
   "cell_type": "markdown",
   "id": "ae725422-ec9e-4ee4-bc95-012499cf117c",
   "metadata": {},
   "source": [
    "# Check path"
   ]
  },
  {
   "cell_type": "code",
   "execution_count": 2,
   "id": "bb4a4fcc-e721-455e-9719-1aff73573b02",
   "metadata": {},
   "outputs": [
    {
     "data": {
      "text/plain": [
       "'/Users/dagoret/anaconda3/envs/conda_py310/lib/python3.10/site-packages/getObsAtmo'"
      ]
     },
     "execution_count": 2,
     "metadata": {},
     "output_type": "execute_result"
    }
   ],
   "source": [
    "_getPackageDir()"
   ]
  },
  {
   "cell_type": "markdown",
   "id": "d576c2fb-daf7-4aa9-bf2c-cb5ccff91716",
   "metadata": {},
   "source": [
    "# Check Data"
   ]
  },
  {
   "cell_type": "code",
   "execution_count": 3,
   "id": "8bf39dcb-64b2-4ef9-a34e-5066d58c7959",
   "metadata": {
    "tags": []
   },
   "outputs": [
    {
     "data": {
      "text/plain": [
       "{'LSST': 731.50433,\n",
       " 'CTIO': 774.6052,\n",
       " 'OHP': 937.22595,\n",
       " 'PDM': 710.90637,\n",
       " 'OMK': 600.17224,\n",
       " 'OSL': 1013.0}"
      ]
     },
     "execution_count": 3,
     "metadata": {},
     "output_type": "execute_result"
    }
   ],
   "source": [
    "Dict_Of_sitesPressures"
   ]
  },
  {
   "cell_type": "markdown",
   "id": "5ecc7c4c-57ab-466e-94c1-eebaf61c3b2a",
   "metadata": {},
   "source": [
    "# List of observatory"
   ]
  },
  {
   "cell_type": "code",
   "execution_count": 4,
   "id": "c8e905f7-217b-4a94-9aa5-f666a182f446",
   "metadata": {},
   "outputs": [
    {
     "name": "stdout",
     "output_type": "stream",
     "text": [
      "     altitude   pressure\n",
      "LSST    2.663  731.50433\n",
      "CTIO    2.207   774.6052\n",
      "OHP      0.65  937.22595\n",
      "PDM    2.8905  710.90637\n",
      "OMK     4.205  600.17224\n",
      "OSL       0.0     1013.0\n"
     ]
    }
   ],
   "source": [
    "print(getObsSiteDataFrame())"
   ]
  },
  {
   "cell_type": "code",
   "execution_count": 5,
   "id": "bd14d37f-e514-4061-9d71-3cc5009971a4",
   "metadata": {},
   "outputs": [],
   "source": [
    "df = getObsSiteDataFrame()"
   ]
  },
  {
   "cell_type": "code",
   "execution_count": 6,
   "id": "fc3b2bc0-8588-4311-a98a-246bd3f571b1",
   "metadata": {},
   "outputs": [
    {
     "data": {
      "text/plain": [
       "Index(['LSST', 'CTIO', 'OHP', 'PDM', 'OMK', 'OSL'], dtype='object')"
      ]
     },
     "execution_count": 6,
     "metadata": {},
     "output_type": "execute_result"
    }
   ],
   "source": [
    "df.index"
   ]
  },
  {
   "cell_type": "code",
   "execution_count": 7,
   "id": "88329e10-d9f2-4a64-9aaa-37f3c4aa3930",
   "metadata": {},
   "outputs": [
    {
     "data": {
      "text/plain": [
       "0     True\n",
       "1    False\n",
       "2    False\n",
       "3    False\n",
       "4    False\n",
       "5    False\n",
       "dtype: bool"
      ]
     },
     "execution_count": 7,
     "metadata": {},
     "output_type": "execute_result"
    }
   ],
   "source": [
    "get_obssite_keys('lsst')"
   ]
  },
  {
   "cell_type": "code",
   "execution_count": 8,
   "id": "c1a142e8-4c15-41be-a427-5f421340ca2f",
   "metadata": {},
   "outputs": [],
   "source": [
    "label = \"LSST\""
   ]
  },
  {
   "cell_type": "code",
   "execution_count": 9,
   "id": "5340a52e-3266-425f-b81e-84b5490ac39d",
   "metadata": {},
   "outputs": [
    {
     "data": {
      "text/plain": [
       "True"
      ]
     },
     "execution_count": 9,
     "metadata": {},
     "output_type": "execute_result"
    }
   ],
   "source": [
    "is_obssite('LSST')"
   ]
  },
  {
   "cell_type": "code",
   "execution_count": 25,
   "id": "fe6a9e77-e4b3-4f4c-aacd-4ae2276fbc3c",
   "metadata": {},
   "outputs": [
    {
     "data": {
      "text/plain": [
       "True"
      ]
     },
     "execution_count": 25,
     "metadata": {},
     "output_type": "execute_result"
    }
   ],
   "source": [
    "is_obssite('AUXTEL')"
   ]
  },
  {
   "cell_type": "markdown",
   "id": "ffdf977e-2f4e-46aa-bb56-93f880cf0e95",
   "metadata": {},
   "source": [
    "# Check emul"
   ]
  },
  {
   "cell_type": "code",
   "execution_count": 10,
   "id": "14394583-3853-4c06-bdcb-79dfd6946932",
   "metadata": {},
   "outputs": [
    {
     "name": "stdout",
     "output_type": "stream",
     "text": [
      "LSST is OK\n"
     ]
    }
   ],
   "source": [
    "emul =  ObsAtmo()"
   ]
  },
  {
   "cell_type": "code",
   "execution_count": 11,
   "id": "92c82ec3-f9b1-4cae-9624-f418658ed1dd",
   "metadata": {},
   "outputs": [
    {
     "name": "stdout",
     "output_type": "stream",
     "text": [
      "CTIO is OK\n"
     ]
    }
   ],
   "source": [
    "emul =  ObsAtmo('CTIO')"
   ]
  },
  {
   "cell_type": "code",
   "execution_count": 12,
   "id": "6ca0e88b-e605-4068-a144-ce77b1ba283c",
   "metadata": {},
   "outputs": [
    {
     "name": "stdout",
     "output_type": "stream",
     "text": [
      "LSST is OK\n"
     ]
    }
   ],
   "source": [
    " emul =  ObsAtmo('LSST',743.0)"
   ]
  },
  {
   "cell_type": "code",
   "execution_count": 26,
   "id": "74050069-a27d-4d6b-bae3-c02cba666274",
   "metadata": {},
   "outputs": [
    {
     "name": "stdout",
     "output_type": "stream",
     "text": [
      "LSST is OK\n"
     ]
    }
   ],
   "source": [
    "emul =  ObsAtmo('AuxTel',743.0)"
   ]
  },
  {
   "cell_type": "code",
   "execution_count": 13,
   "id": "7246be3c-f43c-41f0-892d-9728fbd2acbd",
   "metadata": {},
   "outputs": [
    {
     "data": {
      "text/plain": [
       "<getObsAtmo.getObsAtmo.ObsAtmo at 0x13f545c90>"
      ]
     },
     "execution_count": 13,
     "metadata": {},
     "output_type": "execute_result"
    }
   ],
   "source": [
    "emul"
   ]
  },
  {
   "cell_type": "code",
   "execution_count": 14,
   "id": "88c4ee68-99e9-482b-b59e-6ed90c367369",
   "metadata": {},
   "outputs": [],
   "source": [
    "wl = [400.,800.,900.]\n",
    "am=1.2\n",
    "pwv =4.0\n",
    "oz=300.\n",
    "transm = emul.GetAllTransparencies(wl,am,pwv,oz)"
   ]
  },
  {
   "cell_type": "code",
   "execution_count": 15,
   "id": "b6a0fda3-42ba-40ef-9e76-1fd6d206b975",
   "metadata": {},
   "outputs": [
    {
     "name": "stdout",
     "output_type": "stream",
     "text": [
      "wavelengths (nm) \t =  [400.0, 800.0, 900.0]\n",
      "transmissions    \t =  [0.72485491 0.97330618 0.85675228]\n"
     ]
    }
   ],
   "source": [
    "    >>> print(\"wavelengths (nm) \\t = \",wl)\n",
    "    >>> print(\"transmissions    \\t = \",transm)    "
   ]
  },
  {
   "cell_type": "code",
   "execution_count": 16,
   "id": "718fcef4-d72d-4e3f-8aa0-b4e5e49c6ce0",
   "metadata": {},
   "outputs": [
    {
     "name": "stdout",
     "output_type": "stream",
     "text": [
      "[400.0, 800.0, 900.0]\n"
     ]
    }
   ],
   "source": [
    "print(wl)"
   ]
  },
  {
   "cell_type": "code",
   "execution_count": 17,
   "id": "cdda946f-6f46-4355-b92c-c9043116596d",
   "metadata": {},
   "outputs": [
    {
     "name": "stdout",
     "output_type": "stream",
     "text": [
      "[0.72485491 0.97330618 0.85675228]\n"
     ]
    }
   ],
   "source": [
    "print(transm)"
   ]
  },
  {
   "cell_type": "code",
   "execution_count": 18,
   "id": "78f4cd88-f5df-4dc5-8164-ce7d564bbd00",
   "metadata": {},
   "outputs": [
    {
     "name": "stdout",
     "output_type": "stream",
     "text": [
      "LSST is OK\n"
     ]
    }
   ],
   "source": [
    "emul = ObsAtmo()\n",
    "array = emul.GetAllTransparencies([300.,400.,600.,800.,1000.],1,0,0)"
   ]
  },
  {
   "cell_type": "code",
   "execution_count": 19,
   "id": "4dba3df6-22b3-4420-acc7-11175373e3f8",
   "metadata": {},
   "outputs": [
    {
     "data": {
      "text/plain": [
       "array([0.41483073, 0.76797745, 0.95170851, 0.98476396, 0.9937721 ])"
      ]
     },
     "execution_count": 19,
     "metadata": {},
     "output_type": "execute_result"
    }
   ],
   "source": [
    "array"
   ]
  },
  {
   "cell_type": "markdown",
   "id": "5b0c15c0-e352-44c2-8a2b-7f42078a6a71",
   "metadata": {},
   "source": [
    "# Knowledge about grid"
   ]
  },
  {
   "cell_type": "code",
   "execution_count": 20,
   "id": "b7da7ff1-13ae-4b7b-aea4-1d3ae142c396",
   "metadata": {},
   "outputs": [
    {
     "data": {
      "text/plain": [
       "array([300.        , 301.00125156, 302.00250313, 303.00375469,\n",
       "       304.00500626, 305.00625782, 306.00750939, 307.00876095,\n",
       "       308.01001252, 309.01126408])"
      ]
     },
     "execution_count": 20,
     "metadata": {},
     "output_type": "execute_result"
    }
   ],
   "source": [
    "emul.WL[0:10]"
   ]
  },
  {
   "cell_type": "code",
   "execution_count": 21,
   "id": "e86e6616-6c97-4553-8ef9-3d8f49296b18",
   "metadata": {},
   "outputs": [
    {
     "data": {
      "text/plain": [
       "array([1090.98873592, 1091.98998748, 1092.99123905, 1093.99249061,\n",
       "       1094.99374218, 1095.99499374, 1096.99624531, 1097.99749687,\n",
       "       1098.99874844, 1100.        ])"
      ]
     },
     "execution_count": 21,
     "metadata": {},
     "output_type": "execute_result"
    }
   ],
   "source": [
    "emul.WL[-10:]"
   ]
  },
  {
   "cell_type": "code",
   "execution_count": 22,
   "id": "3f872c8e-f5a7-45d0-b8f4-117908978355",
   "metadata": {},
   "outputs": [
    {
     "data": {
      "text/plain": [
       "array([1. , 1.1, 1.2, 1.3, 1.4, 1.5, 1.6, 1.7, 1.8, 1.9, 2. , 2.1, 2.2,\n",
       "       2.3, 2.4, 2.5])"
      ]
     },
     "execution_count": 22,
     "metadata": {},
     "output_type": "execute_result"
    }
   ],
   "source": [
    "emul.AIRMASS"
   ]
  },
  {
   "cell_type": "code",
   "execution_count": 23,
   "id": "3cf35430-a16a-4f28-a5cc-a6f70da0a503",
   "metadata": {},
   "outputs": [
    {
     "data": {
      "text/plain": [
       "array([ 0.  ,  0.25,  0.5 ,  0.75,  1.  ,  1.25,  1.5 ,  1.75,  2.  ,\n",
       "        2.25,  2.5 ,  2.75,  3.  ,  3.25,  3.5 ,  3.75,  4.  ,  4.25,\n",
       "        4.5 ,  4.75,  5.  ,  5.25,  5.5 ,  5.75,  6.  ,  6.25,  6.5 ,\n",
       "        6.75,  7.  ,  7.25,  7.5 ,  7.75,  8.  ,  8.25,  8.5 ,  8.75,\n",
       "        9.  ,  9.25,  9.5 ,  9.75, 10.  ])"
      ]
     },
     "execution_count": 23,
     "metadata": {},
     "output_type": "execute_result"
    }
   ],
   "source": [
    "emul.PWV"
   ]
  },
  {
   "cell_type": "code",
   "execution_count": 24,
   "id": "7dfbbbcc-9448-4798-b2eb-d999f63354d4",
   "metadata": {},
   "outputs": [
    {
     "data": {
      "text/plain": [
       "array([  0.,  25.,  50.,  75., 100., 125., 150., 175., 200., 225., 250.,\n",
       "       275., 300., 325., 350., 375., 400., 425., 450., 475., 500., 525.,\n",
       "       550., 575., 600.])"
      ]
     },
     "execution_count": 24,
     "metadata": {},
     "output_type": "execute_result"
    }
   ],
   "source": [
    "emul.OZ"
   ]
  },
  {
   "cell_type": "code",
   "execution_count": null,
   "id": "bfab8464-4967-43ab-8102-c3b153828189",
   "metadata": {},
   "outputs": [],
   "source": []
  }
 ],
 "metadata": {
  "kernelspec": {
   "display_name": "conda_py310",
   "language": "python",
   "name": "conda_py310"
  },
  "language_info": {
   "codemirror_mode": {
    "name": "ipython",
    "version": 3
   },
   "file_extension": ".py",
   "mimetype": "text/x-python",
   "name": "python",
   "nbconvert_exporter": "python",
   "pygments_lexer": "ipython3",
   "version": "3.10.12"
  },
  "vscode": {
   "interpreter": {
    "hash": "b002c99f66c5bb850ebba7ae0c2124f7695114407038504fe88ddf9182cfa7d8"
   }
  }
 },
 "nbformat": 4,
 "nbformat_minor": 5
}
