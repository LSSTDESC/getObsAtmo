{
 "cells": [
  {
   "cell_type": "markdown",
   "id": "d5d58322-4791-4bff-9c51-916d345e085e",
   "metadata": {},
   "source": [
    "# Test the Docstrings Pressure atmospheric transparency Emulator\n",
    "\n",
    "- author : Sylvie Dagoret-Campagne\n",
    "- affiliation : IJCLab/IN2P3/CNRS\n",
    "- creation date : 2023/11/01\n",
    "- last update : 2023/11/01\n"
   ]
  },
  {
   "cell_type": "code",
   "execution_count": 1,
   "id": "593c7f95-13c1-4ead-8403-446b5d5d2615",
   "metadata": {
    "tags": []
   },
   "outputs": [],
   "source": [
    "import numpy as np\n",
    "import pandas as pd\n",
    "import os\n",
    "from scipy import interpolate\n",
    "import seaborn as sns\n"
   ]
  },
  {
   "cell_type": "code",
   "execution_count": 2,
   "id": "9bb23b04-5d1b-4393-8efa-b5553e973ac5",
   "metadata": {},
   "outputs": [],
   "source": [
    "from getObsAtmo.getObsAtmo import ObsAtmo,Dict_Of_sitesPressures,_getPackageDir,getObsSiteDataFrame,get_obssite_keys,is_obssite"
   ]
  },
  {
   "cell_type": "markdown",
   "id": "ae725422-ec9e-4ee4-bc95-012499cf117c",
   "metadata": {},
   "source": [
    "# Check path"
   ]
  },
  {
   "cell_type": "code",
   "execution_count": 3,
   "id": "bb4a4fcc-e721-455e-9719-1aff73573b02",
   "metadata": {},
   "outputs": [
    {
     "data": {
      "text/plain": [
       "'/Users/dagoret/anaconda3/envs/conda_py310/lib/python3.10/site-packages/getObsAtmo-0.1.0-py3.10.egg/getObsAtmo'"
      ]
     },
     "execution_count": 3,
     "metadata": {},
     "output_type": "execute_result"
    }
   ],
   "source": [
    "_getPackageDir()"
   ]
  },
  {
   "cell_type": "markdown",
   "id": "d576c2fb-daf7-4aa9-bf2c-cb5ccff91716",
   "metadata": {},
   "source": [
    "# Check Data"
   ]
  },
  {
   "cell_type": "code",
   "execution_count": 4,
   "id": "8bf39dcb-64b2-4ef9-a34e-5066d58c7959",
   "metadata": {
    "tags": []
   },
   "outputs": [
    {
     "data": {
      "text/plain": [
       "{'LSST': 731.50433,\n",
       " 'CTIO': 774.6052,\n",
       " 'OHP': 937.22595,\n",
       " 'PDM': 710.90637,\n",
       " 'OMK': 600.17224,\n",
       " 'OSL': 1013.0}"
      ]
     },
     "execution_count": 4,
     "metadata": {},
     "output_type": "execute_result"
    }
   ],
   "source": [
    "Dict_Of_sitesPressures"
   ]
  },
  {
   "cell_type": "markdown",
   "id": "5ecc7c4c-57ab-466e-94c1-eebaf61c3b2a",
   "metadata": {},
   "source": [
    "# List of observatory"
   ]
  },
  {
   "cell_type": "code",
   "execution_count": 5,
   "id": "c8e905f7-217b-4a94-9aa5-f666a182f446",
   "metadata": {},
   "outputs": [
    {
     "name": "stdout",
     "output_type": "stream",
     "text": [
      "     altitude   pressure\n",
      "LSST    2.663  731.50433\n",
      "CTIO    2.207   774.6052\n",
      "OHP      0.65  937.22595\n",
      "PDM    2.8905  710.90637\n",
      "OMK     4.205  600.17224\n",
      "OSL       0.0     1013.0\n"
     ]
    }
   ],
   "source": [
    "print(getObsSiteDataFrame())"
   ]
  },
  {
   "cell_type": "code",
   "execution_count": 6,
   "id": "bd14d37f-e514-4061-9d71-3cc5009971a4",
   "metadata": {},
   "outputs": [],
   "source": [
    "df = getObsSiteDataFrame()"
   ]
  },
  {
   "cell_type": "code",
   "execution_count": 7,
   "id": "fc3b2bc0-8588-4311-a98a-246bd3f571b1",
   "metadata": {},
   "outputs": [
    {
     "data": {
      "text/plain": [
       "Index(['LSST', 'CTIO', 'OHP', 'PDM', 'OMK', 'OSL'], dtype='object')"
      ]
     },
     "execution_count": 7,
     "metadata": {},
     "output_type": "execute_result"
    }
   ],
   "source": [
    "df.index"
   ]
  },
  {
   "cell_type": "code",
   "execution_count": 8,
   "id": "88329e10-d9f2-4a64-9aaa-37f3c4aa3930",
   "metadata": {},
   "outputs": [
    {
     "data": {
      "text/plain": [
       "0     True\n",
       "1    False\n",
       "2    False\n",
       "3    False\n",
       "4    False\n",
       "5    False\n",
       "dtype: bool"
      ]
     },
     "execution_count": 8,
     "metadata": {},
     "output_type": "execute_result"
    }
   ],
   "source": [
    "get_obssite_keys('lsst')"
   ]
  },
  {
   "cell_type": "code",
   "execution_count": 9,
   "id": "c1a142e8-4c15-41be-a427-5f421340ca2f",
   "metadata": {},
   "outputs": [],
   "source": [
    "label = \"LSST\""
   ]
  },
  {
   "cell_type": "code",
   "execution_count": 10,
   "id": "5340a52e-3266-425f-b81e-84b5490ac39d",
   "metadata": {},
   "outputs": [
    {
     "data": {
      "text/plain": [
       "True"
      ]
     },
     "execution_count": 10,
     "metadata": {},
     "output_type": "execute_result"
    }
   ],
   "source": [
    "is_obssite('LSST')"
   ]
  },
  {
   "cell_type": "markdown",
   "id": "ffdf977e-2f4e-46aa-bb56-93f880cf0e95",
   "metadata": {},
   "source": [
    "# Check emul"
   ]
  },
  {
   "cell_type": "code",
   "execution_count": 11,
   "id": "14394583-3853-4c06-bdcb-79dfd6946932",
   "metadata": {},
   "outputs": [
    {
     "name": "stdout",
     "output_type": "stream",
     "text": [
      "Observatory LSST found in preselected observation sites\n"
     ]
    }
   ],
   "source": [
    "emul =  ObsAtmo()"
   ]
  },
  {
   "cell_type": "code",
   "execution_count": 12,
   "id": "92c82ec3-f9b1-4cae-9624-f418658ed1dd",
   "metadata": {},
   "outputs": [
    {
     "name": "stdout",
     "output_type": "stream",
     "text": [
      "Observatory CTIO found in preselected observation sites\n"
     ]
    }
   ],
   "source": [
    "emul =  ObsAtmo('CTIO')"
   ]
  },
  {
   "cell_type": "code",
   "execution_count": 13,
   "id": "6ca0e88b-e605-4068-a144-ce77b1ba283c",
   "metadata": {},
   "outputs": [
    {
     "name": "stdout",
     "output_type": "stream",
     "text": [
      "Observatory LSST found in preselected observation sites\n"
     ]
    }
   ],
   "source": [
    " emul =  ObsAtmo('LSST',743.0)"
   ]
  },
  {
   "cell_type": "code",
   "execution_count": 14,
   "id": "7246be3c-f43c-41f0-892d-9728fbd2acbd",
   "metadata": {},
   "outputs": [
    {
     "data": {
      "text/plain": [
       "<getObsAtmo.getObsAtmo.ObsAtmo at 0x177aa3e50>"
      ]
     },
     "execution_count": 14,
     "metadata": {},
     "output_type": "execute_result"
    }
   ],
   "source": [
    "emul"
   ]
  },
  {
   "cell_type": "code",
   "execution_count": 15,
   "id": "88c4ee68-99e9-482b-b59e-6ed90c367369",
   "metadata": {},
   "outputs": [],
   "source": [
    "wl = [400.,800.,900.]\n",
    "am=1.2\n",
    "pwv =4.0\n",
    "oz=300.\n",
    "transm = emul.GetAllTransparencies(wl,am,pwv,oz)"
   ]
  },
  {
   "cell_type": "code",
   "execution_count": 16,
   "id": "b6a0fda3-42ba-40ef-9e76-1fd6d206b975",
   "metadata": {},
   "outputs": [
    {
     "name": "stdout",
     "output_type": "stream",
     "text": [
      "wavelengths (nm) \t =  [400.0, 800.0, 900.0]\n",
      "transmissions    \t =  [0.72485491 0.97330618 0.85675228]\n"
     ]
    }
   ],
   "source": [
    "    >>> print(\"wavelengths (nm) \\t = \",wl)\n",
    "    >>> print(\"transmissions    \\t = \",transm)    "
   ]
  },
  {
   "cell_type": "code",
   "execution_count": 17,
   "id": "718fcef4-d72d-4e3f-8aa0-b4e5e49c6ce0",
   "metadata": {},
   "outputs": [
    {
     "name": "stdout",
     "output_type": "stream",
     "text": [
      "[400.0, 800.0, 900.0]\n"
     ]
    }
   ],
   "source": [
    "print(wl)"
   ]
  },
  {
   "cell_type": "code",
   "execution_count": 18,
   "id": "cdda946f-6f46-4355-b92c-c9043116596d",
   "metadata": {},
   "outputs": [
    {
     "name": "stdout",
     "output_type": "stream",
     "text": [
      "[0.72485491 0.97330618 0.85675228]\n"
     ]
    }
   ],
   "source": [
    "print(transm)"
   ]
  },
  {
   "cell_type": "code",
   "execution_count": 21,
   "id": "78f4cd88-f5df-4dc5-8164-ce7d564bbd00",
   "metadata": {},
   "outputs": [
    {
     "name": "stdout",
     "output_type": "stream",
     "text": [
      "Observatory LSST found in preselected observation sites\n"
     ]
    }
   ],
   "source": [
    "emul = ObsAtmo()\n",
    "array = emul.GetAllTransparencies([300.,400.,600.,800.,1000.],1,0,0)"
   ]
  },
  {
   "cell_type": "code",
   "execution_count": 22,
   "id": "4dba3df6-22b3-4420-acc7-11175373e3f8",
   "metadata": {},
   "outputs": [
    {
     "data": {
      "text/plain": [
       "array([0.41483073, 0.76797745, 0.95170851, 0.98476396, 0.9937721 ])"
      ]
     },
     "execution_count": 22,
     "metadata": {},
     "output_type": "execute_result"
    }
   ],
   "source": [
    "array"
   ]
  },
  {
   "cell_type": "code",
   "execution_count": null,
   "id": "dc820ea3-fb89-403e-8a51-47d637a27aa2",
   "metadata": {},
   "outputs": [],
   "source": []
  }
 ],
 "metadata": {
  "kernelspec": {
   "display_name": "conda_py310",
   "language": "python",
   "name": "conda_py310"
  },
  "language_info": {
   "codemirror_mode": {
    "name": "ipython",
    "version": 3
   },
   "file_extension": ".py",
   "mimetype": "text/x-python",
   "name": "python",
   "nbconvert_exporter": "python",
   "pygments_lexer": "ipython3",
   "version": "3.10.12"
  },
  "vscode": {
   "interpreter": {
    "hash": "b002c99f66c5bb850ebba7ae0c2124f7695114407038504fe88ddf9182cfa7d8"
   }
  }
 },
 "nbformat": 4,
 "nbformat_minor": 5
}
