{
 "cells": [
  {
   "cell_type": "markdown",
   "id": "d5d58322-4791-4bff-9c51-916d345e085e",
   "metadata": {},
   "source": [
    "# Debug Data Grid Files\n",
    "\n",
    "- Goal check if files are filled correctly\n",
    "\n",
    "- author : Sylvie Dagoret-Campagne\n",
    "- affiliation : IJCLab/IN2P3/CNRS\n",
    "- creation date : 2024/08/27\n",
    "- last update : 2024/08/27\n"
   ]
  },
  {
   "cell_type": "code",
   "execution_count": null,
   "id": "eeb7872a-03c9-421f-8fd7-6ba5c508ff79",
   "metadata": {
    "tags": []
   },
   "outputs": [],
   "source": [
    "import seaborn as sns\n",
    "import matplotlib.pyplot as plt\n",
    "%matplotlib inline\n",
    "import numpy as np\n",
    "import os,sys\n",
    "import pickle\n",
    "# to enlarge the sizes\n",
    "params = {'legend.fontsize': 'large',\n",
    "          'figure.figsize': (12, 6),\n",
    "         'axes.labelsize': 'x-large',\n",
    "         'axes.titlesize':'x-large',\n",
    "         'xtick.labelsize':'x-large',\n",
    "         'ytick.labelsize':'x-large'}\n",
    "plt.rcParams.update(params)"
   ]
  },
  {
   "cell_type": "code",
   "execution_count": null,
   "id": "276967f2-8c58-4110-83cf-aebc9b4ef95a",
   "metadata": {
    "tags": []
   },
   "outputs": [],
   "source": [
    "import warnings\n",
    "warnings.filterwarnings('ignore')"
   ]
  },
  {
   "cell_type": "markdown",
   "id": "b0a9c40d-f5f4-4aca-b4fa-de020205e534",
   "metadata": {},
   "source": [
    "# Imports"
   ]
  },
  {
   "cell_type": "code",
   "execution_count": null,
   "id": "829bf99d-0a00-4690-80fd-c3d7db6e3b3b",
   "metadata": {},
   "outputs": [],
   "source": [
    "import getObsAtmo as obs"
   ]
  },
  {
   "cell_type": "code",
   "execution_count": null,
   "id": "c566935b-8ef9-43f5-bba8-713cf6392e3d",
   "metadata": {},
   "outputs": [],
   "source": [
    "OBS_tag = 'LSST'"
   ]
  },
  {
   "cell_type": "code",
   "execution_count": null,
   "id": "2d1228f5-ccb3-40b1-8219-2deb25a31bb2",
   "metadata": {},
   "outputs": [],
   "source": [
    "obs.__path__"
   ]
  },
  {
   "cell_type": "code",
   "execution_count": null,
   "id": "5f685430-bb32-4285-b556-20db4a226faf",
   "metadata": {},
   "outputs": [],
   "source": [
    "from getObsAtmo.getObsAtmo import ObsAtmo,Dict_Of_sitesPressures,getObsSiteDataFrame,_getPackageDir"
   ]
  },
  {
   "cell_type": "code",
   "execution_count": null,
   "id": "fdf3e2c6-6015-4462-a07a-859f4e5eb0d7",
   "metadata": {},
   "outputs": [],
   "source": [
    "\n",
    "__all__ = ['Dict_Of_sitesAltitudes',\n",
    "           'Dict_Of_sitesPressures',\n",
    "           'Dict_Of_sitesAliases',\n",
    "           'file_data_dict',\n",
    "           '_getPackageDir',\n",
    "           'get_obssite_keys',\n",
    "           'sanitizeString',\n",
    "           'validateObsName', \n",
    "           'is_obssite', \n",
    "           'ObsAtmo','ObsAtmoPressure','ObsAtmoGrid']\n",
    "\n",
    "\n",
    "# preselected sites\n",
    "Dict_Of_sitesAltitudes = {'LSST': 2.663,\n",
    "                          'CTIO': 2.207,\n",
    "                          'OHP': 0.65,\n",
    "                          'PDM': 2.8905,\n",
    "                          'OMK': 4.205,\n",
    "                          'OSL': 0.000,\n",
    "                          }\n",
    "# pressure calculated by libradtran\n",
    "Dict_Of_sitesPressures = {'LSST': 731.50433,\n",
    "                          'CTIO': 774.6052,\n",
    "                          'OHP': 937.22595,\n",
    "                          'PDM': 710.90637,\n",
    "                          'OMK': 600.17224,\n",
    "                          'OSL': 1013.000,\n",
    "                          }\n",
    "\n",
    "Dict_Of_sitesAliases = {'LSST': ['Rubin','Rubin Observatory','Auxtel'],\n",
    "                        'CTIO': [\"Cerro Tololo\"],\n",
    "                        'OHP': [\"Observatoire de Haute Provence\"],\n",
    "                        'PDM': [\"Pic du Midi\",\"Observatoire du Pic du Midi\"],\n",
    "                        'OMK': [\"Mauna Kea\",\"Mauna Kea Observatory\"],\n",
    "                        'OSL': [\"Sea Level\",\"Sea Level Observatory\"]\n",
    "                        }\n",
    "\n",
    "file_data_dict = {\n",
    "    \"info\": \"atmospherictransparencygrid_params.pickle\",\n",
    "    \"data_rayleigh\": \"atmospherictransparencygrid_rayleigh.npy\",\n",
    "    \"data_o2abs\": \"atmospherictransparencygrid_O2abs.npy\",\n",
    "    \"data_pwvabs\": \"atmospherictransparencygrid_PWVabs.npy\",\n",
    "    \"data_ozabs\": \"atmospherictransparencygrid_OZabs.npy\",\n",
    "}"
   ]
  },
  {
   "cell_type": "code",
   "execution_count": null,
   "id": "8206aaa2-cd57-4fc0-9a65-6efd1861178d",
   "metadata": {},
   "outputs": [],
   "source": [
    "# construct the path of input data file\n",
    "path = os.path.join(_getPackageDir(), '../obsatmo_data')\n",
    "info_params = {}\n",
    "\n",
    "# load all data files (training and test)\n",
    "filename = os.path.join(path, OBS_tag + \"_\" + file_data_dict[\"info\"])\n",
    "with open(filename, 'rb') as f:\n",
    "    info_params = pickle.load(f)\n",
    "\n",
    "data_rayleigh = np.load(os.path.join(path, OBS_tag + \"_\" + file_data_dict[\"data_rayleigh\"]))\n",
    "data_O2abs = np.load(os.path.join(path, OBS_tag + \"_\" + file_data_dict[\"data_o2abs\"]))\n",
    "data_PWVabs = np.load(os.path.join(path, OBS_tag + \"_\" + file_data_dict[\"data_pwvabs\"]))\n",
    "data_OZabs = np.load(os.path.join(path, OBS_tag + \"_\" + file_data_dict[\"data_ozabs\"]))"
   ]
  },
  {
   "cell_type": "code",
   "execution_count": null,
   "id": "6f633d36-06db-4c0f-9b80-b890836bff6f",
   "metadata": {},
   "outputs": [],
   "source": [
    "# setup training dataset (those used for interpolation)\n",
    "WLMIN = info_params[\"WLMIN\"]\n",
    "WLMAX = info_params[\"WLMAX\"]\n",
    "WLBIN = info_params[\"WLBIN\"]\n",
    "NWLBIN = info_params['NWLBIN']\n",
    "WL     = info_params['WL']\n",
    "OBS = info_params['OBS']\n",
    "\n",
    "AIRMASSMIN = info_params['AIRMASSMIN']\n",
    "AIRMASSMAX = info_params['AIRMASSMAX']\n",
    "NAIRMASS = info_params['NAIRMASS']\n",
    "DAIRMASS = info_params['DAIRMASS']\n",
    "AIRMASS = info_params['AIRMASS']\n",
    "\n",
    "PWVMIN = info_params['PWVMIN']\n",
    "PWVMAX = info_params['PWVMAX']\n",
    "NPWV = info_params['NPWV']\n",
    "DPWV = info_params['DPWV']\n",
    "PWV = info_params['PWV']\n",
    "\n",
    "OZMIN = info_params['OZMIN']\n",
    "OZMAX = info_params['OZMAX']\n",
    "NOZ = info_params['NOZ']\n",
    "DOZ = info_params['DOZ']\n",
    "OZ = info_params['OZ']\n"
   ]
  },
  {
   "cell_type": "code",
   "execution_count": null,
   "id": "421c4427-07eb-4251-8814-3486bed219a9",
   "metadata": {},
   "outputs": [],
   "source": [
    "data_PWVabs.shape"
   ]
  },
  {
   "cell_type": "code",
   "execution_count": null,
   "id": "baafc31c-a20f-49b0-8b5f-49b639f90004",
   "metadata": {},
   "outputs": [],
   "source": [
    "data_PWVabs.min()"
   ]
  },
  {
   "cell_type": "markdown",
   "id": "ae725422-ec9e-4ee4-bc95-012499cf117c",
   "metadata": {},
   "source": [
    "# Check information"
   ]
  },
  {
   "cell_type": "code",
   "execution_count": null,
   "id": "8bf39dcb-64b2-4ef9-a34e-5066d58c7959",
   "metadata": {
    "tags": []
   },
   "outputs": [],
   "source": [
    "Dict_Of_sitesPressures"
   ]
  },
  {
   "cell_type": "markdown",
   "id": "632dafeb-3ab5-4249-a035-729ed239485e",
   "metadata": {},
   "source": [
    "### Choose Rubin-LSST observation sites but other sites may be chosen"
   ]
  },
  {
   "cell_type": "code",
   "execution_count": null,
   "id": "3651e0ba-0e55-4109-8f85-0ab083251b90",
   "metadata": {
    "tags": []
   },
   "outputs": [],
   "source": [
    "obs_str = 'LSST'\n",
    "std_pressure = Dict_Of_sitesPressures[obs_str]\n",
    "new_pressure = Dict_Of_sitesPressures[obs_str]*1.1\n",
    "print(new_pressure)\n",
    "\n",
    "label1 = f\"P = {std_pressure:.0f} hPa\"\n",
    "label2 = f\"P = {new_pressure:.0f} hPa\""
   ]
  },
  {
   "cell_type": "code",
   "execution_count": null,
   "id": "20c662f8-d964-4b92-bfb5-a9e14a4e3e9b",
   "metadata": {},
   "outputs": [],
   "source": [
    "emul1 =  ObsAtmo(obs_str=obs_str)\n",
    "emul2 =  ObsAtmo(obs_str=obs_str,pressure = new_pressure)"
   ]
  },
  {
   "cell_type": "markdown",
   "id": "1070eded-26f6-4b27-abf9-c7bf9a08e89e",
   "metadata": {},
   "source": [
    "# Typical transmission plot\n",
    "\n",
    "- show a typical transmission plot"
   ]
  },
  {
   "cell_type": "code",
   "execution_count": null,
   "id": "6b7ea685-a3c4-4eae-895a-3ef8cca32436",
   "metadata": {},
   "outputs": [],
   "source": [
    "emul1.plot_transmission()"
   ]
  },
  {
   "cell_type": "markdown",
   "id": "1949a817-9985-48b0-8735-e5bcf8e285a9",
   "metadata": {},
   "source": [
    "# Setting atmospheric parameters"
   ]
  },
  {
   "cell_type": "code",
   "execution_count": null,
   "id": "d93ddef0-1570-42a7-8ab2-edc8cf755d14",
   "metadata": {},
   "outputs": [],
   "source": [
    "WL = emul1.GetWL()\n",
    "airmasses = emul1.AIRMASS\n",
    "NAM = len(airmasses)\n",
    "pwvs = emul1.PWV\n",
    "NPWV = len(pwvs)\n",
    "ozs = emul1.OZ\n",
    "NOZ = len(ozs)"
   ]
  },
  {
   "cell_type": "code",
   "execution_count": null,
   "id": "43201a59-1fa5-4380-ab6d-72e54525cbc6",
   "metadata": {},
   "outputs": [],
   "source": [
    "hls_colors = sns.color_palette(\"hls\", NAM)\n",
    "sns.palplot(hls_colors)"
   ]
  },
  {
   "cell_type": "markdown",
   "id": "e7c1cbe1-8c44-4956-ad6d-965a70ffd6c0",
   "metadata": {},
   "source": [
    "## Check emulator with Rayleigh scattering"
   ]
  },
  {
   "cell_type": "code",
   "execution_count": null,
   "id": "39bdd744-1148-46d9-8ebb-6fd2f777fd78",
   "metadata": {},
   "outputs": [],
   "source": [
    "fig, ax = plt.subplots()\n",
    "for idx,am in enumerate(airmasses):\n",
    "\n",
    "    transm1 = emul1.GetRayleighTransparencyArray(WL,am)\n",
    "    transm2 = emul2.GetRayleighTransparencyArray(WL,am)\n",
    "    \n",
    "    if idx == 0:\n",
    "        ax.plot(WL,transm1,\":\",color=hls_colors[idx],label=label1)\n",
    "        ax.plot(WL,transm2,\"-\",color=hls_colors[idx],label=label2)\n",
    "    else:\n",
    "        ax.plot(WL,transm1,\":\",color=hls_colors[idx])\n",
    "        ax.plot(WL,transm2,\"-\",color=hls_colors[idx])\n",
    "    \n",
    "title = f\"ObsAtmo : Rayleigh scattering for different pressures\"\n",
    "ax.set_title(title)\n",
    "ax.set_xlabel(\"$\\lambda$ (nm)\")\n",
    "ax.set_ylabel(\"transmission\")\n",
    "# place a text box in upper left in axes coords\n",
    "#ax.text(0.5, 0.05, textboxstr, transform=ax.transAxes, fontsize=14,verticalalignment='bottom', bbox=textboxprops)\n",
    "ax.grid()\n",
    "ax.legend()\n",
    "plt.show()"
   ]
  },
  {
   "cell_type": "markdown",
   "id": "d5febae6-7e6b-494e-be93-f570def732bc",
   "metadata": {},
   "source": [
    "## Check emulator with Oxygen O2 absorption"
   ]
  },
  {
   "cell_type": "code",
   "execution_count": null,
   "id": "3f837e3b-d029-4f9b-b455-6ef264dc05ed",
   "metadata": {},
   "outputs": [],
   "source": [
    "fig, ax = plt.subplots()\n",
    "for idx,am in enumerate(airmasses):\n",
    "\n",
    "    transm1 = emul1.GetO2absTransparencyArray(WL,am)\n",
    "    transm2 = emul2.GetO2absTransparencyArray(WL,am)\n",
    "    \n",
    "    if idx == 0:\n",
    "        ax.plot(WL,transm1,\":\",color=hls_colors[idx],label=label1)\n",
    "        ax.plot(WL,transm2,\"-\",color=hls_colors[idx],label=label2)\n",
    "    else:\n",
    "        ax.plot(WL,transm1,\":\",color=hls_colors[idx])\n",
    "        ax.plot(WL,transm2,\"-\",color=hls_colors[idx])\n",
    "        \n",
    "\n",
    "title = f\"ObsAtmo : O2 absorption for different pressures\"\n",
    "ax.set_title(title)\n",
    "ax.set_xlabel(\"$\\lambda$ (nm)\")\n",
    "ax.set_ylabel(\"transmission\")\n",
    "ax.set_xlim(600.,800.)\n",
    "# place a text box in upper left in axes coords\n",
    "#ax.text(0.5, 0.05, textboxstr, transform=ax.transAxes, fontsize=14,verticalalignment='bottom', bbox=textboxprops)\n",
    "ax.grid()\n",
    "ax.legend()\n",
    "plt.show()"
   ]
  },
  {
   "cell_type": "markdown",
   "id": "2aa450fa-8b53-4a40-b2c5-67a8996cd5b5",
   "metadata": {},
   "source": [
    "### Zoom at the O2 abs line at 760 nm"
   ]
  },
  {
   "cell_type": "code",
   "execution_count": null,
   "id": "df9320ae-1c09-46cf-9c41-f51baffbdc60",
   "metadata": {
    "tags": []
   },
   "outputs": [],
   "source": [
    "fig, ax = plt.subplots()\n",
    "for idx,am in enumerate(airmasses):\n",
    "\n",
    "    transm1 = emul1.GetO2absTransparencyArray(WL,am)\n",
    "    transm2 = emul2.GetO2absTransparencyArray(WL,am)\n",
    "    \n",
    "    if idx == 0:\n",
    "        ax.plot(WL,transm1,\":\",color=hls_colors[idx],label=label1)\n",
    "        ax.plot(WL,transm2,\"-\",color=hls_colors[idx],label=label2)\n",
    "    else:\n",
    "        ax.plot(WL,transm1,\":\",color=hls_colors[idx])\n",
    "        ax.plot(WL,transm2,\"-\",color=hls_colors[idx])\n",
    "        \n",
    "\n",
    "title = f\"ObsAtmo : O2 absorption for different pressures\"\n",
    "ax.set_title(title)\n",
    "ax.set_xlabel(\"$\\lambda$ (nm)\")\n",
    "ax.set_ylabel(\"transmission\")\n",
    "ax.set_xlim(750.,775.)\n",
    "# place a text box in upper left in axes coords\n",
    "#ax.text(0.5, 0.05, textboxstr, transform=ax.transAxes, fontsize=14,verticalalignment='bottom', bbox=textboxprops)\n",
    "ax.grid()\n",
    "ax.legend()\n",
    "plt.show()"
   ]
  },
  {
   "cell_type": "markdown",
   "id": "a8985efb-aa83-47c6-bf4b-ca95c9630427",
   "metadata": {},
   "source": [
    "## Check emulator with PWV absorption"
   ]
  },
  {
   "cell_type": "markdown",
   "id": "29d89c7e-b5f6-4315-89b0-b6734b8e1a05",
   "metadata": {},
   "source": [
    "Expect no difference"
   ]
  },
  {
   "cell_type": "code",
   "execution_count": null,
   "id": "60bddbab-27d1-4dc6-815b-15d8bb2adde0",
   "metadata": {},
   "outputs": [],
   "source": [
    "hls_colors = sns.color_palette(\"hls\", NPWV)\n",
    "sns.palplot(hls_colors)"
   ]
  },
  {
   "cell_type": "code",
   "execution_count": null,
   "id": "3421b63d-3603-4bcc-b06a-fb8ba98bf618",
   "metadata": {},
   "outputs": [],
   "source": [
    "am =1\n",
    "\n",
    "fig, ax = plt.subplots()\n",
    "for idx,pwv in enumerate(pwvs):\n",
    "\n",
    "    transm1 = emul1.GetPWVabsTransparencyArray(WL,am,pwv)\n",
    "    transm2 = emul2.GetPWVabsTransparencyArray(WL,am,pwv)\n",
    "    \n",
    "    if idx == 0:\n",
    "        ax.plot(WL,transm1,\":\",color=hls_colors[idx],label=label1)\n",
    "        ax.plot(WL,transm2,\"-\",color=hls_colors[idx],label=label2)\n",
    "    else:\n",
    "        ax.plot(WL,transm1,\":\",color=hls_colors[idx])\n",
    "        ax.plot(WL,transm2,\"-\",color=hls_colors[idx])\n",
    "        \n",
    "\n",
    "title = f\"ObsAtmo : H2O absorption for different pressures, am = {am:.1f}\"\n",
    "ax.set_title(title)\n",
    "ax.set_xlabel(\"$\\lambda$ (nm)\")\n",
    "ax.set_ylabel(\"transmission\")\n",
    "ax.set_xlim(700.,1000.)\n",
    "# place a text box in upper left in axes coords\n",
    "#ax.text(0.5, 0.05, textboxstr, transform=ax.transAxes, fontsize=14,verticalalignment='bottom', bbox=textboxprops)\n",
    "ax.grid()\n",
    "ax.legend()\n",
    "plt.show()"
   ]
  },
  {
   "cell_type": "markdown",
   "id": "a3802a0a-42a2-4aab-8293-8be3d8bb9713",
   "metadata": {},
   "source": [
    "## Check emulator with Ozone absorption\n",
    "\n",
    "- expect no difference"
   ]
  },
  {
   "cell_type": "code",
   "execution_count": null,
   "id": "b025a29c-181c-4a61-ba6c-db908e7b1c63",
   "metadata": {},
   "outputs": [],
   "source": [
    "hls_colors = sns.color_palette(\"hls\", NOZ)\n",
    "sns.palplot(hls_colors)"
   ]
  },
  {
   "cell_type": "code",
   "execution_count": null,
   "id": "f588adf2-d3d2-482c-89e7-b89a1ba9258c",
   "metadata": {
    "tags": []
   },
   "outputs": [],
   "source": [
    "am =1\n",
    "\n",
    "fig, ax = plt.subplots()\n",
    "for idx,oz in enumerate(ozs):\n",
    "\n",
    "    transm1 = emul1.GetOZabsTransparencyArray(WL,am,oz)\n",
    "    transm2 = emul2.GetOZabsTransparencyArray(WL,am,oz)\n",
    "    \n",
    "    if idx == 0:\n",
    "        ax.plot(WL,transm1,\":\",color=hls_colors[idx],label=label1)\n",
    "        ax.plot(WL,transm2,\"-\",color=hls_colors[idx],label=label2)\n",
    "    else:\n",
    "        ax.plot(WL,transm1,\":\",color=hls_colors[idx])\n",
    "        ax.plot(WL,transm2,\"-\",color=hls_colors[idx])\n",
    "        \n",
    "\n",
    "title = f\" ObsAtmo : Ozone absorption for different pressure, am = {am:.1f}\"\n",
    "ax.set_title(title)\n",
    "ax.set_xlabel(\"$\\lambda$ (nm)\")\n",
    "ax.set_ylabel(\"transmission\")\n",
    "ax.set_xlim(300.,800.)\n",
    "ax.set_ylim(0.9,1.0)\n",
    "# place a text box in upper left in axes coords\n",
    "#ax.text(0.5, 0.05, textboxstr, transform=ax.transAxes, fontsize=14,verticalalignment='bottom', bbox=textboxprops)\n",
    "ax.grid()\n",
    "ax.legend()\n",
    "plt.show()"
   ]
  },
  {
   "cell_type": "markdown",
   "id": "e918bf6a-df3f-4e7e-80d2-fb8234e76747",
   "metadata": {},
   "source": [
    "## Check emulator with combined ascattering and absorption process and check with libradtran"
   ]
  },
  {
   "cell_type": "code",
   "execution_count": null,
   "id": "608817ce-d894-4cf5-9429-13b0ae3d9650",
   "metadata": {},
   "outputs": [],
   "source": [
    "am0 = 1.0\n",
    "pwv0 = 5.0\n",
    "oz0 = 500.\n",
    "transm1 = emul1.GetGriddedTransparencies(WL,am0,pwv0,oz0,flagRayleigh=True)\n",
    "transm2 = emul2.GetGriddedTransparencies(WL,am0,pwv0,oz0,flagRayleigh=True)"
   ]
  },
  {
   "cell_type": "code",
   "execution_count": null,
   "id": "7e6f7bba-65b3-49bc-9aaa-10b90dc33403",
   "metadata": {},
   "outputs": [],
   "source": [
    "fig, ax = plt.subplots()\n",
    "\n",
    "ax.plot(WL,transm1,'b-',label=label1)\n",
    "ax.plot(WL,transm2,'r-',label=label2)\n",
    "\n",
    "title = f\"ObsAtmo  : total transmission, am = {am0:.1f}\"\n",
    "ax.set_title(title)\n",
    "ax.set_xlabel(\"$\\lambda$ (nm)\")\n",
    "ax.set_ylabel(\"transmission\")\n",
    "# place a text box in upper left in axes coords\n",
    "#ax.text(0.5, 0.05, textboxstr, transform=ax.transAxes, fontsize=14,verticalalignment='bottom', bbox=textboxprops)\n",
    "ax.grid()\n",
    "ax.legend()\n",
    "plt.show()"
   ]
  },
  {
   "cell_type": "markdown",
   "id": "38489d00-ba17-4b5c-9e0d-1a46655b60f2",
   "metadata": {},
   "source": [
    "### Zoom at O2 absorption lines"
   ]
  },
  {
   "cell_type": "code",
   "execution_count": null,
   "id": "9c02a9a8-94c1-4ac8-badf-556e41e18942",
   "metadata": {
    "tags": []
   },
   "outputs": [],
   "source": [
    "fig, ax = plt.subplots()\n",
    "\n",
    "ax.plot(WL,transm1,'b-',label=label1)\n",
    "ax.plot(WL,transm2,'r-',label=label2)\n",
    "\n",
    "title = f\"ObsAtmo  : total transmission, am = {am0:.1f}\"\n",
    "ax.set_title(title)\n",
    "ax.set_xlabel(\"$\\lambda$ (nm)\")\n",
    "ax.set_ylabel(\"transmission\")\n",
    "ax.set_xlim(660.,800.)\n",
    "# place a text box in upper left in axes coords\n",
    "#ax.text(0.5, 0.05, textboxstr, transform=ax.transAxes, fontsize=14,verticalalignment='bottom', bbox=textboxprops)\n",
    "ax.grid()\n",
    "ax.legend()\n",
    "plt.show()"
   ]
  },
  {
   "cell_type": "markdown",
   "id": "6c3def0c-4bde-40a0-bcfb-28ab13771b16",
   "metadata": {},
   "source": [
    "## Check aerosols"
   ]
  },
  {
   "cell_type": "code",
   "execution_count": null,
   "id": "ddc8c0fc-023e-49aa-a984-0ef266582bfb",
   "metadata": {},
   "outputs": [],
   "source": [
    "all_taus = np.arange(0,0.3,0.05)\n",
    "NAER = len(all_taus) \n",
    "hls_colors = sns.color_palette(\"hls\", NAER)\n",
    "sns.palplot(hls_colors)"
   ]
  },
  {
   "cell_type": "code",
   "execution_count": null,
   "id": "9129cca2-a975-41f5-bb50-9db2489f04dc",
   "metadata": {},
   "outputs": [],
   "source": [
    "fig, ax = plt.subplots()\n",
    "for index,tau in enumerate(all_taus):\n",
    "    transm = emul1.GetAerosolsTransparencies(WL,am,tau) \n",
    "    label = r\"$\\tau$ =\" + f\"{tau:.2f}\"\n",
    "    ax.plot(WL,transm,color=hls_colors[index],label=label)\n",
    "title = f\"ObsAtmo  : aerosol transmission, airmass = {am:.1f}\"\n",
    "ax.set_title(title)\n",
    "ax.set_xlabel(\"$\\lambda$ (nm)\")\n",
    "ax.set_ylabel(\"transmission\")\n",
    "# place a text box in upper left in axes coords\n",
    "#ax.text(0.5, 0.05, textboxstr, transform=ax.transAxes, fontsize=14,verticalalignment='bottom', bbox=textboxprops)\n",
    "ax.grid()\n",
    "ax.legend()\n",
    "ax.set_ylim(0,1)\n",
    "plt.show()"
   ]
  },
  {
   "cell_type": "code",
   "execution_count": null,
   "id": "5c2fff64-b77f-4ce8-97a0-7684bd0f1e06",
   "metadata": {},
   "outputs": [],
   "source": [
    "all_betas = np.arange(0.1,2.5,0.2)\n",
    "NAER = len(all_betas) \n",
    "hls_colors = sns.color_palette(\"hls\", NAER)\n",
    "sns.palplot(hls_colors)\n",
    "tau = 0.1"
   ]
  },
  {
   "cell_type": "code",
   "execution_count": null,
   "id": "4de107fa-6f29-4055-b823-9fe700e8270a",
   "metadata": {},
   "outputs": [],
   "source": [
    "fig, ax = plt.subplots()\n",
    "for index,beta in enumerate(all_betas):\n",
    "    transm = emul1.GetAerosolsTransparencies(WL,am,tau,beta) \n",
    "    label = r\"$\\beta$ =\" + f\"{beta:.2f}\"\n",
    "    ax.plot(WL,transm,color=hls_colors[index],label=label)\n",
    "title = f\"ObsAtmo  : aerosol transmission, airmass = {am:.1f}, tau = {tau:.2f}\"\n",
    "ax.set_title(title)\n",
    "ax.set_xlabel(\"$\\lambda$ (nm)\")\n",
    "ax.set_ylabel(\"transmission\")\n",
    "# place a text box in upper left in axes coords\n",
    "#ax.text(0.5, 0.05, textboxstr, transform=ax.transAxes, fontsize=14,verticalalignment='bottom', bbox=textboxprops)\n",
    "ax.grid()\n",
    "ax.legend()\n",
    "ax.set_ylim(0.5,1.05)\n",
    "plt.show()"
   ]
  },
  {
   "cell_type": "markdown",
   "id": "091ffb3c-bac4-432f-9378-4aef4c497d8d",
   "metadata": {},
   "source": [
    "# The standard way to call atmospheric transmission"
   ]
  },
  {
   "cell_type": "code",
   "execution_count": null,
   "id": "9be53066-7749-4d02-94d2-87727c36bd7d",
   "metadata": {},
   "outputs": [],
   "source": [
    "sorted_site_by_pressure = sorted(Dict_Of_sitesPressures.items(), key=lambda x:x[1])\n",
    "sorted_site_by_pressure"
   ]
  },
  {
   "cell_type": "code",
   "execution_count": null,
   "id": "d1c90da9-a833-47ad-907a-9b5deeca3dca",
   "metadata": {},
   "outputs": [],
   "source": [
    "all_sites = sorted_site_by_pressure\n",
    "NSites = len(all_sites)\n",
    "hls_colors = sns.color_palette(\"hls\", NSites)\n",
    "sns.palplot(hls_colors)"
   ]
  },
  {
   "cell_type": "code",
   "execution_count": null,
   "id": "951ba122-1789-4376-ad37-8331eec52f1c",
   "metadata": {},
   "outputs": [],
   "source": [
    "am=1\n",
    "pwv = 4.0\n",
    "oz= 400.\n",
    "tau = 0.\n",
    "beta = 3\n",
    "\n",
    "fig, ax = plt.subplots()\n",
    "\n",
    "for idx,site in enumerate(all_sites):\n",
    "\n",
    "    obs_str = site[0]\n",
    "    ref_press = site[1]\n",
    "    \n",
    "    emul = ObsAtmo(obs_str)\n",
    "    pressure= emul.pressure\n",
    "    \n",
    "    label= f\"{obs_str} (P = {pressure:.1f} hPa)\"\n",
    "    \n",
    "    transm = emul.GetAllTransparencies(WL,am,pwv,oz,tau,beta)\n",
    "    ax.plot(WL,transm,'-',color=hls_colors[idx],label=label)\n",
    "\n",
    "title = f\"ObsAtmo  : total transmission, airmass = {am:.1f}\"\n",
    "ax.set_title(title)\n",
    "ax.set_xlabel(\"$\\lambda$ (nm)\")\n",
    "ax.set_ylabel(\"transmission\")\n",
    "# place a text box in upper left in axes coords\n",
    "#ax.text(0.5, 0.05, textboxstr, transform=ax.transAxes, fontsize=14,verticalalignment='bottom', bbox=textboxprops)\n",
    "ax.grid()\n",
    "ax.legend()\n",
    "plt.show()"
   ]
  },
  {
   "cell_type": "code",
   "execution_count": null,
   "id": "6c1c6868-c660-41de-8161-e226e6236cb0",
   "metadata": {},
   "outputs": [],
   "source": [
    "am=1\n",
    "pwv = 4.0\n",
    "oz= 400.\n",
    "tau = 0.1\n",
    "beta = 1.2\n",
    "\n",
    "fig, ax = plt.subplots()\n",
    "\n",
    "for idx,site in enumerate(all_sites):\n",
    "\n",
    "    obs_str = site[0]\n",
    "    ref_press = site[1]\n",
    "    \n",
    "    emul = ObsAtmo(obs_str)\n",
    "    pressure= emul.pressure\n",
    "    \n",
    "    label= f\"{obs_str} (P = {pressure:.1f} hPa)\"\n",
    "    \n",
    "    transm = emul.GetAllTransparencies(WL,am,pwv,oz,tau,beta)\n",
    "    ax.plot(WL,transm,'-',color=hls_colors[idx],label=label)\n",
    "\n",
    "title = f\"ObsAtmo  : total transmission, airmass = {am:.1f}\"\n",
    "ax.set_title(title)\n",
    "ax.set_xlabel(\"$\\lambda$ (nm)\")\n",
    "ax.set_ylabel(\"transmission\")\n",
    "ax.set_xlim(750.,775.)\n",
    "# place a text box in upper left in axes coords\n",
    "#ax.text(0.5, 0.05, textboxstr, transform=ax.transAxes, fontsize=14,verticalalignment='bottom', bbox=textboxprops)\n",
    "ax.grid()\n",
    "ax.legend()\n",
    "plt.show()"
   ]
  }
 ],
 "metadata": {
  "kernelspec": {
   "display_name": "conda_py310",
   "language": "python",
   "name": "conda_py310"
  },
  "language_info": {
   "codemirror_mode": {
    "name": "ipython",
    "version": 3
   },
   "file_extension": ".py",
   "mimetype": "text/x-python",
   "name": "python",
   "nbconvert_exporter": "python",
   "pygments_lexer": "ipython3",
   "version": "3.10.12"
  },
  "vscode": {
   "interpreter": {
    "hash": "b002c99f66c5bb850ebba7ae0c2124f7695114407038504fe88ddf9182cfa7d8"
   }
  }
 },
 "nbformat": 4,
 "nbformat_minor": 5
}
