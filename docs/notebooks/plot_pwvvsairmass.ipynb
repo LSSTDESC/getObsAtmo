{
 "cells": [
  {
   "cell_type": "markdown",
   "id": "d5d58322-4791-4bff-9c51-916d345e085e",
   "metadata": {},
   "source": [
    "# Dependance of H2O wrt airmass\n",
    "\n",
    "- author : Sylvie Dagoret-Campagne\n",
    "- affiliation : IJCLab/IN2P3/CNRS\n",
    "- creation date : 2024/11/17\n",
    "- last update : 2024/11/17\n",
    "\n",
    "\n",
    "This emulator is based from datagrid of atmospheric transparencies extracted from libradtran"
   ]
  },
  {
   "cell_type": "code",
   "execution_count": null,
   "id": "eeb7872a-03c9-421f-8fd7-6ba5c508ff79",
   "metadata": {
    "tags": []
   },
   "outputs": [],
   "source": [
    "import seaborn as sns\n",
    "import matplotlib.pyplot as plt\n",
    "%matplotlib inline\n",
    "import numpy as np\n",
    "\n",
    "# to enlarge the sizes\n",
    "params = {'legend.fontsize': 'large',\n",
    "          'figure.figsize': (10, 6),\n",
    "         'axes.labelsize': 'xx-large',\n",
    "         'axes.titlesize':'xx-large',\n",
    "         'xtick.labelsize':'xx-large',\n",
    "         'ytick.labelsize':'xx-large'}\n",
    "plt.rcParams.update(params)"
   ]
  },
  {
   "cell_type": "code",
   "execution_count": null,
   "id": "276967f2-8c58-4110-83cf-aebc9b4ef95a",
   "metadata": {
    "tags": []
   },
   "outputs": [],
   "source": [
    "import warnings\n",
    "warnings.filterwarnings('ignore')"
   ]
  },
  {
   "cell_type": "markdown",
   "id": "b0a9c40d-f5f4-4aca-b4fa-de020205e534",
   "metadata": {},
   "source": [
    "# Imports"
   ]
  },
  {
   "cell_type": "code",
   "execution_count": null,
   "id": "5f685430-bb32-4285-b556-20db4a226faf",
   "metadata": {},
   "outputs": [],
   "source": [
    "from getObsAtmo.getObsAtmo import ObsAtmo,validateObsName,Dict_Of_sitesPressures,getObsSiteDataFrame"
   ]
  },
  {
   "cell_type": "markdown",
   "id": "ae725422-ec9e-4ee4-bc95-012499cf117c",
   "metadata": {},
   "source": [
    "# Check information"
   ]
  },
  {
   "cell_type": "code",
   "execution_count": null,
   "id": "8bf39dcb-64b2-4ef9-a34e-5066d58c7959",
   "metadata": {
    "tags": []
   },
   "outputs": [],
   "source": [
    "Dict_Of_sitesPressures"
   ]
  },
  {
   "cell_type": "markdown",
   "id": "632dafeb-3ab5-4249-a035-729ed239485e",
   "metadata": {},
   "source": [
    "### Choose Rubin-LSST observation sites but other sites may be chosen"
   ]
  },
  {
   "cell_type": "code",
   "execution_count": null,
   "id": "3651e0ba-0e55-4109-8f85-0ab083251b90",
   "metadata": {
    "tags": []
   },
   "outputs": [],
   "source": [
    "obssitename = 'LSST'\n",
    "obs_str = validateObsName(obssitename) \n",
    "std_pressure = Dict_Of_sitesPressures[obs_str]"
   ]
  },
  {
   "cell_type": "code",
   "execution_count": null,
   "id": "20c662f8-d964-4b92-bfb5-a9e14a4e3e9b",
   "metadata": {},
   "outputs": [],
   "source": [
    "emul =  ObsAtmo(obs_str= obssitename)"
   ]
  },
  {
   "cell_type": "markdown",
   "id": "1070eded-26f6-4b27-abf9-c7bf9a08e89e",
   "metadata": {},
   "source": [
    "# Typical transmission plot\n",
    "\n",
    "- show a typical transmission plot"
   ]
  },
  {
   "cell_type": "code",
   "execution_count": null,
   "id": "6b7ea685-a3c4-4eae-895a-3ef8cca32436",
   "metadata": {},
   "outputs": [],
   "source": [
    "emul.plot_transmission()"
   ]
  },
  {
   "cell_type": "markdown",
   "id": "1949a817-9985-48b0-8735-e5bcf8e285a9",
   "metadata": {},
   "source": [
    "# Setting atmospheric parameters"
   ]
  },
  {
   "cell_type": "code",
   "execution_count": null,
   "id": "d93ddef0-1570-42a7-8ab2-edc8cf755d14",
   "metadata": {},
   "outputs": [],
   "source": [
    "WL = emul.GetWL()\n",
    "airmasses = emul.AIRMASS\n",
    "NAM = len(airmasses)\n",
    "pwvs = emul.PWV\n",
    "NPWV = len(pwvs)\n",
    "ozs = emul.OZ\n",
    "NOZ = len(ozs)"
   ]
  },
  {
   "cell_type": "code",
   "execution_count": null,
   "id": "43201a59-1fa5-4380-ab6d-72e54525cbc6",
   "metadata": {},
   "outputs": [],
   "source": [
    "hls_colors = sns.color_palette(\"hls\", NAM)\n",
    "sns.palplot(hls_colors)"
   ]
  },
  {
   "cell_type": "markdown",
   "id": "a8985efb-aa83-47c6-bf4b-ca95c9630427",
   "metadata": {},
   "source": [
    "## Check emulator with PWV absorption"
   ]
  },
  {
   "cell_type": "markdown",
   "id": "29d89c7e-b5f6-4315-89b0-b6734b8e1a05",
   "metadata": {},
   "source": [
    "Expect no difference"
   ]
  },
  {
   "cell_type": "code",
   "execution_count": null,
   "id": "60bddbab-27d1-4dc6-815b-15d8bb2adde0",
   "metadata": {},
   "outputs": [],
   "source": [
    "hls_colors = sns.color_palette(\"hls\", NPWV)\n",
    "sns.palplot(hls_colors)"
   ]
  },
  {
   "cell_type": "code",
   "execution_count": null,
   "id": "3421b63d-3603-4bcc-b06a-fb8ba98bf618",
   "metadata": {},
   "outputs": [],
   "source": [
    "am =1\n",
    "\n",
    "fig, ax = plt.subplots()\n",
    "for idx,pwv in enumerate(pwvs):\n",
    "\n",
    "    transm = emul.GetPWVabsTransparencyArray(WL,am,pwv)\n",
    "  \n",
    "    if idx == 0: \n",
    "        ax.plot(WL,transm,\"-\",color=hls_colors[idx])\n",
    "    else: \n",
    "        ax.plot(WL,transm,\"-\",color=hls_colors[idx])\n",
    "        \n",
    "title = f\"ObsAtmo : H2O absorption for different pressures, am = {am:.1f}\"\n",
    "ax.set_title(title)\n",
    "ax.set_xlabel(\"$\\lambda$ (nm)\")\n",
    "ax.set_ylabel(\"transmission\")\n",
    "ax.set_xlim(700.,1000.)\n",
    "# place a text box in upper left in axes coords\n",
    "#ax.text(0.5, 0.05, textboxstr, transform=ax.transAxes, fontsize=14,verticalalignment='bottom', bbox=textboxprops)\n",
    "ax.grid()\n",
    "ax.legend()\n",
    "\n",
    "ax.axvline(719.0,color=\"k\")\n",
    "ax.axvline(817.0,color=\"k\")\n",
    "ax.axvline(900.0,color=\"k\")\n",
    "ax.axvline(915.0,color=\"k\")\n",
    "ax.axvline(935.0,color=\"k\")\n",
    "ax.axvline(952.0,color=\"k\")\n",
    "ax.axvline(975.0,color=\"k\")\n",
    "\n",
    "plt.show()"
   ]
  },
  {
   "cell_type": "markdown",
   "id": "ca17ebfa-1e0e-4852-8f94-86d148b2e019",
   "metadata": {},
   "source": [
    "## Dependence with airmass"
   ]
  },
  {
   "cell_type": "code",
   "execution_count": null,
   "id": "c9de55bf-6ec5-4bc8-8d1d-719a83e650e3",
   "metadata": {},
   "outputs": [],
   "source": [
    "WLtest = np.array([719.,817.,900.,915.,935.,952.,975.])\n",
    "NWLtest = len(WLtest)\n",
    "hls_colors = sns.color_palette(\"Spectral_r\", NWLtest)\n",
    "sns.palplot(hls_colors)"
   ]
  },
  {
   "cell_type": "code",
   "execution_count": null,
   "id": "cc2a7e98-71f8-43d8-9ea4-91e1214f342d",
   "metadata": {},
   "outputs": [],
   "source": [
    "PWV0 = 5.0\n",
    "transmarray1 = np.zeros((NAM,NWLtest))\n",
    "for idx,airmass in enumerate(airmasses):\n",
    "    transmarray1[idx,:]  = emul.GetPWVabsTransparencyArray(WLtest,airmass,PWV0)\n",
    "for idx,airmass in enumerate(airmasses):\n",
    "     transmarray1[idx,:] =  transmarray1[idx,:]/transmarray1[0,:]"
   ]
  },
  {
   "cell_type": "code",
   "execution_count": null,
   "id": "ea28ca84-c040-4eb0-8cd4-bc1d0816a2dc",
   "metadata": {},
   "outputs": [],
   "source": [
    "fig, ax = plt.subplots()\n",
    "for idx,wl in enumerate(WLtest):\n",
    "    color = hls_colors[idx]\n",
    "    label = \"$\\\\lambda$ = \"+f\"{wl:.0f} nm\"\n",
    "    ax.plot(airmasses,transmarray1[:,idx],'-o',color=color,lw=5,label=label)\n",
    "ax.legend()\n",
    "ax.grid()\n",
    "ax.set_title(f\"PWV attenuation with airmass for PWV = {PWV0} mm\")\n",
    "ax.set_ylabel(\"PWV relative attenuation\")\n",
    "ax.set_xlabel(\"airmass\")\n",
    "ax.set_ylim(0.2,1.1)\n",
    "ax.set_xscale(\"log\")\n",
    "ax.set_yscale(\"log\")"
   ]
  },
  {
   "cell_type": "code",
   "execution_count": null,
   "id": "3d455d78-c5b2-4d7d-ae96-edb3084d51b5",
   "metadata": {},
   "outputs": [],
   "source": [
    "PWV0 = 10.0\n",
    "transmarray2 = np.zeros((NAM,NWLtest))\n",
    "for idx,airmass in enumerate(airmasses):\n",
    "    transmarray2[idx,:]  = emul.GetPWVabsTransparencyArray(WLtest,airmass,PWV0)\n",
    "for idx,airmass in enumerate(airmasses):\n",
    "     transmarray2[idx,:] =  transmarray2[idx,:]/transmarray2[0,:]"
   ]
  },
  {
   "cell_type": "code",
   "execution_count": null,
   "id": "a30ba97d-dcba-4bb9-a772-eb0ba1e3bc7c",
   "metadata": {},
   "outputs": [],
   "source": [
    "fig, ax = plt.subplots()\n",
    "for idx,wl in enumerate(WLtest):\n",
    "    color = hls_colors[idx]\n",
    "    label = \"$\\\\lambda$ = \"+f\"{wl:.0f} nm\"\n",
    "    ax.plot(airmasses,transmarray2[:,idx],'-o',color=color,lw=5,label=label)\n",
    "ax.legend()\n",
    "ax.grid()\n",
    "ax.set_title(f\"PWV attenuation with airmass for PWV = {PWV0} mm\")\n",
    "ax.set_ylabel(\"PWV relative attenuation\")\n",
    "ax.set_xlabel(\"airmass\")\n",
    "ax.set_ylim(0.2,1.01)\n",
    "ax.set_xscale(\"log\")\n",
    "ax.set_yscale(\"log\")"
   ]
  },
  {
   "cell_type": "markdown",
   "id": "21053265-0fec-44c7-b96f-55d756126033",
   "metadata": {},
   "source": [
    "## Fit "
   ]
  },
  {
   "cell_type": "code",
   "execution_count": null,
   "id": "5347b471-065f-412b-8586-77aea570d299",
   "metadata": {},
   "outputs": [],
   "source": [
    "xfit = np.linspace(np.log(airmasses).min(),np.log(airmasses).max(),50)\n",
    "fig, ax = plt.subplots()\n",
    "for idx,wl in enumerate(WLtest):\n",
    "    color = hls_colors[idx]\n",
    "    x = np.log(airmasses)\n",
    "    y = np.log(transmarray1[:,idx])\n",
    "    z = np.polyfit(x[2:], y[2:], deg=1)\n",
    "    p = np.poly1d(z)\n",
    "    gamma = z[0]\n",
    "    const = z[1]\n",
    "    label = \"$\\\\lambda$ = \"+f\"{wl:.0f} nm\"+ f\"fit : slope = {gamma:.3f} const = {const:.3f}\"\n",
    "    ax.plot(x,y,'-o',color=color,lw=5,label=label)\n",
    "    ax.plot(xfit,p(xfit),\":k\")\n",
    "   \n",
    "ax.legend()\n",
    "ax.grid()\n",
    "ax.set_title(f\"PWV attenuation with airmass for PWV = 5 mm\")\n",
    "ax.set_ylabel(\"PWV relative attenuation\")\n",
    "ax.set_xlabel(\"airmass\")\n",
    "#ax.set_ylim(0.8,1.01)\n",
    "#ax.set_xlim(1,airmasses.max())\n",
    "#ax.set_xscale(\"log\")\n",
    "#ax.set_yscale(\"log\")"
   ]
  },
  {
   "cell_type": "code",
   "execution_count": null,
   "id": "1d98051e-c065-49b4-acc0-b3a521e877e6",
   "metadata": {},
   "outputs": [],
   "source": [
    "xfit = np.linspace(np.log(airmasses).min(),np.log(airmasses).max(),50)\n",
    "fig, ax = plt.subplots()\n",
    "for idx,wl in enumerate(WLtest):\n",
    "    color = hls_colors[idx]\n",
    "    x = np.log(airmasses)\n",
    "    y = np.log(transmarray2[:,idx])\n",
    "    z = np.polyfit(x[2:], y[2:], deg=1)\n",
    "    p = np.poly1d(z)\n",
    "    gamma = z[0]\n",
    "    const = z[1]\n",
    "    label = \"$\\\\lambda$ = \"+f\"{wl:.0f} nm\"+ f\"fit : slope = {gamma:.3f} const = {const:.3f}\"\n",
    "    ax.plot(x,y,'-o',color=color,lw=5,label=label)\n",
    "    ax.plot(xfit,p(xfit),\":k\")\n",
    "   \n",
    "ax.legend()\n",
    "ax.grid()\n",
    "ax.set_title(f\"PWV attenuation with airmass for PWV = 10 mm\")\n",
    "ax.set_ylabel(\"PWV relative attenuation\")\n",
    "ax.set_xlabel(\"airmass\")\n",
    "#ax.set_ylim(0.8,1.01)\n",
    "#ax.set_xlim(1,airmasses.max())\n",
    "#ax.set_xscale(\"log\")\n",
    "#ax.set_yscale(\"log\")"
   ]
  },
  {
   "cell_type": "code",
   "execution_count": null,
   "id": "74c3c397-ab6e-4f02-909b-0324a133e37a",
   "metadata": {},
   "outputs": [],
   "source": []
  }
 ],
 "metadata": {
  "kernelspec": {
   "display_name": "conda_py310",
   "language": "python",
   "name": "conda_py310"
  },
  "language_info": {
   "codemirror_mode": {
    "name": "ipython",
    "version": 3
   },
   "file_extension": ".py",
   "mimetype": "text/x-python",
   "name": "python",
   "nbconvert_exporter": "python",
   "pygments_lexer": "ipython3",
   "version": "3.10.12"
  },
  "vscode": {
   "interpreter": {
    "hash": "b002c99f66c5bb850ebba7ae0c2124f7695114407038504fe88ddf9182cfa7d8"
   }
  }
 },
 "nbformat": 4,
 "nbformat_minor": 5
}
