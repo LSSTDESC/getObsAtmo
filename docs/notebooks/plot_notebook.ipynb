{
 "cells": [
  {
   "cell_type": "markdown",
   "id": "d5d58322-4791-4bff-9c51-916d345e085e",
   "metadata": {},
   "source": [
    "# Introduction on ``getObsAtmo``, the emulator for atmospheric transparency at Astronomy Observation sites \n",
    "\n",
    "- author : Sylvie Dagoret-Campagne\n",
    "- affiliation : IJCLab/IN2P3/CNRS\n",
    "- creation date : 2023/12/02\n",
    "- update : 2024/08/27\n",
    "- last update : 2025/06/15\n",
    "- last update : 2025/10/15 : getObsAtmo version 0.2.0\n",
    "\n",
    "This emulator is based from datagrid of atmospheric transparencies extracted from libradtran"
   ]
  },
  {
   "cell_type": "code",
   "execution_count": null,
   "id": "eeb7872a-03c9-421f-8fd7-6ba5c508ff79",
   "metadata": {
    "tags": []
   },
   "outputs": [],
   "source": [
    "import seaborn as sns\n",
    "import matplotlib.pyplot as plt\n",
    "%matplotlib inline\n",
    "import numpy as np\n",
    "\n",
    "# to enlarge the sizes\n",
    "params = {'legend.fontsize': 'large',\n",
    "          'figure.figsize': (12, 6),\n",
    "         'axes.labelsize': 'xx-large',\n",
    "         'axes.titlesize':'xx-large',\n",
    "         'xtick.labelsize':'xx-large',\n",
    "         'ytick.labelsize':'xx-large'}\n",
    "plt.rcParams.update(params)"
   ]
  },
  {
   "cell_type": "code",
   "execution_count": null,
   "id": "276967f2-8c58-4110-83cf-aebc9b4ef95a",
   "metadata": {
    "tags": []
   },
   "outputs": [],
   "source": [
    "import warnings\n",
    "warnings.filterwarnings('ignore')"
   ]
  },
  {
   "cell_type": "markdown",
   "id": "b0a9c40d-f5f4-4aca-b4fa-de020205e534",
   "metadata": {},
   "source": [
    "# Imports"
   ]
  },
  {
   "cell_type": "code",
   "execution_count": null,
   "id": "f17c00f4-b011-4b9c-ba9f-83d375a1e0d2",
   "metadata": {},
   "outputs": [],
   "source": [
    "import getObsAtmo\n",
    "from getObsAtmo.getObsAtmo import ObsAtmo,validateObsName,Dict_Of_sitesPressures,_getPackageDir,get_obssite_dataframe,get_obssite_keys,is_obssite"
   ]
  },
  {
   "cell_type": "markdown",
   "id": "ae725422-ec9e-4ee4-bc95-012499cf117c",
   "metadata": {},
   "source": [
    "## Check information"
   ]
  },
  {
   "cell_type": "markdown",
   "id": "9838dae2-8e70-4d09-bdd0-abe3ecc5658d",
   "metadata": {},
   "source": [
    "### getObsAtmo version"
   ]
  },
  {
   "cell_type": "code",
   "execution_count": null,
   "id": "951d6cec-6570-4012-9c99-f0c80cfb26cb",
   "metadata": {},
   "outputs": [],
   "source": [
    "print(f\"{getObsAtmo.__name__} version {getObsAtmo._version.__version__}\")"
   ]
  },
  {
   "cell_type": "code",
   "execution_count": null,
   "id": "a7891457-e04c-40f5-94f6-15f8a0198f18",
   "metadata": {},
   "outputs": [],
   "source": [
    "the_version = getObsAtmo._version.__version__"
   ]
  },
  {
   "cell_type": "markdown",
   "id": "3fb62291-57b4-4e63-aa58-0c3fb6a4dedb",
   "metadata": {},
   "source": [
    "### Dictionnary"
   ]
  },
  {
   "cell_type": "code",
   "execution_count": null,
   "id": "8bf39dcb-64b2-4ef9-a34e-5066d58c7959",
   "metadata": {
    "tags": []
   },
   "outputs": [],
   "source": [
    "Dict_Of_sitesPressures"
   ]
  },
  {
   "cell_type": "markdown",
   "id": "632dafeb-3ab5-4249-a035-729ed239485e",
   "metadata": {},
   "source": [
    "### Choose Rubin-LSST observation sites but other sites may be chosen"
   ]
  },
  {
   "cell_type": "code",
   "execution_count": null,
   "id": "3651e0ba-0e55-4109-8f85-0ab083251b90",
   "metadata": {
    "tags": []
   },
   "outputs": [],
   "source": [
    "obssitename = 'AuxTel '\n",
    "obs_str = validateObsName(obssitename) \n",
    "std_pressure = Dict_Of_sitesPressures[obs_str]\n",
    "new_pressure = Dict_Of_sitesPressures[obs_str]*1.1\n",
    "print(new_pressure)\n",
    "\n",
    "label1 = f\"P = {std_pressure:.0f} hPa\"\n",
    "label2 = f\"P = {new_pressure:.0f} hPa\""
   ]
  },
  {
   "cell_type": "code",
   "execution_count": null,
   "id": "20c662f8-d964-4b92-bfb5-a9e14a4e3e9b",
   "metadata": {},
   "outputs": [],
   "source": [
    "emul1 =  ObsAtmo(obs_str= obssitename)\n",
    "emul2 =  ObsAtmo(obs_str= obssitename,pressure = new_pressure)"
   ]
  },
  {
   "cell_type": "markdown",
   "id": "1070eded-26f6-4b27-abf9-c7bf9a08e89e",
   "metadata": {},
   "source": [
    "# Typical transmission plot\n",
    "\n",
    "- show a typical transmission plot"
   ]
  },
  {
   "cell_type": "code",
   "execution_count": null,
   "id": "6b7ea685-a3c4-4eae-895a-3ef8cca32436",
   "metadata": {},
   "outputs": [],
   "source": [
    "emul1.plot_transmission()"
   ]
  },
  {
   "cell_type": "markdown",
   "id": "1949a817-9985-48b0-8735-e5bcf8e285a9",
   "metadata": {},
   "source": [
    "# Setting atmospheric parameters"
   ]
  },
  {
   "cell_type": "code",
   "execution_count": null,
   "id": "d93ddef0-1570-42a7-8ab2-edc8cf755d14",
   "metadata": {},
   "outputs": [],
   "source": [
    "WL = emul1.GetWL()\n",
    "airmasses = emul1.AIRMASS\n",
    "NAM = len(airmasses)\n",
    "pwvs = emul1.PWV\n",
    "NPWV = len(pwvs)\n",
    "ozs = emul1.OZ\n",
    "NOZ = len(ozs)"
   ]
  },
  {
   "cell_type": "code",
   "execution_count": null,
   "id": "43201a59-1fa5-4380-ab6d-72e54525cbc6",
   "metadata": {},
   "outputs": [],
   "source": [
    "hls_colors = sns.color_palette(\"hls\", NAM)\n",
    "sns.palplot(hls_colors)"
   ]
  },
  {
   "cell_type": "markdown",
   "id": "e7c1cbe1-8c44-4956-ad6d-965a70ffd6c0",
   "metadata": {},
   "source": [
    "## Check emulator with Rayleigh scattering"
   ]
  },
  {
   "cell_type": "code",
   "execution_count": null,
   "id": "39bdd744-1148-46d9-8ebb-6fd2f777fd78",
   "metadata": {},
   "outputs": [],
   "source": [
    "fig, ax = plt.subplots()\n",
    "for idx,am in enumerate(airmasses):\n",
    "\n",
    "    transm1 = emul1.GetRayleighTransparencyArray(WL,am)\n",
    "    transm2 = emul2.GetRayleighTransparencyArray(WL,am)\n",
    "    \n",
    "    if idx == 0:\n",
    "        ax.plot(WL,transm1,\":\",color=hls_colors[idx],label=label1)\n",
    "        ax.plot(WL,transm2,\"-\",color=hls_colors[idx],label=label2)\n",
    "    else:\n",
    "        ax.plot(WL,transm1,\":\",color=hls_colors[idx])\n",
    "        ax.plot(WL,transm2,\"-\",color=hls_colors[idx])\n",
    "    \n",
    "title = f\"ObsAtmo : Rayleigh scattering for different pressures (version {the_version})\"\n",
    "ax.set_title(title)\n",
    "ax.set_xlabel(\"$\\lambda$ (nm)\")\n",
    "ax.set_ylabel(\"transmission\")\n",
    "# place a text box in upper left in axes coords\n",
    "#ax.text(0.5, 0.05, textboxstr, transform=ax.transAxes, fontsize=14,verticalalignment='bottom', bbox=textboxprops)\n",
    "ax.grid()\n",
    "ax.legend()\n"
   ]
  },
  {
   "cell_type": "markdown",
   "id": "d5febae6-7e6b-494e-be93-f570def732bc",
   "metadata": {},
   "source": [
    "## Check emulator with Oxygen O2 absorption"
   ]
  },
  {
   "cell_type": "code",
   "execution_count": null,
   "id": "3f837e3b-d029-4f9b-b455-6ef264dc05ed",
   "metadata": {},
   "outputs": [],
   "source": [
    "fig, ax = plt.subplots()\n",
    "for idx,am in enumerate(airmasses):\n",
    "\n",
    "    transm1 = emul1.GetO2absTransparencyArray(WL,am)\n",
    "    transm2 = emul2.GetO2absTransparencyArray(WL,am)\n",
    "    \n",
    "    if idx == 0:\n",
    "        ax.plot(WL,transm1,\":\",color=hls_colors[idx],label=label1)\n",
    "        ax.plot(WL,transm2,\"-\",color=hls_colors[idx],label=label2)\n",
    "    else:\n",
    "        ax.plot(WL,transm1,\":\",color=hls_colors[idx])\n",
    "        ax.plot(WL,transm2,\"-\",color=hls_colors[idx])\n",
    "        \n",
    "\n",
    "title = f\"ObsAtmo : O2 absorption for different pressures (version {the_version})\"\n",
    "ax.set_title(title)\n",
    "ax.set_xlabel(\"$\\lambda$ (nm)\")\n",
    "ax.set_ylabel(\"transmission\")\n",
    "ax.set_xlim(600.,800.)\n",
    "# place a text box in upper left in axes coords\n",
    "#ax.text(0.5, 0.05, textboxstr, transform=ax.transAxes, fontsize=14,verticalalignment='bottom', bbox=textboxprops)\n",
    "ax.grid()\n",
    "ax.legend()"
   ]
  },
  {
   "cell_type": "markdown",
   "id": "2aa450fa-8b53-4a40-b2c5-67a8996cd5b5",
   "metadata": {},
   "source": [
    "### Zoom at the O2 abs line at 760 nm"
   ]
  },
  {
   "cell_type": "code",
   "execution_count": null,
   "id": "df9320ae-1c09-46cf-9c41-f51baffbdc60",
   "metadata": {
    "tags": []
   },
   "outputs": [],
   "source": [
    "fig, ax = plt.subplots()\n",
    "for idx,am in enumerate(airmasses):\n",
    "\n",
    "    transm1 = emul1.GetO2absTransparencyArray(WL,am)\n",
    "    transm2 = emul2.GetO2absTransparencyArray(WL,am)\n",
    "    \n",
    "    if idx == 0:\n",
    "        ax.plot(WL,transm1,\":\",color=hls_colors[idx],label=label1)\n",
    "        ax.plot(WL,transm2,\"-\",color=hls_colors[idx],label=label2)\n",
    "    else:\n",
    "        ax.plot(WL,transm1,\":\",color=hls_colors[idx])\n",
    "        ax.plot(WL,transm2,\"-\",color=hls_colors[idx])\n",
    "        \n",
    "\n",
    "title = f\"ObsAtmo : O2 absorption for different pressures (version {the_version})\"\n",
    "ax.set_title(title)\n",
    "ax.set_xlabel(\"$\\lambda$ (nm)\")\n",
    "ax.set_ylabel(\"transmission\")\n",
    "ax.set_xlim(750.,775.)\n",
    "# place a text box in upper left in axes coords\n",
    "#ax.text(0.5, 0.05, textboxstr, transform=ax.transAxes, fontsize=14,verticalalignment='bottom', bbox=textboxprops)\n",
    "ax.grid()\n",
    "ax.legend()"
   ]
  },
  {
   "cell_type": "markdown",
   "id": "a8985efb-aa83-47c6-bf4b-ca95c9630427",
   "metadata": {},
   "source": [
    "## Check emulator with PWV absorption"
   ]
  },
  {
   "cell_type": "markdown",
   "id": "29d89c7e-b5f6-4315-89b0-b6734b8e1a05",
   "metadata": {},
   "source": [
    "Expect no difference"
   ]
  },
  {
   "cell_type": "code",
   "execution_count": null,
   "id": "60bddbab-27d1-4dc6-815b-15d8bb2adde0",
   "metadata": {},
   "outputs": [],
   "source": [
    "hls_colors = sns.color_palette(\"hls\", NPWV)\n",
    "sns.palplot(hls_colors)"
   ]
  },
  {
   "cell_type": "code",
   "execution_count": null,
   "id": "3421b63d-3603-4bcc-b06a-fb8ba98bf618",
   "metadata": {},
   "outputs": [],
   "source": [
    "am =1\n",
    "\n",
    "fig, ax = plt.subplots()\n",
    "for idx,pwv in enumerate(pwvs):\n",
    "\n",
    "    transm1 = emul1.GetPWVabsTransparencyArray(WL,am,pwv)\n",
    "    transm2 = emul2.GetPWVabsTransparencyArray(WL,am,pwv)\n",
    "    \n",
    "    if idx == 0:\n",
    "        ax.plot(WL,transm1,\":\",color=hls_colors[idx],label=label1)\n",
    "        ax.plot(WL,transm2,\"-\",color=hls_colors[idx],label=label2)\n",
    "    else:\n",
    "        ax.plot(WL,transm1,\":\",color=hls_colors[idx])\n",
    "        ax.plot(WL,transm2,\"-\",color=hls_colors[idx])\n",
    "        \n",
    "\n",
    "title = f\"ObsAtmo : H2O absorption for different pressures, am = {am:.1f} (version {the_version})\"\n",
    "ax.set_title(title)\n",
    "ax.set_xlabel(\"$\\lambda$ (nm)\")\n",
    "ax.set_ylabel(\"transmission\")\n",
    "ax.set_xlim(700.,1000.)\n",
    "# place a text box in upper left in axes coords\n",
    "#ax.text(0.5, 0.05, textboxstr, transform=ax.transAxes, fontsize=14,verticalalignment='bottom', bbox=textboxprops)\n",
    "ax.grid()\n",
    "ax.legend()\n",
    "\n"
   ]
  },
  {
   "cell_type": "code",
   "execution_count": null,
   "id": "4bab0556-89a8-41b9-9b4b-26da13784960",
   "metadata": {},
   "outputs": [],
   "source": [
    "pwvs"
   ]
  },
  {
   "cell_type": "markdown",
   "id": "a3802a0a-42a2-4aab-8293-8be3d8bb9713",
   "metadata": {},
   "source": [
    "## Check emulator with Ozone absorption\n",
    "\n",
    "- expect no difference"
   ]
  },
  {
   "cell_type": "code",
   "execution_count": null,
   "id": "b025a29c-181c-4a61-ba6c-db908e7b1c63",
   "metadata": {},
   "outputs": [],
   "source": [
    "hls_colors = sns.color_palette(\"hls\", NOZ)\n",
    "sns.palplot(hls_colors)"
   ]
  },
  {
   "cell_type": "code",
   "execution_count": null,
   "id": "f588adf2-d3d2-482c-89e7-b89a1ba9258c",
   "metadata": {
    "tags": []
   },
   "outputs": [],
   "source": [
    "am =1\n",
    "\n",
    "fig, ax = plt.subplots()\n",
    "for idx,oz in enumerate(ozs):\n",
    "\n",
    "    transm1 = emul1.GetOZabsTransparencyArray(WL,am,oz)\n",
    "    transm2 = emul2.GetOZabsTransparencyArray(WL,am,oz)\n",
    "    \n",
    "    if idx == 0:\n",
    "        ax.plot(WL,transm1,\":\",color=hls_colors[idx],label=label1)\n",
    "        ax.plot(WL,transm2,\"-\",color=hls_colors[idx],label=label2)\n",
    "    else:\n",
    "        ax.plot(WL,transm1,\":\",color=hls_colors[idx])\n",
    "        ax.plot(WL,transm2,\"-\",color=hls_colors[idx])\n",
    "        \n",
    "\n",
    "title = f\" ObsAtmo : Ozone absorption for different pressure, am = {am:.1f} (version {the_version})\"\n",
    "ax.set_title(title)\n",
    "ax.set_xlabel(\"$\\lambda$ (nm)\")\n",
    "ax.set_ylabel(\"transmission\")\n",
    "ax.set_xlim(300.,800.)\n",
    "ax.set_ylim(0.9,1.0)\n",
    "# place a text box in upper left in axes coords\n",
    "#ax.text(0.5, 0.05, textboxstr, transform=ax.transAxes, fontsize=14,verticalalignment='bottom', bbox=textboxprops)\n",
    "ax.grid()\n",
    "ax.legend()\n",
    "\n"
   ]
  },
  {
   "cell_type": "markdown",
   "id": "e918bf6a-df3f-4e7e-80d2-fb8234e76747",
   "metadata": {},
   "source": [
    "## Check emulator with combined ascattering and absorption process and check with libradtran"
   ]
  },
  {
   "cell_type": "code",
   "execution_count": null,
   "id": "608817ce-d894-4cf5-9429-13b0ae3d9650",
   "metadata": {},
   "outputs": [],
   "source": [
    "am0 = 1.0\n",
    "pwv0 = 5.0\n",
    "oz0 = 500.\n",
    "transm1 = emul1.GetGriddedTransparencies(WL,am0,pwv0,oz0,flagRayleigh=True)\n",
    "transm2 = emul2.GetGriddedTransparencies(WL,am0,pwv0,oz0,flagRayleigh=True)"
   ]
  },
  {
   "cell_type": "code",
   "execution_count": null,
   "id": "7e6f7bba-65b3-49bc-9aaa-10b90dc33403",
   "metadata": {},
   "outputs": [],
   "source": [
    "fig, ax = plt.subplots()\n",
    "\n",
    "ax.plot(WL,transm1,'b-',label=label1)\n",
    "ax.plot(WL,transm2,'r-',label=label2)\n",
    "\n",
    "title = f\"ObsAtmo : total transmission, am = {am0:.1f} (version {the_version})\"\n",
    "ax.set_title(title)\n",
    "ax.set_xlabel(\"$\\lambda$ (nm)\")\n",
    "ax.set_ylabel(\"transmission\")\n",
    "# place a text box in upper left in axes coords\n",
    "#ax.text(0.5, 0.05, textboxstr, transform=ax.transAxes, fontsize=14,verticalalignment='bottom', bbox=textboxprops)\n",
    "ax.grid()\n",
    "ax.legend()"
   ]
  },
  {
   "cell_type": "markdown",
   "id": "38489d00-ba17-4b5c-9e0d-1a46655b60f2",
   "metadata": {},
   "source": [
    "### Zoom at O2 absorption lines"
   ]
  },
  {
   "cell_type": "code",
   "execution_count": null,
   "id": "9c02a9a8-94c1-4ac8-badf-556e41e18942",
   "metadata": {
    "tags": []
   },
   "outputs": [],
   "source": [
    "fig, ax = plt.subplots()\n",
    "\n",
    "ax.plot(WL,transm1,'b-',label=label1)\n",
    "ax.plot(WL,transm2,'r-',label=label2)\n",
    "\n",
    "title = f\"ObsAtmo : total transmission, am = {am0:.1f} (version {the_version})\"\n",
    "ax.set_title(title)\n",
    "ax.set_xlabel(\"$\\lambda$ (nm)\")\n",
    "ax.set_ylabel(\"transmission\")\n",
    "ax.set_xlim(660.,800.)\n",
    "# place a text box in upper left in axes coords\n",
    "#ax.text(0.5, 0.05, textboxstr, transform=ax.transAxes, fontsize=14,verticalalignment='bottom', bbox=textboxprops)\n",
    "ax.grid()\n",
    "ax.legend()"
   ]
  },
  {
   "cell_type": "markdown",
   "id": "6c3def0c-4bde-40a0-bcfb-28ab13771b16",
   "metadata": {},
   "source": [
    "## Check aerosols"
   ]
  },
  {
   "cell_type": "code",
   "execution_count": null,
   "id": "ddc8c0fc-023e-49aa-a984-0ef266582bfb",
   "metadata": {},
   "outputs": [],
   "source": [
    "all_taus = np.arange(0,0.3,0.05)\n",
    "NAER = len(all_taus) \n",
    "hls_colors = sns.color_palette(\"hls\", NAER)\n",
    "sns.palplot(hls_colors)"
   ]
  },
  {
   "cell_type": "code",
   "execution_count": null,
   "id": "9129cca2-a975-41f5-bb50-9db2489f04dc",
   "metadata": {},
   "outputs": [],
   "source": [
    "fig, ax = plt.subplots()\n",
    "for index,tau in enumerate(all_taus):\n",
    "    transm = emul1.GetAerosolsTransparencies(WL,am,tau) \n",
    "    label = r\"$\\tau$ =\" + f\"{tau:.2f}\"\n",
    "    ax.plot(WL,transm,color=hls_colors[index],label=label)\n",
    "title = f\"ObsAtmo : aerosol transmission, airmass = {am:.1f} (version {the_version})\"\n",
    "ax.set_title(title)\n",
    "ax.set_xlabel(\"$\\lambda$ (nm)\")\n",
    "ax.set_ylabel(\"transmission\")\n",
    "# place a text box in upper left in axes coords\n",
    "#ax.text(0.5, 0.05, textboxstr, transform=ax.transAxes, fontsize=14,verticalalignment='bottom', bbox=textboxprops)\n",
    "ax.grid()\n",
    "ax.legend()\n",
    "ax.set_ylim(0,1)"
   ]
  },
  {
   "cell_type": "code",
   "execution_count": null,
   "id": "5c2fff64-b77f-4ce8-97a0-7684bd0f1e06",
   "metadata": {},
   "outputs": [],
   "source": [
    "all_betas = np.arange(0.1,2.5,0.2)\n",
    "NAER = len(all_betas) \n",
    "hls_colors = sns.color_palette(\"hls\", NAER)\n",
    "sns.palplot(hls_colors)\n",
    "tau = 0.1"
   ]
  },
  {
   "cell_type": "code",
   "execution_count": null,
   "id": "4de107fa-6f29-4055-b823-9fe700e8270a",
   "metadata": {},
   "outputs": [],
   "source": [
    "fig, ax = plt.subplots()\n",
    "for index,beta in enumerate(all_betas):\n",
    "    transm = emul1.GetAerosolsTransparencies(WL,am,tau,beta) \n",
    "    label = r\"$\\beta$ =\" + f\"{beta:.2f}\"\n",
    "    ax.plot(WL,transm,color=hls_colors[index],label=label)\n",
    "title = f\"ObsAtmo : aerosol transmission, airmass = {am:.1f}, tau = {tau:.2f} (version {the_version})\"\n",
    "ax.set_title(title)\n",
    "ax.set_xlabel(\"$\\lambda$ (nm)\")\n",
    "ax.set_ylabel(\"transmission\")\n",
    "# place a text box in upper left in axes coords\n",
    "#ax.text(0.5, 0.05, textboxstr, transform=ax.transAxes, fontsize=14,verticalalignment='bottom', bbox=textboxprops)\n",
    "ax.grid()\n",
    "ax.legend()\n",
    "ax.set_ylim(0.5,1.05)"
   ]
  },
  {
   "cell_type": "markdown",
   "id": "091ffb3c-bac4-432f-9378-4aef4c497d8d",
   "metadata": {},
   "source": [
    "## The standard way to call atmospheric transmission"
   ]
  },
  {
   "cell_type": "code",
   "execution_count": null,
   "id": "9be53066-7749-4d02-94d2-87727c36bd7d",
   "metadata": {},
   "outputs": [],
   "source": [
    "sorted_site_by_pressure = sorted(Dict_Of_sitesPressures.items(), key=lambda x:x[1])\n",
    "sorted_site_by_pressure"
   ]
  },
  {
   "cell_type": "code",
   "execution_count": null,
   "id": "d1c90da9-a833-47ad-907a-9b5deeca3dca",
   "metadata": {},
   "outputs": [],
   "source": [
    "all_sites = sorted_site_by_pressure\n",
    "NSites = len(all_sites)\n",
    "hls_colors = sns.color_palette(\"hls\", NSites)\n",
    "sns.palplot(hls_colors)"
   ]
  },
  {
   "cell_type": "code",
   "execution_count": null,
   "id": "951ba122-1789-4376-ad37-8331eec52f1c",
   "metadata": {},
   "outputs": [],
   "source": [
    "am=1\n",
    "pwv = 4.0\n",
    "oz= 400.\n",
    "tau = 0.\n",
    "beta = 3\n",
    "\n",
    "fig, ax = plt.subplots()\n",
    "\n",
    "for idx,site in enumerate(all_sites):\n",
    "\n",
    "    obs_str = site[0]\n",
    "    ref_press = site[1]\n",
    "    \n",
    "    emul = ObsAtmo(obs_str)\n",
    "    pressure= emul.pressure\n",
    "    \n",
    "    label= f\"{obs_str} (P = {pressure:.1f} hPa)\"\n",
    "    \n",
    "    transm = emul.GetAllTransparencies(WL,am,pwv,oz,tau,beta)\n",
    "    ax.plot(WL,transm,'-',color=hls_colors[idx],label=label)\n",
    "\n",
    "title = f\"ObsAtmo : total transmission, airmass = {am:.1f} (version {the_version})\"\n",
    "ax.set_title(title)\n",
    "ax.set_xlabel(\"$\\lambda$ (nm)\")\n",
    "ax.set_ylabel(\"transmission\")\n",
    "# place a text box in upper left in axes coords\n",
    "#ax.text(0.5, 0.05, textboxstr, transform=ax.transAxes, fontsize=14,verticalalignment='bottom', bbox=textboxprops)\n",
    "ax.grid()\n",
    "ax.legend()"
   ]
  },
  {
   "cell_type": "code",
   "execution_count": null,
   "id": "6c1c6868-c660-41de-8161-e226e6236cb0",
   "metadata": {},
   "outputs": [],
   "source": [
    "am=1\n",
    "pwv = 4.0\n",
    "oz= 400.\n",
    "tau = 0.1\n",
    "beta = 1.2\n",
    "\n",
    "fig, ax = plt.subplots()\n",
    "\n",
    "for idx,site in enumerate(all_sites):\n",
    "\n",
    "    obs_str = site[0]\n",
    "    ref_press = site[1]\n",
    "    \n",
    "    emul = ObsAtmo(obs_str)\n",
    "    pressure= emul.pressure\n",
    "    \n",
    "    label= f\"{obs_str} (P = {pressure:.1f} hPa)\"\n",
    "    \n",
    "    transm = emul.GetAllTransparencies(WL,am,pwv,oz,tau,beta)\n",
    "    ax.plot(WL,transm,'-',color=hls_colors[idx],label=label)\n",
    "\n",
    "title = f\"ObsAtmo : total transmission, airmass = {am:.1f} (version {the_version})\"\n",
    "ax.set_title(title)\n",
    "ax.set_xlabel(\"$\\lambda$ (nm)\")\n",
    "ax.set_ylabel(\"transmission\")\n",
    "ax.set_xlim(750.,775.)\n",
    "# place a text box in upper left in axes coords\n",
    "#ax.text(0.5, 0.05, textboxstr, transform=ax.transAxes, fontsize=14,verticalalignment='bottom', bbox=textboxprops)\n",
    "ax.grid()\n",
    "ax.legend()"
   ]
  }
 ],
 "metadata": {
  "kernelspec": {
   "display_name": "conda_py312_getobsatmo",
   "language": "python",
   "name": "conda_py312_getobsatmo"
  },
  "language_info": {
   "codemirror_mode": {
    "name": "ipython",
    "version": 3
   },
   "file_extension": ".py",
   "mimetype": "text/x-python",
   "name": "python",
   "nbconvert_exporter": "python",
   "pygments_lexer": "ipython3",
   "version": "3.12.12"
  },
  "vscode": {
   "interpreter": {
    "hash": "b002c99f66c5bb850ebba7ae0c2124f7695114407038504fe88ddf9182cfa7d8"
   }
  }
 },
 "nbformat": 4,
 "nbformat_minor": 5
}
