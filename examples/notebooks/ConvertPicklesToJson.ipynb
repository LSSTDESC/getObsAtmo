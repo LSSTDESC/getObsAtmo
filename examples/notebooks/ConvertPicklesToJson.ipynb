{
 "cells": [
  {
   "cell_type": "markdown",
   "id": "5e1cfe34-ea38-4932-9dbc-1d6d58bb96ab",
   "metadata": {},
   "source": [
    "# Convert Pickles to Json"
   ]
  },
  {
   "cell_type": "markdown",
   "id": "df75cc7f-8849-4725-9abe-3bd3e9932e6b",
   "metadata": {},
   "source": [
    "- author : Sylvie Dagoret-Campagne\n",
    "- affiliation : IJCLab/IN2P3/CNRS\n",
    "- creation date : 2025/10/15\n",
    "- last update : 2025/10/15 : getObsAtmo version 0.2.0"
   ]
  },
  {
   "cell_type": "code",
   "execution_count": null,
   "id": "38ad03b1-e1ff-4052-943d-62c3f8637701",
   "metadata": {},
   "outputs": [],
   "source": [
    "import os,sys\n",
    "import pickle\n",
    "import numpy as np\n",
    "import json\n",
    "import pandas as pd\n",
    "from typing import Any, Dict, Optional"
   ]
  },
  {
   "cell_type": "code",
   "execution_count": null,
   "id": "cb866fc9-3fe0-4f2d-a445-3adb35baa0aa",
   "metadata": {},
   "outputs": [],
   "source": [
    "import getObsAtmo\n",
    "from getObsAtmo.getObsAtmo import ObsAtmo,validateObsName,Dict_Of_sitesPressures,_getPackageDir,get_obssite_dataframe,get_obssite_keys,is_obssite"
   ]
  },
  {
   "cell_type": "code",
   "execution_count": null,
   "id": "b088b76b-c15b-4353-a9cf-5622eb276615",
   "metadata": {},
   "outputs": [],
   "source": [
    "from getObsAtmo.getObsAtmo import convert_dict_to_json,convert_json_to_dict"
   ]
  },
  {
   "cell_type": "code",
   "execution_count": null,
   "id": "42b133c3-290f-4d66-9e31-8ae79f96c228",
   "metadata": {},
   "outputs": [],
   "source": [
    "file_data_dict = {\n",
    "    \"info\": \"atmospherictransparencygrid_params.pickle\",\n",
    "    \"data_rayleigh\": \"atmospherictransparencygrid_rayleigh.npy\",\n",
    "    \"data_o2abs\": \"atmospherictransparencygrid_O2abs.npy\",\n",
    "    \"data_pwvabs\": \"atmospherictransparencygrid_PWVabs.npy\",\n",
    "    \"data_ozabs\": \"atmospherictransparencygrid_OZabs.npy\",\n",
    "}"
   ]
  },
  {
   "cell_type": "markdown",
   "id": "cfa6e61e-9fe2-4abc-9341-15cf64bf34af",
   "metadata": {},
   "source": [
    "## Config"
   ]
  },
  {
   "cell_type": "markdown",
   "id": "aae186a9-f3e2-4810-ad19-0fdbf1af3e41",
   "metadata": {},
   "source": [
    "### version"
   ]
  },
  {
   "cell_type": "code",
   "execution_count": null,
   "id": "d76b518b-9626-4370-be09-e9be09069b93",
   "metadata": {},
   "outputs": [],
   "source": [
    "print(f\"{getObsAtmo.__name__} version {getObsAtmo._version.__version__}\")"
   ]
  },
  {
   "cell_type": "markdown",
   "id": "93bad4e5-cd31-4235-9384-ed9299b0b4be",
   "metadata": {},
   "source": [
    "### Observatories"
   ]
  },
  {
   "cell_type": "code",
   "execution_count": null,
   "id": "d5b415d2-df31-4993-88d4-b42ed013f30f",
   "metadata": {},
   "outputs": [],
   "source": [
    "#all_OBS_tag = ['CTIO','OSL','LSST','PDM','OHP','VLT','OMK','ZTF']\n",
    "df = get_obssite_dataframe()\n",
    "all_OBS_tag = df.index "
   ]
  },
  {
   "cell_type": "markdown",
   "id": "0b0a9910-acf4-43cc-be51-47913ab0133c",
   "metadata": {},
   "source": [
    "### data path"
   ]
  },
  {
   "cell_type": "code",
   "execution_count": null,
   "id": "e2d5649b-adc6-4b17-a3a3-6d3356a618c7",
   "metadata": {},
   "outputs": [],
   "source": [
    "# construct the path of input data file\n",
    "path = os.path.join(_getPackageDir(), 'obsatmo_data')"
   ]
  },
  {
   "cell_type": "markdown",
   "id": "69bbf495-41db-4e77-b783-b21ae4f2b390",
   "metadata": {},
   "source": [
    "## Generate files"
   ]
  },
  {
   "cell_type": "code",
   "execution_count": null,
   "id": "6732ea07-af75-4e95-9f3e-2899c67a97be",
   "metadata": {},
   "outputs": [],
   "source": [
    "for OBS_tag in all_OBS_tag:\n",
    "\n",
    "    info_params = {}\n",
    "\n",
    "    # load all data files (training and test)\n",
    "    #input_filename = os.path.join(path, OBS_tag + \"_\" + file_data_dict[\"info\"])\n",
    "    input_filename = os.path.join(\".\", OBS_tag + \"_\" + file_data_dict[\"info\"])\n",
    "    output_filename = os.path.basename(input_filename).split(\".\")[0]+\".json\"\n",
    "\n",
    "    with open(input_filename, 'rb') as f:\n",
    "        info_params = pickle.load(f)\n",
    "\n",
    "    data_json = convert_dict_to_json(info_params, None)\n",
    "    with open(output_filename , 'w') as f:\n",
    "        json.dump(data_json, f, indent=4)\n",
    "\n",
    "    # load from JSON file\n",
    "    with open(output_filename, 'r') as f:\n",
    "        loaded_data_json = json.load(f)\n",
    "    data = convert_json_to_dict(loaded_data_json)"
   ]
  }
 ],
 "metadata": {
  "kernelspec": {
   "display_name": "conda_py312_getobsatmo",
   "language": "python",
   "name": "conda_py312_getobsatmo"
  },
  "language_info": {
   "codemirror_mode": {
    "name": "ipython",
    "version": 3
   },
   "file_extension": ".py",
   "mimetype": "text/x-python",
   "name": "python",
   "nbconvert_exporter": "python",
   "pygments_lexer": "ipython3",
   "version": "3.12.12"
  }
 },
 "nbformat": 4,
 "nbformat_minor": 5
}
