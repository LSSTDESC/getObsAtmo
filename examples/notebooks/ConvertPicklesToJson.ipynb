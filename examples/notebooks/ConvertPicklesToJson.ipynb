{
 "cells": [
  {
   "cell_type": "markdown",
   "id": "0",
   "metadata": {},
   "source": [
    "# Convert Pickles to Json"
   ]
  },
  {
   "cell_type": "markdown",
   "id": "1",
   "metadata": {},
   "source": [
    "- author : Sylvie Dagoret-Campagne\n",
    "- affiliation : IJCLab/IN2P3/CNRS\n",
    "- creation date : 2025/10/15\n",
    "- last update : 2025/10/15 : getObsAtmo version 0.2.0\n",
    "- last update : 2025/10/18 : getObsAtmo version 0.2.2\n",
    "- input in notebooks directory (must run ConvertJsonToPickle.ipynb before this notebook)"
   ]
  },
  {
   "cell_type": "code",
   "execution_count": null,
   "id": "2",
   "metadata": {},
   "outputs": [],
   "source": [
    "import os,sys\n",
    "import pickle\n",
    "import numpy as np\n",
    "import json\n",
    "import pandas as pd\n",
    "from typing import Any, Dict, Optional"
   ]
  },
  {
   "cell_type": "code",
   "execution_count": null,
   "id": "3",
   "metadata": {},
   "outputs": [],
   "source": [
    "import getObsAtmo\n",
    "from getObsAtmo.getObsAtmo import ObsAtmo,validateObsName,Dict_Of_sitesPressures,_getPackageDir,get_obssite_dataframe,get_obssite_keys,is_obssite,file_data_dict"
   ]
  },
  {
   "cell_type": "code",
   "execution_count": null,
   "id": "4",
   "metadata": {},
   "outputs": [],
   "source": [
    "from getObsAtmo.getObsAtmo import convert_dict_to_json,convert_json_to_dict"
   ]
  },
  {
   "cell_type": "markdown",
   "id": "5",
   "metadata": {},
   "source": [
    "## Config"
   ]
  },
  {
   "cell_type": "markdown",
   "id": "6",
   "metadata": {},
   "source": [
    "### version"
   ]
  },
  {
   "cell_type": "code",
   "execution_count": null,
   "id": "7",
   "metadata": {},
   "outputs": [
    {
     "name": "stdout",
     "output_type": "stream",
     "text": [
      "getObsAtmo version 0.2.2\n"
     ]
    }
   ],
   "source": [
    "print(f\"{getObsAtmo.__name__} version {getObsAtmo._version.__version__}\")"
   ]
  },
  {
   "cell_type": "markdown",
   "id": "8",
   "metadata": {},
   "source": [
    "### Observatories"
   ]
  },
  {
   "cell_type": "code",
   "execution_count": null,
   "id": "9",
   "metadata": {},
   "outputs": [],
   "source": [
    "df = get_obssite_dataframe()\n",
    "all_OBS_tag = df.index "
   ]
  },
  {
   "cell_type": "markdown",
   "id": "10",
   "metadata": {},
   "source": [
    "### data path"
   ]
  },
  {
   "cell_type": "code",
   "execution_count": null,
   "id": "11",
   "metadata": {},
   "outputs": [],
   "source": [
    "# construct the path of input data file\n",
    "path = os.path.join(_getPackageDir(), 'obsatmo_data')"
   ]
  },
  {
   "cell_type": "markdown",
   "id": "12",
   "metadata": {},
   "source": [
    "## Generate files"
   ]
  },
  {
   "cell_type": "code",
   "execution_count": null,
   "id": "13",
   "metadata": {},
   "outputs": [
    {
     "data": {
      "text/plain": [
       "{'info': 'atmospherictransparencygrid_params.json',\n",
       " 'data_rayleigh': 'atmospherictransparencygrid_rayleigh.npy',\n",
       " 'data_o2abs': 'atmospherictransparencygrid_O2abs.npy',\n",
       " 'data_pwvabs': 'atmospherictransparencygrid_PWVabs.npy',\n",
       " 'data_ozabs': 'atmospherictransparencygrid_OZabs.npy'}"
      ]
     },
     "execution_count": null,
     "metadata": {},
     "output_type": "execute_result"
    }
   ],
   "source": [
    "file_data_dict"
   ]
  },
  {
   "cell_type": "code",
   "execution_count": null,
   "id": "14",
   "metadata": {},
   "outputs": [],
   "source": [
    "for OBS_tag in all_OBS_tag:\n",
    "\n",
    "    info_params = {}\n",
    "\n",
    "    # picle inputs are in this  notebook directory (after running ConvertJsonToPickle.ipynb)\n",
    "    input_filename = os.path.join(\"./\", OBS_tag + \"_\" + file_data_dict[\"info\"])\n",
    "    input_filename = os.path.basename(input_filename).split(\".\")[0]+\".pickle\"\n",
    "    output_filename = os.path.basename(input_filename).split(\".\")[0]+\".json\"\n",
    "\n",
    "    with open(input_filename, 'rb') as f:\n",
    "        info_params = pickle.load(f)\n",
    "\n",
    "    data_json = convert_dict_to_json(info_params, None)\n",
    "    with open(output_filename , 'w') as f:\n",
    "        json.dump(data_json, f, indent=4)\n",
    "\n",
    "    # load from JSON file\n",
    "    with open(output_filename, 'r') as f:\n",
    "        loaded_data_json = json.load(f)\n",
    "    data = convert_json_to_dict(loaded_data_json)"
   ]
  },
  {
   "cell_type": "code",
   "execution_count": null,
   "id": "15",
   "metadata": {},
   "outputs": [],
   "source": []
  }
 ],
 "metadata": {
  "kernelspec": {
   "display_name": "conda_py314",
   "language": "python",
   "name": "conda_py314"
  },
  "language_info": {
   "codemirror_mode": {
    "name": "ipython",
    "version": 3
   },
   "file_extension": ".py",
   "mimetype": "text/x-python",
   "name": "python",
   "nbconvert_exporter": "python",
   "pygments_lexer": "ipython3",
   "version": "3.14.0"
  }
 },
 "nbformat": 4,
 "nbformat_minor": 5
}
