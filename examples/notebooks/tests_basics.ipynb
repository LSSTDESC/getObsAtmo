{
 "cells": [
  {
   "cell_type": "markdown",
   "id": "d5d58322-4791-4bff-9c51-916d345e085e",
   "metadata": {},
   "source": [
    "# Basic tests\n",
    "\n",
    "- author : Sylvie Dagoret-Campagne\n",
    "- affiliation : IJCLab/IN2P3/CNRS\n",
    "- creation date : 2023/11/01\n",
    "- update : 2024/08/27\n",
    "- last update : 2025/06/15\n",
    "- last update : 2025/10/15 : getObsAtmo version 0.2.0"
   ]
  },
  {
   "cell_type": "code",
   "execution_count": null,
   "id": "559e0924-86bd-43db-a01e-52081365ec60",
   "metadata": {},
   "outputs": [],
   "source": [
    "import getObsAtmo\n",
    "from getObsAtmo.getObsAtmo import ObsAtmo,Dict_Of_sitesPressures,_getPackageDir,get_obssite_dataframe,get_obssite_keys,is_obssite"
   ]
  },
  {
   "cell_type": "markdown",
   "id": "093dd06d-9dc3-4e19-b8ed-bc6b42b7b544",
   "metadata": {},
   "source": [
    "### Check getObsAtmo version"
   ]
  },
  {
   "cell_type": "code",
   "execution_count": null,
   "id": "9b2a0d23-cd42-48b3-801f-afd8a310936c",
   "metadata": {},
   "outputs": [],
   "source": [
    "print(f\"{getObsAtmo.__name__} version {getObsAtmo._version.__version__}\")"
   ]
  },
  {
   "cell_type": "markdown",
   "id": "ae725422-ec9e-4ee4-bc95-012499cf117c",
   "metadata": {},
   "source": [
    "### Check package path"
   ]
  },
  {
   "cell_type": "code",
   "execution_count": null,
   "id": "bb4a4fcc-e721-455e-9719-1aff73573b02",
   "metadata": {},
   "outputs": [],
   "source": [
    "_getPackageDir()"
   ]
  },
  {
   "cell_type": "markdown",
   "id": "d576c2fb-daf7-4aa9-bf2c-cb5ccff91716",
   "metadata": {},
   "source": [
    "### Check Data"
   ]
  },
  {
   "cell_type": "code",
   "execution_count": null,
   "id": "8bf39dcb-64b2-4ef9-a34e-5066d58c7959",
   "metadata": {
    "tags": []
   },
   "outputs": [],
   "source": [
    "Dict_Of_sitesPressures"
   ]
  },
  {
   "cell_type": "markdown",
   "id": "5ecc7c4c-57ab-466e-94c1-eebaf61c3b2a",
   "metadata": {},
   "source": [
    "### Pandas dataframe including the observatories in the package"
   ]
  },
  {
   "cell_type": "code",
   "execution_count": null,
   "id": "c8e905f7-217b-4a94-9aa5-f666a182f446",
   "metadata": {},
   "outputs": [],
   "source": [
    "print(get_obssite_dataframe())"
   ]
  },
  {
   "cell_type": "code",
   "execution_count": null,
   "id": "bd14d37f-e514-4061-9d71-3cc5009971a4",
   "metadata": {},
   "outputs": [],
   "source": [
    "df = get_obssite_dataframe()"
   ]
  },
  {
   "cell_type": "code",
   "execution_count": null,
   "id": "fc3b2bc0-8588-4311-a98a-246bd3f571b1",
   "metadata": {},
   "outputs": [],
   "source": [
    "df.index"
   ]
  },
  {
   "cell_type": "code",
   "execution_count": null,
   "id": "88329e10-d9f2-4a64-9aaa-37f3c4aa3930",
   "metadata": {},
   "outputs": [],
   "source": [
    "get_obssite_keys('lsst')"
   ]
  },
  {
   "cell_type": "markdown",
   "id": "db8019fe-594f-4e3f-901a-433dabc4ed93",
   "metadata": {},
   "source": [
    "### Check labels"
   ]
  },
  {
   "cell_type": "code",
   "execution_count": null,
   "id": "c1a142e8-4c15-41be-a427-5f421340ca2f",
   "metadata": {},
   "outputs": [],
   "source": [
    "label = \"LSST\""
   ]
  },
  {
   "cell_type": "code",
   "execution_count": null,
   "id": "5340a52e-3266-425f-b81e-84b5490ac39d",
   "metadata": {},
   "outputs": [],
   "source": [
    "is_obssite('LSST')"
   ]
  },
  {
   "cell_type": "code",
   "execution_count": null,
   "id": "fe6a9e77-e4b3-4f4c-aacd-4ae2276fbc3c",
   "metadata": {},
   "outputs": [],
   "source": [
    "is_obssite('AUXTEL')"
   ]
  },
  {
   "cell_type": "markdown",
   "id": "ffdf977e-2f4e-46aa-bb56-93f880cf0e95",
   "metadata": {},
   "source": [
    "### Check emul"
   ]
  },
  {
   "cell_type": "code",
   "execution_count": null,
   "id": "14394583-3853-4c06-bdcb-79dfd6946932",
   "metadata": {},
   "outputs": [],
   "source": [
    "emul =  ObsAtmo('LSST')"
   ]
  },
  {
   "cell_type": "code",
   "execution_count": null,
   "id": "7aae351a-5375-4711-b16e-ccc2a350941c",
   "metadata": {},
   "outputs": [],
   "source": [
    "emul.Name"
   ]
  },
  {
   "cell_type": "code",
   "execution_count": null,
   "id": "92c82ec3-f9b1-4cae-9624-f418658ed1dd",
   "metadata": {},
   "outputs": [],
   "source": [
    "emul =  ObsAtmo('CTIO')"
   ]
  },
  {
   "cell_type": "code",
   "execution_count": null,
   "id": "c1856497-6734-47c5-9c1b-5bbf055c211f",
   "metadata": {},
   "outputs": [],
   "source": [
    "emul.Name"
   ]
  },
  {
   "cell_type": "code",
   "execution_count": null,
   "id": "6ca0e88b-e605-4068-a144-ce77b1ba283c",
   "metadata": {},
   "outputs": [],
   "source": [
    "emul =  ObsAtmo('LSST',743.0)"
   ]
  },
  {
   "cell_type": "code",
   "execution_count": null,
   "id": "bba0bceb-14b2-4879-9652-e269ef2e500c",
   "metadata": {},
   "outputs": [],
   "source": [
    "emul.Name"
   ]
  },
  {
   "cell_type": "code",
   "execution_count": null,
   "id": "74050069-a27d-4d6b-bae3-c02cba666274",
   "metadata": {},
   "outputs": [],
   "source": [
    "emul =  ObsAtmo('AuxTel',743.0)"
   ]
  },
  {
   "cell_type": "code",
   "execution_count": null,
   "id": "7246be3c-f43c-41f0-892d-9728fbd2acbd",
   "metadata": {},
   "outputs": [],
   "source": [
    "emul.Name"
   ]
  },
  {
   "cell_type": "markdown",
   "id": "78886051-86d7-4c05-ae81-ab44ebdb0880",
   "metadata": {},
   "source": [
    "### Check wavelengths"
   ]
  },
  {
   "cell_type": "code",
   "execution_count": null,
   "id": "88c4ee68-99e9-482b-b59e-6ed90c367369",
   "metadata": {},
   "outputs": [],
   "source": [
    "wl = [400.,800.,900.]\n",
    "am=1.2\n",
    "pwv =4.0\n",
    "oz=300.\n",
    "transm = emul.GetAllTransparencies(wl,am,pwv,oz)"
   ]
  },
  {
   "cell_type": "code",
   "execution_count": null,
   "id": "b6a0fda3-42ba-40ef-9e76-1fd6d206b975",
   "metadata": {},
   "outputs": [],
   "source": [
    "    >>> print(\"wavelengths (nm) \\t = \",wl)\n",
    "    >>> print(\"transmissions    \\t = \",transm)    "
   ]
  },
  {
   "cell_type": "code",
   "execution_count": null,
   "id": "718fcef4-d72d-4e3f-8aa0-b4e5e49c6ce0",
   "metadata": {},
   "outputs": [],
   "source": [
    "print(wl)"
   ]
  },
  {
   "cell_type": "code",
   "execution_count": null,
   "id": "cdda946f-6f46-4355-b92c-c9043116596d",
   "metadata": {},
   "outputs": [],
   "source": [
    "print(transm)"
   ]
  },
  {
   "cell_type": "code",
   "execution_count": null,
   "id": "78f4cd88-f5df-4dc5-8164-ce7d564bbd00",
   "metadata": {},
   "outputs": [],
   "source": [
    "emul = ObsAtmo()\n",
    "array = emul.GetAllTransparencies([300.,400.,600.,800.,1000.],1,0,0)"
   ]
  },
  {
   "cell_type": "code",
   "execution_count": null,
   "id": "4dba3df6-22b3-4420-acc7-11175373e3f8",
   "metadata": {},
   "outputs": [],
   "source": [
    "array"
   ]
  },
  {
   "cell_type": "markdown",
   "id": "5b0c15c0-e352-44c2-8a2b-7f42078a6a71",
   "metadata": {},
   "source": [
    "### Knowledge about the data grid"
   ]
  },
  {
   "cell_type": "code",
   "execution_count": null,
   "id": "b7da7ff1-13ae-4b7b-aea4-1d3ae142c396",
   "metadata": {},
   "outputs": [],
   "source": [
    "emul.WL[0:10]"
   ]
  },
  {
   "cell_type": "code",
   "execution_count": null,
   "id": "e86e6616-6c97-4553-8ef9-3d8f49296b18",
   "metadata": {},
   "outputs": [],
   "source": [
    "emul.WL[-10:]"
   ]
  },
  {
   "cell_type": "code",
   "execution_count": null,
   "id": "3f872c8e-f5a7-45d0-b8f4-117908978355",
   "metadata": {},
   "outputs": [],
   "source": [
    "emul.AIRMASS"
   ]
  },
  {
   "cell_type": "code",
   "execution_count": null,
   "id": "3cf35430-a16a-4f28-a5cc-a6f70da0a503",
   "metadata": {},
   "outputs": [],
   "source": [
    "emul.PWV"
   ]
  },
  {
   "cell_type": "code",
   "execution_count": null,
   "id": "7dfbbbcc-9448-4798-b2eb-d999f63354d4",
   "metadata": {},
   "outputs": [],
   "source": [
    "emul.OZ"
   ]
  },
  {
   "cell_type": "code",
   "execution_count": null,
   "id": "bfab8464-4967-43ab-8102-c3b153828189",
   "metadata": {},
   "outputs": [],
   "source": []
  }
 ],
 "metadata": {
  "kernelspec": {
   "display_name": "conda_py312_getobsatmo",
   "language": "python",
   "name": "conda_py312_getobsatmo"
  },
  "language_info": {
   "codemirror_mode": {
    "name": "ipython",
    "version": 3
   },
   "file_extension": ".py",
   "mimetype": "text/x-python",
   "name": "python",
   "nbconvert_exporter": "python",
   "pygments_lexer": "ipython3",
   "version": "3.12.12"
  },
  "vscode": {
   "interpreter": {
    "hash": "b002c99f66c5bb850ebba7ae0c2124f7695114407038504fe88ddf9182cfa7d8"
   }
  }
 },
 "nbformat": 4,
 "nbformat_minor": 5
}
