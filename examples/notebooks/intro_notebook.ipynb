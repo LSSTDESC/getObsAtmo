{
 "cells": [
  {
   "cell_type": "markdown",
   "id": "0",
   "metadata": {},
   "source": [
    "# Introduction to getObsAtmo"
   ]
  },
  {
   "cell_type": "markdown",
   "id": "1",
   "metadata": {},
   "source": [
    "- atuhor : Sylvie Dagoret-Campagne\n",
    "- affiliation : IJCLab/IN2P3/CNRS\n",
    "- creation date : 2025/10/17\n",
    "- last update : 2025/10/17 : getObsAtmo version 0.2.2 , py312,py313\n",
    "- last update : 2025/10/18 : getObsAtmo version 0.2.2, py314"
   ]
  },
  {
   "cell_type": "markdown",
   "id": "2",
   "metadata": {},
   "source": [
    "**Goal** : Top page to access to notebooks"
   ]
  },
  {
   "cell_type": "markdown",
   "id": "3",
   "metadata": {},
   "source": [
    "## Notebook demonstrating the use of getObsAtmo"
   ]
  },
  {
   "cell_type": "markdown",
   "id": "4",
   "metadata": {},
   "source": [
    "- [demo_notebook.ipynb](demo_notebook.ipynb)"
   ]
  },
  {
   "cell_type": "markdown",
   "id": "5",
   "metadata": {},
   "source": [
    "## Notebook showing the altitude of the different observatory sites defined in getObsAtmo\n",
    "\n",
    "- This notebook illustrates the use of the atmospheric analytical package `atmanalyticalmodels`"
   ]
  },
  {
   "cell_type": "markdown",
   "id": "6",
   "metadata": {},
   "source": [
    "- [AtmosphericPressureDensityProfiles.ipynb](AtmosphericPressureDensityProfiles.ipynb)"
   ]
  },
  {
   "cell_type": "markdown",
   "id": "7",
   "metadata": {},
   "source": [
    "## Notebook for comparing Rayleigh scattering with analytical model\n",
    "\n",
    "- This notebook illustrates the use of the atmospheric analytical package `atmanalyticalmodels`"
   ]
  },
  {
   "cell_type": "markdown",
   "id": "8",
   "metadata": {},
   "source": [
    "- [compareRayleighScattAnalyticalModel_notebook.ipynb](compareRayleighScattAnalyticalModel_notebook.ipynb)"
   ]
  },
  {
   "cell_type": "markdown",
   "id": "9",
   "metadata": {},
   "source": [
    "## Tools"
   ]
  },
  {
   "cell_type": "markdown",
   "id": "10",
   "metadata": {},
   "source": [
    "- Convert header files in json to pickle : [ConvertJsonToPickle.ipynb](ConvertJsonToPickle.ipynb)                          \n",
    "- Convert header files in pickle to json : [ConvertPicklesToJson.ipynb](ConvertPicklesToJson.ipynb)                         \n",
    "- Basic tests : [tests_basics.ipynb](tests_basics.ipynb)\n"
   ]
  },
  {
   "cell_type": "code",
   "execution_count": null,
   "id": "11",
   "metadata": {},
   "outputs": [],
   "source": []
  }
 ],
 "metadata": {
  "kernelspec": {
   "display_name": "conda_py312_getobsatmo",
   "language": "python",
   "name": "conda_py312_getobsatmo"
  },
  "language_info": {
   "codemirror_mode": {
    "name": "ipython",
    "version": 3
   },
   "file_extension": ".py",
   "mimetype": "text/x-python",
   "name": "python",
   "nbconvert_exporter": "python",
   "pygments_lexer": "ipython3",
   "version": "3.12.12"
  }
 },
 "nbformat": 4,
 "nbformat_minor": 5
}
