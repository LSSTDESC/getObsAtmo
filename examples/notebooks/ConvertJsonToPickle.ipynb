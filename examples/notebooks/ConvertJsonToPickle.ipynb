{
 "cells": [
  {
   "cell_type": "markdown",
   "id": "0",
   "metadata": {},
   "source": [
    "# Convert Json To Pickles"
   ]
  },
  {
   "cell_type": "markdown",
   "id": "1",
   "metadata": {},
   "source": [
    "- author : Sylvie Dagoret-Campagne\n",
    "- affiliation : IJCLab/IN2P3/CNRS\n",
    "- creation date : 2025/10/15\n",
    "- last update : 2025/10/15 : getObsAtmo version 0.2.0"
   ]
  },
  {
   "cell_type": "code",
   "execution_count": null,
   "id": "2",
   "metadata": {},
   "outputs": [],
   "source": [
    "import os,sys\n",
    "import pickle\n",
    "import numpy as np\n",
    "import json\n",
    "import pandas as pd\n",
    "from typing import Any, Dict, Optional"
   ]
  },
  {
   "cell_type": "code",
   "execution_count": null,
   "id": "3",
   "metadata": {},
   "outputs": [],
   "source": [
    "import getObsAtmo\n",
    "from getObsAtmo.getObsAtmo import ObsAtmo,validateObsName,Dict_Of_sitesPressures,_getPackageDir,get_obssite_dataframe,get_obssite_keys,is_obssite,file_data_dict \n",
    "from getObsAtmo.getObsAtmo import convert_dict_to_json,convert_json_to_dict"
   ]
  },
  {
   "cell_type": "markdown",
   "id": "4",
   "metadata": {},
   "source": [
    "## Config"
   ]
  },
  {
   "cell_type": "markdown",
   "id": "5",
   "metadata": {},
   "source": [
    "### version"
   ]
  },
  {
   "cell_type": "code",
   "execution_count": null,
   "id": "6",
   "metadata": {},
   "outputs": [
    {
     "name": "stdout",
     "output_type": "stream",
     "text": [
      "getObsAtmo version 0.2.2\n"
     ]
    }
   ],
   "source": [
    "print(f\"{getObsAtmo.__name__} version {getObsAtmo._version.__version__}\")"
   ]
  },
  {
   "cell_type": "markdown",
   "id": "7",
   "metadata": {},
   "source": [
    "### Observatories"
   ]
  },
  {
   "cell_type": "code",
   "execution_count": null,
   "id": "8",
   "metadata": {},
   "outputs": [],
   "source": [
    "df = get_obssite_dataframe()\n",
    "all_OBS_tag = df.index "
   ]
  },
  {
   "cell_type": "markdown",
   "id": "9",
   "metadata": {},
   "source": [
    "### data path"
   ]
  },
  {
   "cell_type": "code",
   "execution_count": null,
   "id": "10",
   "metadata": {},
   "outputs": [],
   "source": [
    "# construct the path of input data file\n",
    "path = os.path.join(_getPackageDir(), 'obsatmo_data')"
   ]
  },
  {
   "cell_type": "markdown",
   "id": "11",
   "metadata": {},
   "source": [
    "## Generate files"
   ]
  },
  {
   "cell_type": "code",
   "execution_count": null,
   "id": "12",
   "metadata": {},
   "outputs": [],
   "source": [
    "for OBS_tag in all_OBS_tag:\n",
    "\n",
    "    info_params = {}\n",
    "\n",
    "    # load all data files (training and test)\n",
    "    input_filename = os.path.join(path, OBS_tag + \"_\" + file_data_dict[\"info\"])\n",
    "    output_filename = os.path.basename(input_filename).split(\".\")[0]+\".pickle\"\n",
    "\n",
    "    with open(input_filename, 'r') as f:\n",
    "        loaded_data_json = json.load(f)\n",
    "        data_dict = convert_json_to_dict(loaded_data_json)\n",
    "\n",
    "    with open(output_filename, \"wb\") as f:  # \"wb\" = write binary\n",
    "        pickle.dump(data_dict, f)\n",
    "\n",
    "    # load from pickle file\n",
    "    with open(output_filename, \"rb\") as f:  # \"rb\" = read binary\n",
    "        loaded_dict = pickle.load(f)\n"
   ]
  }
 ],
 "metadata": {
  "kernelspec": {
   "display_name": "conda_py314",
   "language": "python",
   "name": "conda_py314"
  },
  "language_info": {
   "codemirror_mode": {
    "name": "ipython",
    "version": 3
   },
   "file_extension": ".py",
   "mimetype": "text/x-python",
   "name": "python",
   "nbconvert_exporter": "python",
   "pygments_lexer": "ipython3",
   "version": "3.14.0"
  }
 },
 "nbformat": 4,
 "nbformat_minor": 5
}
