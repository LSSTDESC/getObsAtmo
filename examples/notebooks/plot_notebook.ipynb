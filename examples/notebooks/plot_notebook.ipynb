{
 "cells": [
  {
   "cell_type": "markdown",
   "id": "0",
   "metadata": {},
   "source": [
    "# Introduction on ``getObsAtmo``, the emulator for atmospheric transparency at Astronomy Observation sites \n",
    "\n",
    "- author : Sylvie Dagoret-Campagne\n",
    "- affiliation : IJCLab/IN2P3/CNRS\n",
    "- creation date : 2023/12/02\n",
    "- update : 2024/08/27\n",
    "- last update : 2025/06/15\n",
    "- last update : 2025/10/15 : getObsAtmo version 0.2.0\n",
    "\n",
    "This emulator is based from datagrid of atmospheric transparencies extracted from libradtran"
   ]
  },
  {
   "cell_type": "code",
   "execution_count": null,
   "id": "1",
   "metadata": {
    "tags": []
   },
   "outputs": [],
   "source": [
    "import seaborn as sns\n",
    "import matplotlib.pyplot as plt\n",
    "%matplotlib inline\n",
    "import numpy as np\n",
    "\n",
    "# to enlarge the sizes\n",
    "params = {'legend.fontsize': 'large',\n",
    "          'figure.figsize': (12, 6),\n",
    "         'axes.labelsize': 'xx-large',\n",
    "         'axes.titlesize':'xx-large',\n",
    "         'xtick.labelsize':'xx-large',\n",
    "         'ytick.labelsize':'xx-large'}\n",
    "plt.rcParams.update(params)"
   ]
  },
  {
   "cell_type": "code",
   "execution_count": null,
   "id": "2",
   "metadata": {
    "tags": []
   },
   "outputs": [],
   "source": [
    "import warnings\n",
    "warnings.filterwarnings('ignore')"
   ]
  },
  {
   "cell_type": "markdown",
   "id": "3",
   "metadata": {},
   "source": [
    "# Imports"
   ]
  },
  {
   "cell_type": "code",
   "execution_count": null,
   "id": "4",
   "metadata": {},
   "outputs": [],
   "source": [
    "import getObsAtmo\n",
    "from getObsAtmo.getObsAtmo import ObsAtmo,validateObsName,Dict_Of_sitesPressures,_getPackageDir,get_obssite_dataframe,get_obssite_keys,is_obssite"
   ]
  },
  {
   "cell_type": "markdown",
   "id": "5",
   "metadata": {},
   "source": [
    "## Check information"
   ]
  },
  {
   "cell_type": "markdown",
   "id": "6",
   "metadata": {},
   "source": [
    "### getObsAtmo version"
   ]
  },
  {
   "cell_type": "code",
   "execution_count": null,
   "id": "7",
   "metadata": {},
   "outputs": [],
   "source": [
    "print(f\"{getObsAtmo.__name__} version {getObsAtmo._version.__version__}\")"
   ]
  },
  {
   "cell_type": "code",
   "execution_count": null,
   "id": "8",
   "metadata": {},
   "outputs": [],
   "source": [
    "the_version = getObsAtmo._version.__version__"
   ]
  },
  {
   "cell_type": "markdown",
   "id": "9",
   "metadata": {},
   "source": [
    "### Dictionnary of pressures"
   ]
  },
  {
   "cell_type": "code",
   "execution_count": null,
   "id": "10",
   "metadata": {
    "tags": []
   },
   "outputs": [],
   "source": [
    "Dict_Of_sitesPressures"
   ]
  },
  {
   "cell_type": "markdown",
   "id": "11",
   "metadata": {},
   "source": [
    "### Choose Rubin-LSST observation sites but other sites may be chosen"
   ]
  },
  {
   "cell_type": "code",
   "execution_count": null,
   "id": "12",
   "metadata": {
    "tags": []
   },
   "outputs": [],
   "source": [
    "obssitename = 'AuxTel '\n",
    "obs_str = validateObsName(obssitename) \n",
    "std_pressure = Dict_Of_sitesPressures[obs_str]\n",
    "new_pressure = Dict_Of_sitesPressures[obs_str]*1.1\n",
    "print(new_pressure)\n",
    "\n",
    "label1 = f\"P = {std_pressure:.0f} hPa\"\n",
    "label2 = f\"P = {new_pressure:.0f} hPa\""
   ]
  },
  {
   "cell_type": "code",
   "execution_count": null,
   "id": "13",
   "metadata": {},
   "outputs": [],
   "source": [
    "emul1 =  ObsAtmo(obs_str= obssitename)\n",
    "emul2 =  ObsAtmo(obs_str= obssitename,pressure = new_pressure)"
   ]
  },
  {
   "cell_type": "markdown",
   "id": "14",
   "metadata": {},
   "source": [
    "# Typical transmission plot\n",
    "\n",
    "- show a typical transmission plot"
   ]
  },
  {
   "cell_type": "code",
   "execution_count": null,
   "id": "15",
   "metadata": {},
   "outputs": [],
   "source": [
    "emul1.plot_transmission()"
   ]
  },
  {
   "cell_type": "markdown",
   "id": "16",
   "metadata": {},
   "source": [
    "# Setting atmospheric parameters"
   ]
  },
  {
   "cell_type": "code",
   "execution_count": null,
   "id": "17",
   "metadata": {},
   "outputs": [],
   "source": [
    "WL = emul1.GetWL()\n",
    "airmasses = emul1.AIRMASS\n",
    "NAM = len(airmasses)\n",
    "pwvs = emul1.PWV\n",
    "NPWV = len(pwvs)\n",
    "ozs = emul1.OZ\n",
    "NOZ = len(ozs)"
   ]
  },
  {
   "cell_type": "code",
   "execution_count": null,
   "id": "18",
   "metadata": {},
   "outputs": [],
   "source": [
    "hls_colors = sns.color_palette(\"hls\", NAM)\n",
    "sns.palplot(hls_colors)"
   ]
  },
  {
   "cell_type": "markdown",
   "id": "19",
   "metadata": {},
   "source": [
    "## Check emulator with Rayleigh scattering"
   ]
  },
  {
   "cell_type": "code",
   "execution_count": null,
   "id": "20",
   "metadata": {},
   "outputs": [],
   "source": [
    "fig, ax = plt.subplots()\n",
    "for idx,am in enumerate(airmasses):\n",
    "\n",
    "    transm1 = emul1.GetRayleighTransparencyArray(WL,am)\n",
    "    transm2 = emul2.GetRayleighTransparencyArray(WL,am)\n",
    "    \n",
    "    if idx == 0:\n",
    "        ax.plot(WL,transm1,\":\",color=hls_colors[idx],label=label1)\n",
    "        ax.plot(WL,transm2,\"-\",color=hls_colors[idx],label=label2)\n",
    "    else:\n",
    "        ax.plot(WL,transm1,\":\",color=hls_colors[idx])\n",
    "        ax.plot(WL,transm2,\"-\",color=hls_colors[idx])\n",
    "    \n",
    "title = f\"{getObsAtmo.__name__} : Rayleigh scattering for different pressures (version {the_version})\"\n",
    "ax.set_title(title)\n",
    "ax.set_xlabel(\"$\\lambda$ (nm)\")\n",
    "ax.set_ylabel(\"transmission\")\n",
    "# place a text box in upper left in axes coords\n",
    "#ax.text(0.5, 0.05, textboxstr, transform=ax.transAxes, fontsize=14,verticalalignment='bottom', bbox=textboxprops)\n",
    "ax.grid()\n",
    "ax.legend()\n"
   ]
  },
  {
   "cell_type": "markdown",
   "id": "21",
   "metadata": {},
   "source": [
    "## Check emulator with Oxygen O2 absorption"
   ]
  },
  {
   "cell_type": "code",
   "execution_count": null,
   "id": "22",
   "metadata": {},
   "outputs": [],
   "source": [
    "fig, ax = plt.subplots()\n",
    "for idx,am in enumerate(airmasses):\n",
    "\n",
    "    transm1 = emul1.GetO2absTransparencyArray(WL,am)\n",
    "    transm2 = emul2.GetO2absTransparencyArray(WL,am)\n",
    "    \n",
    "    if idx == 0:\n",
    "        ax.plot(WL,transm1,\":\",color=hls_colors[idx],label=label1)\n",
    "        ax.plot(WL,transm2,\"-\",color=hls_colors[idx],label=label2)\n",
    "    else:\n",
    "        ax.plot(WL,transm1,\":\",color=hls_colors[idx])\n",
    "        ax.plot(WL,transm2,\"-\",color=hls_colors[idx])\n",
    "        \n",
    "\n",
    "title = f\"{getObsAtmo.__name__} : O2 absorption for different pressures (version {the_version})\"\n",
    "ax.set_title(title)\n",
    "ax.set_xlabel(\"$\\lambda$ (nm)\")\n",
    "ax.set_ylabel(\"transmission\")\n",
    "ax.set_xlim(600.,800.)\n",
    "# place a text box in upper left in axes coords\n",
    "#ax.text(0.5, 0.05, textboxstr, transform=ax.transAxes, fontsize=14,verticalalignment='bottom', bbox=textboxprops)\n",
    "ax.grid()\n",
    "ax.legend()"
   ]
  },
  {
   "cell_type": "markdown",
   "id": "23",
   "metadata": {},
   "source": [
    "### Zoom at the O2 abs line at 760 nm"
   ]
  },
  {
   "cell_type": "code",
   "execution_count": null,
   "id": "24",
   "metadata": {
    "tags": []
   },
   "outputs": [],
   "source": [
    "fig, ax = plt.subplots()\n",
    "for idx,am in enumerate(airmasses):\n",
    "\n",
    "    transm1 = emul1.GetO2absTransparencyArray(WL,am)\n",
    "    transm2 = emul2.GetO2absTransparencyArray(WL,am)\n",
    "    \n",
    "    if idx == 0:\n",
    "        ax.plot(WL,transm1,\":\",color=hls_colors[idx],label=label1)\n",
    "        ax.plot(WL,transm2,\"-\",color=hls_colors[idx],label=label2)\n",
    "    else:\n",
    "        ax.plot(WL,transm1,\":\",color=hls_colors[idx])\n",
    "        ax.plot(WL,transm2,\"-\",color=hls_colors[idx])\n",
    "        \n",
    "\n",
    "title = f\"ObsAtmo : O2 absorption for different pressures (version {the_version})\"\n",
    "ax.set_title(title)\n",
    "ax.set_xlabel(\"$\\lambda$ (nm)\")\n",
    "ax.set_ylabel(\"transmission\")\n",
    "ax.set_xlim(750.,775.)\n",
    "# place a text box in upper left in axes coords\n",
    "#ax.text(0.5, 0.05, textboxstr, transform=ax.transAxes, fontsize=14,verticalalignment='bottom', bbox=textboxprops)\n",
    "ax.grid()\n",
    "ax.legend()"
   ]
  },
  {
   "cell_type": "markdown",
   "id": "25",
   "metadata": {},
   "source": [
    "## Check emulator with PWV absorption"
   ]
  },
  {
   "cell_type": "markdown",
   "id": "26",
   "metadata": {},
   "source": [
    "Expect no difference"
   ]
  },
  {
   "cell_type": "code",
   "execution_count": null,
   "id": "27",
   "metadata": {},
   "outputs": [],
   "source": [
    "hls_colors = sns.color_palette(\"hls\", NPWV)\n",
    "sns.palplot(hls_colors)"
   ]
  },
  {
   "cell_type": "code",
   "execution_count": null,
   "id": "28",
   "metadata": {},
   "outputs": [],
   "source": [
    "am =1\n",
    "\n",
    "fig, ax = plt.subplots()\n",
    "for idx,pwv in enumerate(pwvs):\n",
    "\n",
    "    transm1 = emul1.GetPWVabsTransparencyArray(WL,am,pwv)\n",
    "    transm2 = emul2.GetPWVabsTransparencyArray(WL,am,pwv)\n",
    "    \n",
    "    if idx == 0:\n",
    "        ax.plot(WL,transm1,\":\",color=hls_colors[idx],label=label1)\n",
    "        ax.plot(WL,transm2,\"-\",color=hls_colors[idx],label=label2)\n",
    "    else:\n",
    "        ax.plot(WL,transm1,\":\",color=hls_colors[idx])\n",
    "        ax.plot(WL,transm2,\"-\",color=hls_colors[idx])\n",
    "        \n",
    "\n",
    "title = f\"{getObsAtmo.__name__} : H2O absorption for different pressures, am = {am:.1f} (version {the_version})\"\n",
    "ax.set_title(title)\n",
    "ax.set_xlabel(\"$\\lambda$ (nm)\")\n",
    "ax.set_ylabel(\"transmission\")\n",
    "ax.set_xlim(700.,1000.)\n",
    "# place a text box in upper left in axes coords\n",
    "#ax.text(0.5, 0.05, textboxstr, transform=ax.transAxes, fontsize=14,verticalalignment='bottom', bbox=textboxprops)\n",
    "ax.grid()\n",
    "ax.legend()\n",
    "\n"
   ]
  },
  {
   "cell_type": "code",
   "execution_count": null,
   "id": "29",
   "metadata": {},
   "outputs": [],
   "source": [
    "pwvs"
   ]
  },
  {
   "cell_type": "markdown",
   "id": "30",
   "metadata": {},
   "source": [
    "## Check emulator with Ozone absorption\n",
    "\n",
    "- expect no difference"
   ]
  },
  {
   "cell_type": "code",
   "execution_count": null,
   "id": "31",
   "metadata": {},
   "outputs": [],
   "source": [
    "hls_colors = sns.color_palette(\"hls\", NOZ)\n",
    "sns.palplot(hls_colors)"
   ]
  },
  {
   "cell_type": "code",
   "execution_count": null,
   "id": "32",
   "metadata": {
    "tags": []
   },
   "outputs": [],
   "source": [
    "am =1\n",
    "\n",
    "fig, ax = plt.subplots()\n",
    "for idx,oz in enumerate(ozs):\n",
    "\n",
    "    transm1 = emul1.GetOZabsTransparencyArray(WL,am,oz)\n",
    "    transm2 = emul2.GetOZabsTransparencyArray(WL,am,oz)\n",
    "    \n",
    "    if idx == 0:\n",
    "        ax.plot(WL,transm1,\":\",color=hls_colors[idx],label=label1)\n",
    "        ax.plot(WL,transm2,\"-\",color=hls_colors[idx],label=label2)\n",
    "    else:\n",
    "        ax.plot(WL,transm1,\":\",color=hls_colors[idx])\n",
    "        ax.plot(WL,transm2,\"-\",color=hls_colors[idx])\n",
    "        \n",
    "\n",
    "title = f\"{getObsAtmo.__name__} : Ozone absorption for different pressure, am = {am:.1f} (version {the_version})\"\n",
    "ax.set_title(title)\n",
    "ax.set_xlabel(\"$\\lambda$ (nm)\")\n",
    "ax.set_ylabel(\"transmission\")\n",
    "ax.set_xlim(300.,800.)\n",
    "ax.set_ylim(0.9,1.0)\n",
    "# place a text box in upper left in axes coords\n",
    "#ax.text(0.5, 0.05, textboxstr, transform=ax.transAxes, fontsize=14,verticalalignment='bottom', bbox=textboxprops)\n",
    "ax.grid()\n",
    "ax.legend()\n",
    "\n"
   ]
  },
  {
   "cell_type": "markdown",
   "id": "33",
   "metadata": {},
   "source": [
    "## Check emulator with combined ascattering and absorption process and check with libradtran"
   ]
  },
  {
   "cell_type": "code",
   "execution_count": null,
   "id": "34",
   "metadata": {},
   "outputs": [],
   "source": [
    "am0 = 1.0\n",
    "pwv0 = 5.0\n",
    "oz0 = 500.\n",
    "transm1 = emul1.GetGriddedTransparencies(WL,am0,pwv0,oz0,flagRayleigh=True)\n",
    "transm2 = emul2.GetGriddedTransparencies(WL,am0,pwv0,oz0,flagRayleigh=True)"
   ]
  },
  {
   "cell_type": "code",
   "execution_count": null,
   "id": "35",
   "metadata": {},
   "outputs": [],
   "source": [
    "fig, ax = plt.subplots()\n",
    "\n",
    "ax.plot(WL,transm1,'b-',label=label1)\n",
    "ax.plot(WL,transm2,'r-',label=label2)\n",
    "\n",
    "title = f\"{getObsAtmo.__name__} : total transmission, am = {am0:.1f} (version {the_version})\"\n",
    "ax.set_title(title)\n",
    "ax.set_xlabel(\"$\\lambda$ (nm)\")\n",
    "ax.set_ylabel(\"transmission\")\n",
    "# place a text box in upper left in axes coords\n",
    "#ax.text(0.5, 0.05, textboxstr, transform=ax.transAxes, fontsize=14,verticalalignment='bottom', bbox=textboxprops)\n",
    "ax.grid()\n",
    "ax.legend()"
   ]
  },
  {
   "cell_type": "markdown",
   "id": "36",
   "metadata": {},
   "source": [
    "### Zoom at O2 absorption lines"
   ]
  },
  {
   "cell_type": "code",
   "execution_count": null,
   "id": "37",
   "metadata": {
    "tags": []
   },
   "outputs": [],
   "source": [
    "fig, ax = plt.subplots()\n",
    "\n",
    "ax.plot(WL,transm1,'b-',label=label1)\n",
    "ax.plot(WL,transm2,'r-',label=label2)\n",
    "\n",
    "title = f\"{getObsAtmo.__name__} : total transmission, am = {am0:.1f} (version {the_version})\"\n",
    "ax.set_title(title)\n",
    "ax.set_xlabel(\"$\\lambda$ (nm)\")\n",
    "ax.set_ylabel(\"transmission\")\n",
    "ax.set_xlim(660.,800.)\n",
    "# place a text box in upper left in axes coords\n",
    "#ax.text(0.5, 0.05, textboxstr, transform=ax.transAxes, fontsize=14,verticalalignment='bottom', bbox=textboxprops)\n",
    "ax.grid()\n",
    "ax.legend()"
   ]
  },
  {
   "cell_type": "markdown",
   "id": "38",
   "metadata": {},
   "source": [
    "## Check aerosols"
   ]
  },
  {
   "cell_type": "code",
   "execution_count": null,
   "id": "39",
   "metadata": {},
   "outputs": [],
   "source": [
    "all_taus = np.arange(0,0.3,0.05)\n",
    "NAER = len(all_taus) \n",
    "hls_colors = sns.color_palette(\"hls\", NAER)\n",
    "sns.palplot(hls_colors)"
   ]
  },
  {
   "cell_type": "code",
   "execution_count": null,
   "id": "40",
   "metadata": {},
   "outputs": [],
   "source": [
    "fig, ax = plt.subplots()\n",
    "for index,tau in enumerate(all_taus):\n",
    "    transm = emul1.GetAerosolsTransparencies(WL,am,tau) \n",
    "    label = r\"$\\tau$ =\" + f\"{tau:.2f}\"\n",
    "    ax.plot(WL,transm,color=hls_colors[index],label=label)\n",
    "title = f\"ObsAtmo : aerosol transmission, airmass = {am:.1f} (version {the_version})\"\n",
    "ax.set_title(title)\n",
    "ax.set_xlabel(\"$\\lambda$ (nm)\")\n",
    "ax.set_ylabel(\"transmission\")\n",
    "# place a text box in upper left in axes coords\n",
    "#ax.text(0.5, 0.05, textboxstr, transform=ax.transAxes, fontsize=14,verticalalignment='bottom', bbox=textboxprops)\n",
    "ax.grid()\n",
    "ax.legend()\n",
    "ax.set_ylim(0,1)"
   ]
  },
  {
   "cell_type": "code",
   "execution_count": null,
   "id": "41",
   "metadata": {},
   "outputs": [],
   "source": [
    "all_betas = np.arange(0.1,2.5,0.2)\n",
    "NAER = len(all_betas) \n",
    "hls_colors = sns.color_palette(\"hls\", NAER)\n",
    "sns.palplot(hls_colors)\n",
    "tau = 0.1"
   ]
  },
  {
   "cell_type": "code",
   "execution_count": null,
   "id": "42",
   "metadata": {},
   "outputs": [],
   "source": [
    "fig, ax = plt.subplots()\n",
    "for index,beta in enumerate(all_betas):\n",
    "    transm = emul1.GetAerosolsTransparencies(WL,am,tau,beta) \n",
    "    label = r\"$\\beta$ =\" + f\"{beta:.2f}\"\n",
    "    ax.plot(WL,transm,color=hls_colors[index],label=label)\n",
    "title = f\"ObsAtmo : aerosol transmission, airmass = {am:.1f}, tau = {tau:.2f} (version {the_version})\"\n",
    "ax.set_title(title)\n",
    "ax.set_xlabel(\"$\\lambda$ (nm)\")\n",
    "ax.set_ylabel(\"transmission\")\n",
    "# place a text box in upper left in axes coords\n",
    "#ax.text(0.5, 0.05, textboxstr, transform=ax.transAxes, fontsize=14,verticalalignment='bottom', bbox=textboxprops)\n",
    "ax.grid()\n",
    "ax.legend()\n",
    "ax.set_ylim(0.5,1.05)"
   ]
  },
  {
   "cell_type": "markdown",
   "id": "43",
   "metadata": {},
   "source": [
    "## The standard way to call atmospheric transmission"
   ]
  },
  {
   "cell_type": "code",
   "execution_count": null,
   "id": "44",
   "metadata": {},
   "outputs": [],
   "source": [
    "sorted_site_by_pressure = sorted(Dict_Of_sitesPressures.items(), key=lambda x:x[1])\n",
    "sorted_site_by_pressure"
   ]
  },
  {
   "cell_type": "code",
   "execution_count": null,
   "id": "45",
   "metadata": {},
   "outputs": [],
   "source": [
    "all_sites = sorted_site_by_pressure\n",
    "NSites = len(all_sites)\n",
    "hls_colors = sns.color_palette(\"hls\", NSites)\n",
    "sns.palplot(hls_colors)"
   ]
  },
  {
   "cell_type": "code",
   "execution_count": null,
   "id": "46",
   "metadata": {},
   "outputs": [],
   "source": [
    "am=1\n",
    "pwv = 4.0\n",
    "oz= 400.\n",
    "tau = 0.\n",
    "beta = 3\n",
    "\n",
    "fig, ax = plt.subplots()\n",
    "\n",
    "for idx,site in enumerate(all_sites):\n",
    "\n",
    "    obs_str = site[0]\n",
    "    ref_press = site[1]\n",
    "    \n",
    "    emul = ObsAtmo(obs_str)\n",
    "    pressure= emul.pressure\n",
    "    \n",
    "    label= f\"{obs_str} (P = {pressure:.1f} hPa)\"\n",
    "    \n",
    "    transm = emul.GetAllTransparencies(WL,am,pwv,oz,tau,beta)\n",
    "    ax.plot(WL,transm,'-',color=hls_colors[idx],label=label)\n",
    "\n",
    "title = f\"{getObsAtmo.__name__} : total transmission, airmass = {am:.1f} (version {the_version})\"\n",
    "ax.set_title(title)\n",
    "ax.set_xlabel(\"$\\lambda$ (nm)\")\n",
    "ax.set_ylabel(\"transmission\")\n",
    "# place a text box in upper left in axes coords\n",
    "#ax.text(0.5, 0.05, textboxstr, transform=ax.transAxes, fontsize=14,verticalalignment='bottom', bbox=textboxprops)\n",
    "ax.grid()\n",
    "ax.legend()"
   ]
  },
  {
   "cell_type": "code",
   "execution_count": null,
   "id": "47",
   "metadata": {},
   "outputs": [],
   "source": [
    "am=1\n",
    "pwv = 4.0\n",
    "oz= 400.\n",
    "tau = 0.1\n",
    "beta = 1.2\n",
    "\n",
    "fig, ax = plt.subplots()\n",
    "\n",
    "for idx,site in enumerate(all_sites):\n",
    "\n",
    "    obs_str = site[0]\n",
    "    ref_press = site[1]\n",
    "    \n",
    "    emul = ObsAtmo(obs_str)\n",
    "    pressure= emul.pressure\n",
    "    \n",
    "    label= f\"{obs_str} (P = {pressure:.1f} hPa)\"\n",
    "    \n",
    "    transm = emul.GetAllTransparencies(WL,am,pwv,oz,tau,beta)\n",
    "    ax.plot(WL,transm,'-',color=hls_colors[idx],label=label)\n",
    "\n",
    "title = f\"{getObsAtmo.__name__} : total transmission, airmass = {am:.1f} (version {the_version})\"\n",
    "ax.set_title(title)\n",
    "ax.set_xlabel(\"$\\lambda$ (nm)\")\n",
    "ax.set_ylabel(\"transmission\")\n",
    "ax.set_xlim(750.,775.)\n",
    "# place a text box in upper left in axes coords\n",
    "#ax.text(0.5, 0.05, textboxstr, transform=ax.transAxes, fontsize=14,verticalalignment='bottom', bbox=textboxprops)\n",
    "ax.grid()\n",
    "ax.legend()"
   ]
  }
 ],
 "metadata": {
  "kernelspec": {
   "display_name": "conda_py312_getobsatmo",
   "language": "python",
   "name": "conda_py312_getobsatmo"
  },
  "language_info": {
   "codemirror_mode": {
    "name": "ipython",
    "version": 3
   },
   "file_extension": ".py",
   "mimetype": "text/x-python",
   "name": "python",
   "nbconvert_exporter": "python",
   "pygments_lexer": "ipython3",
   "version": "3.12.12"
  },
  "vscode": {
   "interpreter": {
    "hash": "b002c99f66c5bb850ebba7ae0c2124f7695114407038504fe88ddf9182cfa7d8"
   }
  }
 },
 "nbformat": 4,
 "nbformat_minor": 5
}
